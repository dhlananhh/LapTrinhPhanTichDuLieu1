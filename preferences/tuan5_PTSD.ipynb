{
 "cells": [
  {
   "cell_type": "code",
   "execution_count": 1,
   "metadata": {},
   "outputs": [],
   "source": [
    "import pandas as pd \n",
    "import matplotlib.pyplot as plt\n",
    "import seaborn as sns\n",
    "import numpy as np"
   ]
  },
  {
   "cell_type": "code",
   "execution_count": null,
   "metadata": {},
   "outputs": [],
   "source": [
    "file_path = \"dulieuxettuyendaihoc.csv\"\n",
    "\n",
    "a = pd.read_csv(file_path,header=0, delimiter=\",\",encoding='utf-8')\n",
    "df =a[['T5','T6','GT','DT' ,'KV','KT','NGONNGU','TOANLOGICPHANTICH','GIAIQUYETVANDE','NGAYTHI','DINHHUONGNGHENGHIEP']]\n",
    "\n",
    "df.rename(columns={\n",
    "    'TOANLOGICPHANTICH':'LOGIC',\n",
    "    'GIAIQUYETVANDE':'UNGXU',\n",
    "    'DINHHUONGNGHENGHIEP':'HUONGNGHIEP'\n",
    "},inplace=True)"
   ]
  },
  {
   "cell_type": "code",
   "execution_count": 3,
   "metadata": {},
   "outputs": [
    {
     "data": {
      "text/plain": [
       "TtestResult(statistic=0.44599723713991907, pvalue=0.6629370899710998, df=13)"
      ]
     },
     "execution_count": 3,
     "metadata": {},
     "output_type": "execute_result"
    }
   ],
   "source": [
    "# ONE SAMPLE T-TEST\n",
    "# Mục đích: Kiểm định trung bình của một biến số (định lượng) có bằng một giá trị\n",
    "# Ho: mean = x\n",
    "\n",
    "# Câu 1: Hãy kiểm tra xem LOGIC thí sinh khối C có bằng 4.0\n",
    "dfKhoiC = df.loc[df['KT'] == 'C']\n",
    "\n",
    "import scipy.stats as stats\n",
    "# Với one sample T-test thì giả thiết Ho: muy = 4.0\n",
    "# Mặc định mức tin cậy là 95% và mức sai lầm là 5%\n",
    "stats.ttest_1samp(dfKhoiC['LOGIC'], popmean=4.0)\n",
    "#sv tự tìm hiểu mức cấu hình cho sai lầm 1% 10% "
   ]
  },
  {
   "cell_type": "markdown",
   "metadata": {},
   "source": [
    "# Bài tập tương tự: Hãy kiểm tra xem có phải điểm NGONNGU\n",
    "# của thí sinh thi khối C có là 5.5 hay không\n",
    "\n",
    "# Với mức tin cậy 10% điểm trung bình # Sinh viên kiểm tra xem \n",
    "# điểm trung bình của môn thi UNGXU của khối thi C có bằng 5.0 hay không với mức tin cậy 10%"
   ]
  },
  {
   "cell_type": "code",
   "execution_count": 5,
   "metadata": {},
   "outputs": [
    {
     "data": {
      "text/plain": [
       "TtestResult(statistic=-1.0329196014245297, pvalue=0.3111543826061086, df=26.0)"
      ]
     },
     "execution_count": 5,
     "metadata": {},
     "output_type": "execute_result"
    }
   ],
   "source": [
    "# TWO SAMPLE T-TEST\n",
    "# Mục đích: Kiểm tra xem trung bình của 2 biến số (định lượng) có bằng nhau không\n",
    "\n",
    "# Hãy kiểm tra xem trung bình điểm thi LOGIC và \n",
    "# trung bình điểm thi UNGXU của thí sinh thi khối C có bằng nhau không?\n",
    "# Ho: mean_LOGIC - mean_UNGXU = 0\n",
    "dfKhoiC = df.loc[df['KT'] == 'C']\n",
    "stats.ttest_ind(dfKhoiC['LOGIC'], dfKhoiC['UNGXU'], equal_var=True)"
   ]
  },
  {
   "cell_type": "markdown",
   "metadata": {},
   "source": [
    "# Sinh viên làm tương tự:\n",
    "# Kiểm tra xem trung bình UNGXU có bằng trung bình NGONNGU cho\n",
    "# thí sinh thi khối C hay không\n"
   ]
  },
  {
   "cell_type": "code",
   "execution_count": 6,
   "metadata": {},
   "outputs": [
    {
     "data": {
      "text/plain": [
       "TtestResult(statistic=-2.6321295849540447, pvalue=0.014085909192033959, df=26.0)"
      ]
     },
     "execution_count": 6,
     "metadata": {},
     "output_type": "execute_result"
    }
   ],
   "source": [
    "dfKhoiC = df.loc[df['KT'] == 'C']\n",
    "stats.ttest_ind(dfKhoiC['UNGXU'], dfKhoiC['NGONNGU'], equal_var=True)\n",
    "#ko đủ dữ kiện để kết luận tb ux =  tb nn với mức tin cậy là 0.01%\n",
    "#lưu ý ONE SAMPLE T-TEST và TWO SAMPLE T-TEST khi sl dl nhỏ hơn 30"
   ]
  },
  {
   "cell_type": "code",
   "execution_count": 7,
   "metadata": {},
   "outputs": [
    {
     "data": {
      "text/plain": [
       "(-7.797828845339864, 6.298135014120743e-15)"
      ]
     },
     "execution_count": 7,
     "metadata": {},
     "output_type": "execute_result"
    }
   ],
   "source": [
    "# ONE SAMPLE Z-TEST\n",
    "# Mục đích: Kiểm định trung bình của một biến số (định lượng) có bằng một giá trị\n",
    "\n",
    "\n",
    "# Ho: mean = x\n",
    "\n",
    "\n",
    "from statsmodels.stats.weightstats import ztest as ztest\n",
    "# Hãy kiểm tra xem trung bình điểm toán học kì 2 lớp 12 có bằng 8.0\n",
    "ztest(df['T6'], value=8.0)"
   ]
  },
  {
   "cell_type": "code",
   "execution_count": 8,
   "metadata": {},
   "outputs": [
    {
     "data": {
      "text/plain": [
       "(-1.094138573502891, 0.273894207026412)"
      ]
     },
     "execution_count": 8,
     "metadata": {},
     "output_type": "execute_result"
    }
   ],
   "source": [
    "# TWO SAMPLE Z-TEST\n",
    "# Mục đích: Kiểm tra xem trung bình của 2 biến số (định lượng) có bằng nhau không\n",
    "# H0 : µ1 = µ2 Both population means are equal.\n",
    "# Hãy kiểm tra xem điểm trung bình toán học kì 1\n",
    "# và học kì 2 năm lớp 12 có bằng nhau không\n",
    "ztest(df['T5'], df['T6'], value=0)\n",
    "#đủ dữ kiện để ss mức tb của t5 t6 với mức sai lầm 5%"
   ]
  },
  {
   "cell_type": "code",
   "execution_count": 9,
   "metadata": {},
   "outputs": [
    {
     "data": {
      "text/plain": [
       "(-4.172765180703833, 3.009250404643791e-05)"
      ]
     },
     "execution_count": 9,
     "metadata": {},
     "output_type": "execute_result"
    }
   ],
   "source": [
    "# Kiểm tra trung bình LOGIC và UNGXU có bằng nhau không\n",
    "# với mức tin cậy 95%\n",
    "ztest(df['LOGIC'], df['UNGXU'], value=0)\n"
   ]
  },
  {
   "cell_type": "code",
   "execution_count": 10,
   "metadata": {},
   "outputs": [
    {
     "name": "stderr",
     "output_type": "stream",
     "text": [
      "C:\\Users\\Admin\\AppData\\Local\\Temp\\ipykernel_9672\\133668169.py:3: DeprecationWarning: Please use `pearsonr` from the `scipy.stats` namespace, the `scipy.stats.stats` namespace is deprecated.\n",
      "  from scipy.stats.stats import pearsonr\n"
     ]
    }
   ],
   "source": [
    "# Kiểm định tương quan giữa 2 biến định lượng\n",
    "# Ho: r = 0\n",
    "from scipy.stats.stats import pearsonr"
   ]
  },
  {
   "cell_type": "code",
   "execution_count": 11,
   "metadata": {},
   "outputs": [
    {
     "data": {
      "text/plain": [
       "PearsonRResult(statistic=0.7786831657869809, pvalue=1.4846407216273482e-21)"
      ]
     },
     "execution_count": 11,
     "metadata": {},
     "output_type": "execute_result"
    }
   ],
   "source": [
    "# Câu 5: Kiểm tra xem điểm toán học kì 1 và học kì 2 năm lớp 12 có tương quan không?\n",
    "pearsonr(df['T5'], df['T6'])\n",
    "#với kl trên mẫu , t5 t6 tuoq quan rất mạnh và tq thuận. \n",
    "#còn khi suy diễn pvu <5% thì ta chỉ có thể kq đủ dữ kiện t5 t6 có tương quan"
   ]
  },
  {
   "cell_type": "code",
   "execution_count": 12,
   "metadata": {},
   "outputs": [
    {
     "data": {
      "text/plain": [
       "PearsonRResult(statistic=0.18464661226012727, pvalue=0.06590059130545516)"
      ]
     },
     "execution_count": 12,
     "metadata": {},
     "output_type": "execute_result"
    }
   ],
   "source": [
    "# Sinh viên làm tương tự cho T5 và LOGIC có tương quan hay không?\n",
    "pearsonr(df['T5'], df['LOGIC'])\n",
    "#suy diễn tổng thể ko thể kết luận t5 và logic có tương quan"
   ]
  },
  {
   "cell_type": "code",
   "execution_count": 13,
   "metadata": {},
   "outputs": [
    {
     "data": {
      "text/plain": [
       "PearsonRResult(statistic=0.04563783760619885, pvalue=0.6520791976209703)"
      ]
     },
     "execution_count": 13,
     "metadata": {},
     "output_type": "execute_result"
    }
   ],
   "source": [
    "# Sinh viên làm tương tự cho T6 và UNGXU có tương quan hay không?\n",
    "pearsonr(df['T6'], df['UNGXU'])\n",
    "#0.045 dươngf nhu 0 tương qan\n",
    "#0.65>alpha \n",
    "#tổng thể chấp nhận"
   ]
  },
  {
   "cell_type": "code",
   "execution_count": 14,
   "metadata": {},
   "outputs": [],
   "source": [
    "# FISHER TEST\n",
    "# Mục đích: Kiểm tra sự độc lập của 2 biến định tính dạng nhị phân 2x2\n",
    "# Ho: Không có sự khác biệt giữa 2 biến định tính\n",
    "import scipy.stats as stats\n"
   ]
  },
  {
   "cell_type": "code",
   "execution_count": 16,
   "metadata": {},
   "outputs": [
    {
     "name": "stdout",
     "output_type": "stream",
     "text": [
      "odd ratio is : 0.575\n",
      "p_value is : 0.22763927303454412\n"
     ]
    }
   ],
   "source": [
    "# Hãy kiểm tra xem có sự phụ thuộc nào giữa việc sinh viên có định hướng nghề nghiệp\n",
    "# và giới tính khi thí sinh đăng ký dự thi hay không\n",
    "crosdata = pd.crosstab(df['GT'], [df['HUONGNGHIEP']], rownames=['GT'], colnames=['HUONGNGHIEP'])\n",
    "crosdata\n",
    "\n",
    "odd_ratio, p_value = stats.fisher_exact(crosdata)\n",
    "print('odd ratio is : ' + str(odd_ratio))\n",
    "print('p_value is : ' + str(p_value))\n",
    "\n",
    "#0.227 chấp nhận h0\n",
    "#đủ dữ kiện để kết luận rằng việc hướng nghiệp 0 phụ thuộc vào giới tính"
   ]
  },
  {
   "cell_type": "code",
   "execution_count": 17,
   "metadata": {},
   "outputs": [],
   "source": [
    "# Chi-Square TEST\n",
    "# Mục đích: Kiểm tra sự độc lập của 2 biến định tính\n",
    "# Ho: Không có sự khác biệt giữa 2 biến định tính\n",
    "from scipy.stats import chi2_contingency"
   ]
  },
  {
   "cell_type": "code",
   "execution_count": 19,
   "metadata": {},
   "outputs": [
    {
     "name": "stdout",
     "output_type": "stream",
     "text": [
      "p value is 0.02012461887796485\n",
      "Dependent (reject H0)\n"
     ]
    }
   ],
   "source": [
    "# Hãy kiểm tra xem có sự phụ thuộc nào giữa khối thi và khu vực khi đăng ký dự thi hay không\n",
    "crosdata = pd.crosstab(df['KV'], [df['KT']], rownames=['KV'], colnames=['KT'])\n",
    "crosdata\n",
    "#bác bõ  nếu => giữa kt và kv phụ thuộc\n",
    "\n",
    "stat, p, dof, expected = chi2_contingency(crosdata)\n",
    "# interpret p-value\n",
    "alpha = 0.05\n",
    "print(\"p value is \" + str(p))\n",
    "if p <= alpha:\n",
    "    print('Dependent (reject H0)')\n",
    "else:\n",
    "    print('Independent (H0 holds true)')\n",
    "\n",
    "#đủ dữ kiện kvthi và kthi độc lộc,\n",
    "#  hay ns cách khác là có sự quan hệ giữa khối thi và khu vực thi"
   ]
  },
  {
   "cell_type": "code",
   "execution_count": null,
   "metadata": {},
   "outputs": [],
   "source": [
    "# GT và KT có mối quan hệ hay không?\n",
    "#<005 ==> bác bỏ ở trên ==> có quan hệ"
   ]
  },
  {
   "cell_type": "code",
   "execution_count": 20,
   "metadata": {},
   "outputs": [
    {
     "data": {
      "text/html": [
       "<div>\n",
       "<style scoped>\n",
       "    .dataframe tbody tr th:only-of-type {\n",
       "        vertical-align: middle;\n",
       "    }\n",
       "\n",
       "    .dataframe tbody tr th {\n",
       "        vertical-align: top;\n",
       "    }\n",
       "\n",
       "    .dataframe thead th {\n",
       "        text-align: right;\n",
       "    }\n",
       "</style>\n",
       "<table border=\"1\" class=\"dataframe\">\n",
       "  <thead>\n",
       "    <tr style=\"text-align: right;\">\n",
       "      <th></th>\n",
       "      <th>df</th>\n",
       "      <th>sum_sq</th>\n",
       "      <th>mean_sq</th>\n",
       "      <th>F</th>\n",
       "      <th>PR(&gt;F)</th>\n",
       "    </tr>\n",
       "  </thead>\n",
       "  <tbody>\n",
       "    <tr>\n",
       "      <th>GT</th>\n",
       "      <td>1.0</td>\n",
       "      <td>1.55201</td>\n",
       "      <td>1.55201</td>\n",
       "      <td>0.833769</td>\n",
       "      <td>0.363426</td>\n",
       "    </tr>\n",
       "    <tr>\n",
       "      <th>Residual</th>\n",
       "      <td>98.0</td>\n",
       "      <td>182.42109</td>\n",
       "      <td>1.86144</td>\n",
       "      <td>NaN</td>\n",
       "      <td>NaN</td>\n",
       "    </tr>\n",
       "  </tbody>\n",
       "</table>\n",
       "</div>"
      ],
      "text/plain": [
       "            df     sum_sq  mean_sq         F    PR(>F)\n",
       "GT         1.0    1.55201  1.55201  0.833769  0.363426\n",
       "Residual  98.0  182.42109  1.86144       NaN       NaN"
      ]
     },
     "execution_count": 20,
     "metadata": {},
     "output_type": "execute_result"
    }
   ],
   "source": [
    "# ONE WAY ANOVA\n",
    "# KIỂM ĐỊNH ANOVA ONE WAY\n",
    "# YÊU CẦU:\n",
    "# 1. BIẾN ĐỊNH LƯỢNG TRÊN NHÓM ĐỊNH TÍNH\n",
    "# 2. CÁC BIẾN ĐỊNH LƯỢNG TRÊN TỪNG NHÓM THEO PH N PHỐI CHUẨN\n",
    "# 3. H0: GIÁ TRỊ TRUNG BÌNH DỮ LIỆU ĐỊNH LƯỢNG TRÊN TỪNG NHÓM ĐỊNH TÍNH LÀ BẰNG NHAU\n",
    "\n",
    "\n",
    "# Điểm toán học kì 2 lớp 12 có phụ thuộc vào giới tính không\n",
    "import statsmodels.api as sm\n",
    "from statsmodels.formula.api import ols\n",
    "\n",
    "\n",
    "model = ols('T6 ~ GT', data=df).fit()\n",
    "aov_table = sm.stats.anova_lm(model, typ=1)\n",
    "aov_table\n"
   ]
  },
  {
   "cell_type": "code",
   "execution_count": 23,
   "metadata": {},
   "outputs": [
    {
     "data": {
      "text/html": [
       "<div>\n",
       "<style scoped>\n",
       "    .dataframe tbody tr th:only-of-type {\n",
       "        vertical-align: middle;\n",
       "    }\n",
       "\n",
       "    .dataframe tbody tr th {\n",
       "        vertical-align: top;\n",
       "    }\n",
       "\n",
       "    .dataframe thead th {\n",
       "        text-align: right;\n",
       "    }\n",
       "</style>\n",
       "<table border=\"1\" class=\"dataframe\">\n",
       "  <thead>\n",
       "    <tr style=\"text-align: right;\">\n",
       "      <th></th>\n",
       "      <th>df</th>\n",
       "      <th>sum_sq</th>\n",
       "      <th>mean_sq</th>\n",
       "      <th>F</th>\n",
       "      <th>PR(&gt;F)</th>\n",
       "    </tr>\n",
       "  </thead>\n",
       "  <tbody>\n",
       "    <tr>\n",
       "      <th>KV</th>\n",
       "      <td>2.0</td>\n",
       "      <td>6.053398</td>\n",
       "      <td>3.026699</td>\n",
       "      <td>2.790934</td>\n",
       "      <td>0.066299</td>\n",
       "    </tr>\n",
       "    <tr>\n",
       "      <th>Residual</th>\n",
       "      <td>97.0</td>\n",
       "      <td>105.194102</td>\n",
       "      <td>1.084475</td>\n",
       "      <td>NaN</td>\n",
       "      <td>NaN</td>\n",
       "    </tr>\n",
       "  </tbody>\n",
       "</table>\n",
       "</div>"
      ],
      "text/plain": [
       "            df      sum_sq   mean_sq         F    PR(>F)\n",
       "KV         2.0    6.053398  3.026699  2.790934  0.066299\n",
       "Residual  97.0  105.194102  1.084475       NaN       NaN"
      ]
     },
     "execution_count": 23,
     "metadata": {},
     "output_type": "execute_result"
    }
   ],
   "source": [
    "# Điểm LOGIC có phụ thuộc vào khu vực hay không\n",
    "model = ols('LOGIC ~ KV', data=df).fit()\n",
    "aov_table = sm.stats.anova_lm(model, typ=1)\n",
    "aov_table\n"
   ]
  },
  {
   "cell_type": "code",
   "execution_count": 24,
   "metadata": {},
   "outputs": [
    {
     "data": {
      "text/html": [
       "<div>\n",
       "<style scoped>\n",
       "    .dataframe tbody tr th:only-of-type {\n",
       "        vertical-align: middle;\n",
       "    }\n",
       "\n",
       "    .dataframe tbody tr th {\n",
       "        vertical-align: top;\n",
       "    }\n",
       "\n",
       "    .dataframe thead th {\n",
       "        text-align: right;\n",
       "    }\n",
       "</style>\n",
       "<table border=\"1\" class=\"dataframe\">\n",
       "  <thead>\n",
       "    <tr style=\"text-align: right;\">\n",
       "      <th></th>\n",
       "      <th>df</th>\n",
       "      <th>sum_sq</th>\n",
       "      <th>mean_sq</th>\n",
       "      <th>F</th>\n",
       "      <th>PR(&gt;F)</th>\n",
       "    </tr>\n",
       "  </thead>\n",
       "  <tbody>\n",
       "    <tr>\n",
       "      <th>KT</th>\n",
       "      <td>4.0</td>\n",
       "      <td>3.967636</td>\n",
       "      <td>0.991909</td>\n",
       "      <td>0.911814</td>\n",
       "      <td>0.46041</td>\n",
       "    </tr>\n",
       "    <tr>\n",
       "      <th>Residual</th>\n",
       "      <td>95.0</td>\n",
       "      <td>103.344864</td>\n",
       "      <td>1.087841</td>\n",
       "      <td>NaN</td>\n",
       "      <td>NaN</td>\n",
       "    </tr>\n",
       "  </tbody>\n",
       "</table>\n",
       "</div>"
      ],
      "text/plain": [
       "            df      sum_sq   mean_sq         F   PR(>F)\n",
       "KT         4.0    3.967636  0.991909  0.911814  0.46041\n",
       "Residual  95.0  103.344864  1.087841       NaN      NaN"
      ]
     },
     "execution_count": 24,
     "metadata": {},
     "output_type": "execute_result"
    }
   ],
   "source": [
    "# Điểm UNGXU có phụ thuộc khối thi hay không\n",
    "model = ols('UNGXU ~ KT', data=df).fit()\n",
    "aov_table = sm.stats.anova_lm(model, typ=1)\n",
    "aov_table"
   ]
  },
  {
   "cell_type": "code",
   "execution_count": 25,
   "metadata": {},
   "outputs": [
    {
     "name": "stdout",
     "output_type": "stream",
     "text": [
      "            df     sum_sq   mean_sq         F    PR(>F)\n",
      "GT         1.0   3.998401  3.998401  3.853364  0.052602\n",
      "KV         2.0   8.561314  4.280657  4.125382  0.019173\n",
      "GT:KV      2.0   1.149707  0.574854  0.554002  0.576510\n",
      "Residual  94.0  97.538077  1.037639       NaN       NaN\n"
     ]
    }
   ],
   "source": [
    "# TWO WAY ANOVA\n",
    "# KIỂM ĐỊNH ANOVA TWO WAY\n",
    "# YÊU CẦU:\n",
    "# 1. BIẾN ĐỊNH LƯỢNG\n",
    "# 2. CÁC BIẾN ĐỊNH LƯỢNG TRÊN TỪNG NHÓM THEO PH N PHỐI CHUẨN\n",
    "# 3. H0: TRUNG BÌNH CÁC CỘT DỮ LIỆU BẰNG NHAU\n",
    "\n",
    "\n",
    "# Hãy cho biết điểm LOGIC có phụ thuộc vào loại GT trên từng nhóm KV hay không\n",
    "# Performing two-way ANOVA\n",
    "model = ols('LOGIC ~ GT + KV + GT:KV',data=df).fit()\n",
    "result = sm.stats.anova_lm(model, type=2)\n",
    " \n",
    "# Print the result\n",
    "print(result)\n",
    "\n",
    "#0.57 ==> Độc lập trên từng nhóm..."
   ]
  },
  {
   "cell_type": "code",
   "execution_count": 26,
   "metadata": {},
   "outputs": [
    {
     "name": "stdout",
     "output_type": "stream",
     "text": [
      "                            OLS Regression Results                            \n",
      "==============================================================================\n",
      "Dep. Variable:                      y   R-squared:                       0.606\n",
      "Model:                            OLS   Adj. R-squared:                  0.602\n",
      "Method:                 Least Squares   F-statistic:                     151.0\n",
      "Date:                Tue, 05 Sep 2023   Prob (F-statistic):           1.48e-21\n",
      "Time:                        18:33:09   Log-Likelihood:                -125.76\n",
      "No. Observations:                 100   AIC:                             255.5\n",
      "Df Residuals:                      98   BIC:                             260.7\n",
      "Df Model:                           1                                         \n",
      "Covariance Type:            nonrobust                                         \n",
      "==============================================================================\n",
      "                 coef    std err          t      P>|t|      [0.025      0.975]\n",
      "------------------------------------------------------------------------------\n",
      "const          2.1130      0.402      5.257      0.000       1.315       2.911\n",
      "x1             0.7182      0.058     12.286      0.000       0.602       0.834\n",
      "==============================================================================\n",
      "Omnibus:                        1.387   Durbin-Watson:                   1.738\n",
      "Prob(Omnibus):                  0.500   Jarque-Bera (JB):                0.860\n",
      "Skew:                          -0.104   Prob(JB):                        0.650\n",
      "Kurtosis:                       3.404   Cond. No.                         32.8\n",
      "==============================================================================\n",
      "\n",
      "Notes:\n",
      "[1] Standard Errors assume that the covariance matrix of the errors is correctly specified.\n"
     ]
    }
   ],
   "source": [
    "#Phân tíc hồi quy tuyéne tính ==> pt tác động hay ảnh hưởng của các biến íu tố hay biến mục tiêu thường sd cho biến định lượng, đây là 1 kỹ thuật thường dùng cho kt và định lượng. trước khi vẽ biểu đồ.. thường vẽ biểu đồ tuyến tính để biểu thị sự tương quan\n",
    "#Hãy phân tích sự ảnh hưởng của điểm trung bình t5 và t6\n",
    "#T6 = f(T5)\n",
    "#Hồi quy tuyến tính \n",
    "import statsmodels.api as sm\n",
    "#adding a constant\n",
    "X_with_constant = sm.add_constant(df[[\"T5\"]].values)\n",
    "y = df[['T6']].values\n",
    "#performing the regression\n",
    "result = sm.OLS(y, X_with_constant).fit()\n",
    "# Result of statsmodels\n",
    "print(result.summary())\n",
    "\n",
    "#T5 phù hợp, có ý nghĩa thống kê, phù hợp với mô hình\n"
   ]
  },
  {
   "cell_type": "code",
   "execution_count": 29,
   "metadata": {},
   "outputs": [
    {
     "name": "stdout",
     "output_type": "stream",
     "text": [
      "                            OLS Regression Results                            \n",
      "==============================================================================\n",
      "Dep. Variable:                      y   R-squared:                       0.097\n",
      "Model:                            OLS   Adj. R-squared:                  0.079\n",
      "Method:                 Least Squares   F-statistic:                     5.226\n",
      "Date:                Tue, 05 Sep 2023   Prob (F-statistic):            0.00699\n",
      "Time:                        18:46:55   Log-Likelihood:                -142.11\n",
      "No. Observations:                 100   AIC:                             290.2\n",
      "Df Residuals:                      97   BIC:                             298.0\n",
      "Df Model:                           2                                         \n",
      "Covariance Type:            nonrobust                                         \n",
      "==============================================================================\n",
      "                 coef    std err          t      P>|t|      [0.025      0.975]\n",
      "------------------------------------------------------------------------------\n",
      "const          2.7072      0.539      5.026      0.000       1.638       3.776\n",
      "x1            -0.0913      0.110     -0.828      0.410      -0.310       0.128\n",
      "x2             0.3115      0.120      2.606      0.011       0.074       0.549\n",
      "==============================================================================\n",
      "Omnibus:                       14.098   Durbin-Watson:                   2.005\n",
      "Prob(Omnibus):                  0.001   Jarque-Bera (JB):               17.272\n",
      "Skew:                           0.745   Prob(JB):                     0.000178\n",
      "Kurtosis:                       4.387   Cond. No.                         52.7\n",
      "==============================================================================\n",
      "\n",
      "Notes:\n",
      "[1] Standard Errors assume that the covariance matrix of the errors is correctly specified.\n"
     ]
    }
   ],
   "source": [
    "# Phân tích tác động của T5, T6 đến điểm LOGIC dựa trên mô hình hồi quy tuyến tính\n",
    "\n",
    "\n",
    "# Cho biết nếu T5 = 6.0 và T6 = 5.5 thì dự đoán học sinh đi thi sẽ được điểm LOGIC là nhiêu\n",
    "\n",
    "import statsmodels.api as sm\n",
    "\n",
    "\n",
    "#adding a constant\n",
    "X_with_constant = sm.add_constant(df[[\"T5\",\"T6\"]].values)\n",
    "\n",
    "\n",
    "y = df[['LOGIC']].values\n",
    "\n",
    "\n",
    "#performing the regression\n",
    "result = sm.OLS(y, X_with_constant).fit()\n",
    "\n",
    "\n",
    "# Result of statsmodels\n",
    "print(result.summary())\n",
    "\n",
    "##Tự viết code tính điểm logic ....\n"
   ]
  }
 ],
 "metadata": {
  "kernelspec": {
   "display_name": "Python 3",
   "language": "python",
   "name": "python3"
  },
  "language_info": {
   "codemirror_mode": {
    "name": "ipython",
    "version": 3
   },
   "file_extension": ".py",
   "mimetype": "text/x-python",
   "name": "python",
   "nbconvert_exporter": "python",
   "pygments_lexer": "ipython3",
   "version": "3.10.9"
  },
  "orig_nbformat": 4
 },
 "nbformat": 4,
 "nbformat_minor": 2
}
