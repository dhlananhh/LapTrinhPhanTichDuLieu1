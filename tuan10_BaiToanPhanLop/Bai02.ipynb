{
 "cells": [
  {
   "cell_type": "markdown",
   "metadata": {},
   "source": [
    "# BÀI TẬP THỰC HÀNH LẬP TRÌNH PHÂN TÍCH DỮ LIỆU 1"
   ]
  },
  {
   "cell_type": "markdown",
   "metadata": {},
   "source": [
    "### BÀI TOÁN PHÂN LỚP: CLASSIFICATION & CLUSTERING"
   ]
  },
  {
   "cell_type": "markdown",
   "metadata": {},
   "source": [
    "## Bài 2"
   ]
  },
  {
   "cell_type": "code",
   "execution_count": 1,
   "metadata": {},
   "outputs": [
    {
     "data": {
      "text/plain": [
       "'\\nDựa vào điểm thi xét tuyển trường IUH cần tuyển những học sinh có điểm thi ưu tiên\\nNGONNGU tốt và LOGIC vừa phải để phù hợp với nhu cầu đào tạo. Hãy đưa ra đề xuất các nhóm học sinh có kết\\nquả phù hợp và căn cứ vào chỉ tiêu (số lượng sinh viên)\\nVấn đề đặt ra: Thế nào là tốt? Thế nào là kha khá? -- theo dữ liệu tuyển sinh này\\n--> Tiêu chuẩn chọn lựa mập mờ => Giải pháp\\n'"
      ]
     },
     "execution_count": 1,
     "metadata": {},
     "output_type": "execute_result"
    }
   ],
   "source": [
    "'''\n",
    "Dựa vào điểm thi xét tuyển trường IUH cần tuyển những học sinh có điểm thi ưu tiên\n",
    "NGONNGU tốt và LOGIC vừa phải để phù hợp với nhu cầu đào tạo. Hãy đưa ra đề xuất các nhóm học sinh có kết\n",
    "quả phù hợp và căn cứ vào chỉ tiêu (số lượng sinh viên)\n",
    "Vấn đề đặt ra: Thế nào là tốt? Thế nào là kha khá? -- theo dữ liệu tuyển sinh này\n",
    "--> Tiêu chuẩn chọn lựa mập mờ => Giải pháp\n",
    "'''"
   ]
  },
  {
   "cell_type": "code",
   "execution_count": 2,
   "metadata": {},
   "outputs": [
    {
     "data": {
      "text/plain": [
       "'\\nĐây là giải thuật có input đầu vào nhưng không có sẵn output đầu ra trong tập dữ liệu lịch\\nsử\\nDo đó ta gọi là nhóm kỹ thuật un-supervised (học không giám sát)\\nĐể giải quyết nhóm kỹ thuật này ta cần các yếu tố như sau\\n1. Dữ liệu đầu vào\\n2. Phải có metric (độ đo) để xác định các phần tử sẽ thuộc về đâu\\n3. Cần cung cấp trước số lượng cụm (k) được tạo ra\\n\\nHệ quả:\\n1. Các phần tử thuộc về cùng 1 cụm thì có mức độ gần gũi (theo độ đo đặt ra) hơn so với\\nphần tử ở cụm khác\\n2. Mỗi cụm sẽ có một đại diện được gọi là trung tâm\\n\\n-> Trong các giải thuật về dạng toán này người ta thường dùng độ đo Euclide để đo lường\\nmức độ gần nhau của các phần tử\\n\\n--> Giải thuật điển hình là giải thuật K-Means\\n'"
      ]
     },
     "execution_count": 2,
     "metadata": {},
     "output_type": "execute_result"
    }
   ],
   "source": [
    "# Giải thuật gom cụm (Clustering)\n",
    "\n",
    "'''\n",
    "Đây là giải thuật có input đầu vào nhưng không có sẵn output đầu ra trong tập dữ liệu lịch\n",
    "sử\n",
    "Do đó ta gọi là nhóm kỹ thuật un-supervised (học không giám sát)\n",
    "Để giải quyết nhóm kỹ thuật này ta cần các yếu tố như sau\n",
    "1. Dữ liệu đầu vào\n",
    "2. Phải có metric (độ đo) để xác định các phần tử sẽ thuộc về đâu\n",
    "3. Cần cung cấp trước số lượng cụm (k) được tạo ra\n",
    "\n",
    "Hệ quả:\n",
    "1. Các phần tử thuộc về cùng 1 cụm thì có mức độ gần gũi (theo độ đo đặt ra) hơn so với\n",
    "phần tử ở cụm khác\n",
    "2. Mỗi cụm sẽ có một đại diện được gọi là trung tâm\n",
    "\n",
    "-> Trong các giải thuật về dạng toán này người ta thường dùng độ đo Euclide để đo lường\n",
    "mức độ gần nhau của các phần tử\n",
    "\n",
    "--> Giải thuật điển hình là giải thuật K-Means\n",
    "'''"
   ]
  },
  {
   "cell_type": "markdown",
   "metadata": {},
   "source": [
    "Import thư viện"
   ]
  },
  {
   "cell_type": "code",
   "execution_count": 4,
   "metadata": {},
   "outputs": [],
   "source": [
    "import pandas as pd\n",
    "import numpy as np\n",
    "import seaborn as sns\n",
    "import matplotlib.pyplot as plt\n",
    "from sklearn.linear_model import LogisticRegression\n",
    "from sklearn.metrics import confusion_matrix, classification_report\n",
    "from sklearn.cluster import KMeans"
   ]
  },
  {
   "cell_type": "markdown",
   "metadata": {},
   "source": [
    "Đọc dữ liệu từ file csv"
   ]
  },
  {
   "cell_type": "code",
   "execution_count": 5,
   "metadata": {},
   "outputs": [],
   "source": [
    "df = pd.read_csv('../data/dulieuxettuyendaihoc.csv', header=0, delimiter=',', encoding='utf-8')"
   ]
  },
  {
   "cell_type": "markdown",
   "metadata": {},
   "source": [
    "Đổi tên cột"
   ]
  },
  {
   "cell_type": "code",
   "execution_count": 6,
   "metadata": {},
   "outputs": [
    {
     "data": {
      "text/html": [
       "<div>\n",
       "<style scoped>\n",
       "    .dataframe tbody tr th:only-of-type {\n",
       "        vertical-align: middle;\n",
       "    }\n",
       "\n",
       "    .dataframe tbody tr th {\n",
       "        vertical-align: top;\n",
       "    }\n",
       "\n",
       "    .dataframe thead th {\n",
       "        text-align: right;\n",
       "    }\n",
       "</style>\n",
       "<table border=\"1\" class=\"dataframe\">\n",
       "  <thead>\n",
       "    <tr style=\"text-align: right;\">\n",
       "      <th></th>\n",
       "      <th>NGONNGU</th>\n",
       "      <th>LOGIC</th>\n",
       "      <th>UNGXU</th>\n",
       "      <th>DINHHUONG</th>\n",
       "    </tr>\n",
       "  </thead>\n",
       "  <tbody>\n",
       "    <tr>\n",
       "      <th>0</th>\n",
       "      <td>3.25</td>\n",
       "      <td>3.25</td>\n",
       "      <td>4.50</td>\n",
       "      <td>No</td>\n",
       "    </tr>\n",
       "    <tr>\n",
       "      <th>1</th>\n",
       "      <td>6.00</td>\n",
       "      <td>4.00</td>\n",
       "      <td>3.50</td>\n",
       "      <td>Yes</td>\n",
       "    </tr>\n",
       "    <tr>\n",
       "      <th>2</th>\n",
       "      <td>5.00</td>\n",
       "      <td>6.75</td>\n",
       "      <td>4.00</td>\n",
       "      <td>No</td>\n",
       "    </tr>\n",
       "    <tr>\n",
       "      <th>3</th>\n",
       "      <td>4.25</td>\n",
       "      <td>4.25</td>\n",
       "      <td>5.25</td>\n",
       "      <td>No</td>\n",
       "    </tr>\n",
       "    <tr>\n",
       "      <th>4</th>\n",
       "      <td>4.25</td>\n",
       "      <td>4.50</td>\n",
       "      <td>5.00</td>\n",
       "      <td>No</td>\n",
       "    </tr>\n",
       "  </tbody>\n",
       "</table>\n",
       "</div>"
      ],
      "text/plain": [
       "   NGONNGU  LOGIC  UNGXU DINHHUONG\n",
       "0     3.25   3.25   4.50        No\n",
       "1     6.00   4.00   3.50       Yes\n",
       "2     5.00   6.75   4.00        No\n",
       "3     4.25   4.25   5.25        No\n",
       "4     4.25   4.50   5.00        No"
      ]
     },
     "execution_count": 6,
     "metadata": {},
     "output_type": "execute_result"
    }
   ],
   "source": [
    "df = df[['NGONNGU', 'TOANLOGICPHANTICH', 'GIAIQUYETVANDE', 'DINHHUONGNGHENGHIEP']]\n",
    "df.rename(columns=\n",
    "    {\n",
    "    'TOANLOGICPHANTICH': 'LOGIC',\n",
    "    'GIAIQUYETVANDE': 'UNGXU',\n",
    "    'DINHHUONGNGHENGHIEP': 'DINHHUONG'\n",
    "    }, inplace=True)\n",
    "df.head(5)"
   ]
  },
  {
   "cell_type": "code",
   "execution_count": 7,
   "metadata": {},
   "outputs": [],
   "source": [
    "data = df[['NGONNGU', 'LOGIC']]"
   ]
  },
  {
   "cell_type": "code",
   "execution_count": 8,
   "metadata": {},
   "outputs": [
    {
     "data": {
      "text/html": [
       "<div>\n",
       "<style scoped>\n",
       "    .dataframe tbody tr th:only-of-type {\n",
       "        vertical-align: middle;\n",
       "    }\n",
       "\n",
       "    .dataframe tbody tr th {\n",
       "        vertical-align: top;\n",
       "    }\n",
       "\n",
       "    .dataframe thead th {\n",
       "        text-align: right;\n",
       "    }\n",
       "</style>\n",
       "<table border=\"1\" class=\"dataframe\">\n",
       "  <thead>\n",
       "    <tr style=\"text-align: right;\">\n",
       "      <th></th>\n",
       "      <th>NGONNGU</th>\n",
       "      <th>LOGIC</th>\n",
       "    </tr>\n",
       "  </thead>\n",
       "  <tbody>\n",
       "    <tr>\n",
       "      <th>0</th>\n",
       "      <td>3.25</td>\n",
       "      <td>3.25</td>\n",
       "    </tr>\n",
       "    <tr>\n",
       "      <th>1</th>\n",
       "      <td>6.00</td>\n",
       "      <td>4.00</td>\n",
       "    </tr>\n",
       "    <tr>\n",
       "      <th>2</th>\n",
       "      <td>5.00</td>\n",
       "      <td>6.75</td>\n",
       "    </tr>\n",
       "    <tr>\n",
       "      <th>3</th>\n",
       "      <td>4.25</td>\n",
       "      <td>4.25</td>\n",
       "    </tr>\n",
       "    <tr>\n",
       "      <th>4</th>\n",
       "      <td>4.25</td>\n",
       "      <td>4.50</td>\n",
       "    </tr>\n",
       "  </tbody>\n",
       "</table>\n",
       "</div>"
      ],
      "text/plain": [
       "   NGONNGU  LOGIC\n",
       "0     3.25   3.25\n",
       "1     6.00   4.00\n",
       "2     5.00   6.75\n",
       "3     4.25   4.25\n",
       "4     4.25   4.50"
      ]
     },
     "execution_count": 8,
     "metadata": {},
     "output_type": "execute_result"
    }
   ],
   "source": [
    "data.head(5)"
   ]
  },
  {
   "cell_type": "code",
   "execution_count": 9,
   "metadata": {},
   "outputs": [
    {
     "data": {
      "text/plain": [
       "2.850438562747845"
      ]
     },
     "execution_count": 9,
     "metadata": {},
     "output_type": "execute_result"
    }
   ],
   "source": [
    "# Độ đo Euclide\n",
    "d = np.sqrt((3.25-6.0)**2 + (3.25-4.0)**2)\n",
    "d"
   ]
  },
  {
   "cell_type": "code",
   "execution_count": 10,
   "metadata": {},
   "outputs": [
    {
     "name": "stderr",
     "output_type": "stream",
     "text": [
      "e:\\LAP TRINH PYTHON\\LT PTDL 1\\venv\\Lib\\site-packages\\sklearn\\cluster\\_kmeans.py:1416: FutureWarning: The default value of `n_init` will change from 10 to 'auto' in 1.4. Set the value of `n_init` explicitly to suppress the warning\n",
      "  super()._check_params_vs_input(X, default_n_init=10)\n",
      "e:\\LAP TRINH PYTHON\\LT PTDL 1\\venv\\Lib\\site-packages\\joblib\\externals\\loky\\backend\\context.py:136: UserWarning: Could not find the number of physical cores for the following reason:\n",
      "[WinError 2] The system cannot find the file specified\n",
      "Returning the number of logical cores instead. You can silence this warning by setting LOKY_MAX_CPU_COUNT to the number of cores you want to use.\n",
      "  warnings.warn(\n",
      "  File \"e:\\LAP TRINH PYTHON\\LT PTDL 1\\venv\\Lib\\site-packages\\joblib\\externals\\loky\\backend\\context.py\", line 257, in _count_physical_cores\n",
      "    cpu_info = subprocess.run(\n",
      "               ^^^^^^^^^^^^^^^\n",
      "  File \"C:\\Users\\Lan Anh\\AppData\\Local\\Programs\\Python\\Python311\\Lib\\subprocess.py\", line 548, in run\n",
      "    with Popen(*popenargs, **kwargs) as process:\n",
      "         ^^^^^^^^^^^^^^^^^^^^^^^^^^^\n",
      "  File \"C:\\Users\\Lan Anh\\AppData\\Local\\Programs\\Python\\Python311\\Lib\\subprocess.py\", line 1026, in __init__\n",
      "    self._execute_child(args, executable, preexec_fn, close_fds,\n",
      "  File \"C:\\Users\\Lan Anh\\AppData\\Local\\Programs\\Python\\Python311\\Lib\\subprocess.py\", line 1538, in _execute_child\n",
      "    hp, ht, pid, tid = _winapi.CreateProcess(executable, args,\n",
      "                       ^^^^^^^^^^^^^^^^^^^^^^^^^^^^^^^^^^^^^^^\n"
     ]
    }
   ],
   "source": [
    "kmeans = KMeans(n_clusters=4, random_state=0).fit(data)"
   ]
  },
  {
   "cell_type": "code",
   "execution_count": 11,
   "metadata": {},
   "outputs": [
    {
     "name": "stdout",
     "output_type": "stream",
     "text": [
      "[[4.97       3.25      ]\n",
      " [2.16666667 4.28787879]\n",
      " [3.75       4.48484848]\n",
      " [6.05555556 6.08333333]]\n",
      "87.22813131313131\n",
      "10\n",
      "[2 0 3 2 2 1 3 2 2 2 1 3 1 1 2 0 2 2 2 2 1 0 0 3 0 0 0 3 2 1 0 2 2 1 1 1 0\n",
      " 1 1 1 0 2 0 1 2 1 0 3 0 2 1 1 2 1 0 2 3 1 1 1 1 2 0 1 0 1 2 2 2 1 1 2 1 1\n",
      " 0 0 2 2 2 1 0 1 2 1 3 2 1 1 2 1 0 2 2 2 0 0 0 3 0 0]\n"
     ]
    },
    {
     "data": {
      "text/plain": [
       "'\\n100 sinh viên được chia tối đa là 100 cụm\\nTâm là 1 đại lượng được tính toán bằng thuật toán\\n'"
      ]
     },
     "execution_count": 11,
     "metadata": {},
     "output_type": "execute_result"
    }
   ],
   "source": [
    "# Số tâm\n",
    "print(kmeans.cluster_centers_)\n",
    "\n",
    "# Độ đo đánh giá\n",
    "print(kmeans.inertia_)\n",
    "\n",
    "# Sẽ lặp bao nhiêu lần để tìm giá trị điển hình\n",
    "print(kmeans.n_iter_)\n",
    "\n",
    "# Nhãn của các điểm dữ liệu\n",
    "print(kmeans.labels_[:])\n",
    "\n",
    "'''\n",
    "100 sinh viên được chia tối đa là 100 cụm\n",
    "Tâm là 1 đại lượng được tính toán bằng thuật toán\n",
    "'''"
   ]
  },
  {
   "cell_type": "code",
   "execution_count": 12,
   "metadata": {},
   "outputs": [
    {
     "data": {
      "text/plain": [
       "1.5566630977832037"
      ]
     },
     "execution_count": 12,
     "metadata": {},
     "output_type": "execute_result"
    }
   ],
   "source": [
    "def euclid (a1, a2, b1, b2):\n",
    "    d = np.sqrt((a1-b1)**2 + (a2-b2)**2)\n",
    "    return d\n",
    "euclid(3.25, 3.25, 2.11, 4.31)"
   ]
  },
  {
   "cell_type": "code",
   "execution_count": 13,
   "metadata": {},
   "outputs": [
    {
     "name": "stderr",
     "output_type": "stream",
     "text": [
      "e:\\LAP TRINH PYTHON\\LT PTDL 1\\venv\\Lib\\site-packages\\sklearn\\cluster\\_kmeans.py:1416: FutureWarning: The default value of `n_init` will change from 10 to 'auto' in 1.4. Set the value of `n_init` explicitly to suppress the warning\n",
      "  super()._check_params_vs_input(X, default_n_init=10)\n"
     ]
    }
   ],
   "source": [
    "# metrics: thuật toán\n",
    "\n",
    "kmeans1 = KMeans(n_clusters=6).fit(data)"
   ]
  },
  {
   "cell_type": "code",
   "execution_count": 14,
   "metadata": {},
   "outputs": [
    {
     "name": "stdout",
     "output_type": "stream",
     "text": [
      "[[4.97       3.25      ]\n",
      " [2.16666667 4.28787879]\n",
      " [3.75       4.48484848]\n",
      " [6.05555556 6.08333333]]\n",
      "87.22813131313131\n",
      "10\n",
      "[2 0 3 2 2 1 3 2 2 2 1 3 1 1 2 0 2 2 2 2 1 0 0 3 0 0 0 3 2 1 0 2 2 1 1 1 0\n",
      " 1 1 1 0 2 0 1 2 1 0 3 0 2 1 1 2 1 0 2 3 1 1 1 1 2 0 1 0 1 2 2 2 1 1 2 1 1\n",
      " 0 0 2 2 2 1 0 1 2 1 3 2 1 1 2 1 0 2 2 2 0 0 0 3 0 0]\n"
     ]
    }
   ],
   "source": [
    "# Số tâm\n",
    "print(kmeans.cluster_centers_)\n",
    "\n",
    "# Độ đo đánh giá\n",
    "print(kmeans.inertia_)\n",
    "\n",
    "# Sẽ lặp bao nhiêu lần để tìm giá trị điển hình tối ưu\n",
    "print(kmeans.n_iter_)\n",
    "\n",
    "# Nhãn của các điểm dữ liệu\n",
    "print(kmeans.labels_[:])\n"
   ]
  },
  {
   "cell_type": "code",
   "execution_count": 15,
   "metadata": {},
   "outputs": [
    {
     "data": {
      "image/png": "[encoded data removed]",
      "text/plain": [
       "<Figure size 640x480 with 1 Axes>"
      ]
     },
     "metadata": {},
     "output_type": "display_data"
    }
   ],
   "source": [
    "# Cách 1: Dùng Elbow Method\n",
    "# Chọn số cụm tốt nhất\n",
    "# url: https://realpython.com/k-means-clustering-python/\n",
    "# url: https://dataofish.com/k-means-clustering-python/\n",
    "\n",
    "kmeans_kwargs = {\"init\": \"random\", \"n_init\": 10, \"max_iter\": 300, \"random_state\": 42}\n",
    "sse = []\n",
    "for k in range(1, 11):\n",
    "    kmeans = KMeans(n_clusters=k, **kmeans_kwargs)\n",
    "    kmeans.fit(data)\n",
    "    sse.append(kmeans.inertia_)\n",
    "\n",
    "plt.style.use(\"fivethirtyeight\")\n",
    "plt.plot(range(1, 11), sse)\n",
    "plt.xticks(range(1, 11))\n",
    "plt.xlabel(\"Number of Clusters\")\n",
    "plt.ylabel(\"SSE\")\n",
    "plt.show()"
   ]
  },
  {
   "cell_type": "code",
   "execution_count": 17,
   "metadata": {},
   "outputs": [
    {
     "name": "stdout",
     "output_type": "stream",
     "text": [
      "4\n"
     ]
    }
   ],
   "source": [
    "# Cách 2: Dùng phương pháp độ đo Elbow để tìm số cụm là tốt nhát\n",
    "\n",
    "from kneed import KneeLocator\n",
    "kl = KneeLocator(range(1, 11), sse, curve=\"convex\", direction=\"decreasing\")\n",
    "print(kl.elbow)"
   ]
  },
  {
   "cell_type": "code",
   "execution_count": 20,
   "metadata": {},
   "outputs": [
    {
     "name": "stdout",
     "output_type": "stream",
     "text": [
      "    NGONNGU  LOGIC  Cluster\n",
      "0      3.25   3.25        2\n",
      "1      6.00   4.00        1\n",
      "2      5.00   6.75        3\n",
      "3      4.25   4.25        2\n",
      "4      4.25   4.50        2\n",
      "..      ...    ...      ...\n",
      "95     5.25   1.50        1\n",
      "96     5.25   3.75        1\n",
      "97     7.00   8.00        3\n",
      "98     5.00   3.50        1\n",
      "99     5.25   2.50        1\n",
      "\n",
      "[100 rows x 3 columns]\n"
     ]
    },
    {
     "name": "stderr",
     "output_type": "stream",
     "text": [
      "e:\\LAP TRINH PYTHON\\LT PTDL 1\\venv\\Lib\\site-packages\\sklearn\\cluster\\_kmeans.py:1416: FutureWarning: The default value of `n_init` will change from 10 to 'auto' in 1.4. Set the value of `n_init` explicitly to suppress the warning\n",
      "  super()._check_params_vs_input(X, default_n_init=10)\n"
     ]
    }
   ],
   "source": [
    "# Xây dựng ứng dụng hiển thị danh sách sinh viên và nhãn (label)\n",
    "# Cụm sinh viên thuộc vào\n",
    "\n",
    "kmeans = KMeans(n_clusters=4).fit(data)\n",
    "data['Cluster'] = kmeans.labels_[:]\n",
    "print(data[['NGONNGU', 'LOGIC', 'Cluster']])\n"
   ]
  },
  {
   "cell_type": "code",
   "execution_count": 21,
   "metadata": {},
   "outputs": [
    {
     "data": {
      "image/png": "[encoded data removed]",
      "text/plain": [
       "<Figure size 640x480 with 1 Axes>"
      ]
     },
     "metadata": {},
     "output_type": "display_data"
    }
   ],
   "source": [
    "gr_data = data.groupby('Cluster').size()\n",
    "gr_data.plot.bar()\n",
    "plt.show()"
   ]
  },
  {
   "cell_type": "code",
   "execution_count": 22,
   "metadata": {},
   "outputs": [
    {
     "data": {
      "image/png": "[encoded data removed]",
      "text/plain": [
       "<Figure size 640x480 with 1 Axes>"
      ]
     },
     "metadata": {},
     "output_type": "display_data"
    }
   ],
   "source": [
    "gr_data_min = data.groupby(['Cluster'])[['NGONNGU', 'LOGIC']].min()\n",
    "gr_data_min.plot.bar()\n",
    "plt.show()"
   ]
  },
  {
   "cell_type": "code",
   "execution_count": 23,
   "metadata": {},
   "outputs": [
    {
     "data": {
      "image/png": "[encoded data removed]",
      "text/plain": [
       "<Figure size 1000x500 with 1 Axes>"
      ]
     },
     "metadata": {},
     "output_type": "display_data"
    }
   ],
   "source": [
    "gr_data_min = data.groupby(['Cluster'])[['NGONNGU', 'LOGIC']].mean()\n",
    "gr_data_min.plot(kind='bar', figsize=(10, 5))\n",
    "plt.show()"
   ]
  },
  {
   "cell_type": "code",
   "execution_count": null,
   "metadata": {},
   "outputs": [],
   "source": [
    "# Sinh viên khám phá các cụm cho tập điểm số (NGONNGU, LOGIC, UNGXU)"
   ]
  }
 ],
 "metadata": {
  "kernelspec": {
   "display_name": "venv",
   "language": "python",
   "name": "python3"
  },
  "language_info": {
   "codemirror_mode": {
    "name": "ipython",
    "version": 3
   },
   "file_extension": ".py",
   "mimetype": "text/x-python",
   "name": "python",
   "nbconvert_exporter": "python",
   "pygments_lexer": "ipython3",
   "version": "3.11.5"
  }
 },
 "nbformat": 4,
 "nbformat_minor": 2
}
