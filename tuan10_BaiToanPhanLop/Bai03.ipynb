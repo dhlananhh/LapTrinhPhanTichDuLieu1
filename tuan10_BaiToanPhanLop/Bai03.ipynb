{
 "cells": [
  {
   "cell_type": "markdown",
   "metadata": {},
   "source": [
    "# BÀI TẬP THỰC HÀNH LẬP TRÌNH PHÂN TÍCH DỮ LIỆU 1"
   ]
  },
  {
   "cell_type": "markdown",
   "metadata": {},
   "source": [
    "### BÀI TOÁN PHÂN LỚP: CLASSIFICATION & CLUSTERING"
   ]
  },
  {
   "cell_type": "markdown",
   "metadata": {},
   "source": [
    "## Bài 3"
   ]
  },
  {
   "cell_type": "code",
   "execution_count": null,
   "metadata": {},
   "outputs": [],
   "source": [
    "'''\n",
    "PCA\n",
    "\n",
    "1. Principal component analysis là gì?\n",
    "Phương pháp dựa trên phương pháp tuyến tính\n",
    "\n",
    "2. Mục đích của PCA\n",
    "- Khám phá được tương quan tuyến tính của đa biến\n",
    "- Giảm thiểu số lượng các cột dữ liệu (biến số) nhằm giúp chỉ quan tâm đến các cột có tác\n",
    "động mạnh với nhau.\n",
    "-> Giảm thiểu số chiều dữ liệu. Hay nói cách khác thay vì phải phân tích trên toàn bộ các\n",
    "cột dữ liệu thì ta sẽ\n",
    "giảm thiểu nhằm phân tích trên các cột trong tâm.\n",
    "\n",
    "3. PCA thuộc nhóm học máy nào?\n",
    "Un-supervised\n",
    "\n",
    "4. Ý nghĩa biểu diễn tập dữ liệu bằng các components (PC)\n",
    "\n",
    "5. Hiểu được đại lượng proportion of variance: Biểu diễn % sự đa dạng của tập dữ liệu\n",
    "còn giữ được sau khi dùng các component để biểu diễn\n",
    "\n",
    "6. Các xác đinh bao nhiêu component để biểu diễn dữ liệu là tốt nhất: Dùng Scree Chart\n",
    "(Elbow test)\n",
    "\n",
    "7. Đọc và hiểu thông tin dữ liệu trên từng component: Kiểm tra xem mỗi component đang\n",
    "đại diện cho những cột dữ liệu nào trong tập dữ liệu ban đầu\n",
    "'''"
   ]
  },
  {
   "cell_type": "markdown",
   "metadata": {},
   "source": [
    "Import thư viện"
   ]
  },
  {
   "cell_type": "code",
   "execution_count": 1,
   "metadata": {},
   "outputs": [],
   "source": [
    "from sklearn.decomposition import PCA\n",
    "from sklearn.preprocessing import StandardScaler\n",
    "from bioinfokit.analys import get_data\n",
    "import pandas as pd\n",
    "import numpy as np"
   ]
  },
  {
   "cell_type": "code",
   "execution_count": 2,
   "metadata": {},
   "outputs": [
    {
     "data": {
      "text/html": [
       "<div>\n",
       "<style scoped>\n",
       "    .dataframe tbody tr th:only-of-type {\n",
       "        vertical-align: middle;\n",
       "    }\n",
       "\n",
       "    .dataframe tbody tr th {\n",
       "        vertical-align: top;\n",
       "    }\n",
       "\n",
       "    .dataframe thead th {\n",
       "        text-align: right;\n",
       "    }\n",
       "</style>\n",
       "<table border=\"1\" class=\"dataframe\">\n",
       "  <thead>\n",
       "    <tr style=\"text-align: right;\">\n",
       "      <th></th>\n",
       "      <th>A</th>\n",
       "      <th>B</th>\n",
       "      <th>C</th>\n",
       "      <th>D</th>\n",
       "      <th>E</th>\n",
       "      <th>F</th>\n",
       "    </tr>\n",
       "  </thead>\n",
       "  <tbody>\n",
       "    <tr>\n",
       "      <th>0</th>\n",
       "      <td>4.50570</td>\n",
       "      <td>3.26036</td>\n",
       "      <td>-1.24940</td>\n",
       "      <td>8.89807</td>\n",
       "      <td>8.05955</td>\n",
       "      <td>-0.842803</td>\n",
       "    </tr>\n",
       "    <tr>\n",
       "      <th>1</th>\n",
       "      <td>3.50856</td>\n",
       "      <td>1.66079</td>\n",
       "      <td>-1.85668</td>\n",
       "      <td>-2.57336</td>\n",
       "      <td>-1.37370</td>\n",
       "      <td>1.196000</td>\n",
       "    </tr>\n",
       "  </tbody>\n",
       "</table>\n",
       "</div>"
      ],
      "text/plain": [
       "         A        B        C        D        E         F\n",
       "0  4.50570  3.26036 -1.24940  8.89807  8.05955 -0.842803\n",
       "1  3.50856  1.66079 -1.85668 -2.57336 -1.37370  1.196000"
      ]
     },
     "execution_count": 2,
     "metadata": {},
     "output_type": "execute_result"
    }
   ],
   "source": [
    "df = get_data('gexp').data\n",
    "df.head(2)"
   ]
  },
  {
   "cell_type": "code",
   "execution_count": 3,
   "metadata": {},
   "outputs": [
    {
     "data": {
      "text/html": [
       "<div>\n",
       "<style scoped>\n",
       "    .dataframe tbody tr th:only-of-type {\n",
       "        vertical-align: middle;\n",
       "    }\n",
       "\n",
       "    .dataframe tbody tr th {\n",
       "        vertical-align: top;\n",
       "    }\n",
       "\n",
       "    .dataframe thead th {\n",
       "        text-align: right;\n",
       "    }\n",
       "</style>\n",
       "<table border=\"1\" class=\"dataframe\">\n",
       "  <thead>\n",
       "    <tr style=\"text-align: right;\">\n",
       "      <th></th>\n",
       "      <th>A</th>\n",
       "      <th>B</th>\n",
       "      <th>C</th>\n",
       "      <th>D</th>\n",
       "      <th>E</th>\n",
       "      <th>F</th>\n",
       "    </tr>\n",
       "  </thead>\n",
       "  <tbody>\n",
       "    <tr>\n",
       "      <th>0</th>\n",
       "      <td>0.619654</td>\n",
       "      <td>0.448280</td>\n",
       "      <td>-0.240867</td>\n",
       "      <td>2.457058</td>\n",
       "      <td>2.304732</td>\n",
       "      <td>-0.331489</td>\n",
       "    </tr>\n",
       "    <tr>\n",
       "      <th>1</th>\n",
       "      <td>0.342286</td>\n",
       "      <td>-0.041499</td>\n",
       "      <td>-0.428652</td>\n",
       "      <td>-1.214732</td>\n",
       "      <td>-0.877151</td>\n",
       "      <td>0.474930</td>\n",
       "    </tr>\n",
       "  </tbody>\n",
       "</table>\n",
       "</div>"
      ],
      "text/plain": [
       "          A         B         C         D         E         F\n",
       "0  0.619654  0.448280 -0.240867  2.457058  2.304732 -0.331489\n",
       "1  0.342286 -0.041499 -0.428652 -1.214732 -0.877151  0.474930"
      ]
     },
     "execution_count": 3,
     "metadata": {},
     "output_type": "execute_result"
    }
   ],
   "source": [
    "df_st = StandardScaler().fit_transform(df)\n",
    "pd.DataFrame(df_st, columns=df.columns).head(2)"
   ]
  },
  {
   "cell_type": "code",
   "execution_count": 4,
   "metadata": {},
   "outputs": [
    {
     "data": {
      "text/plain": [
       "array([0.2978742 , 0.27481252, 0.23181442, 0.19291638, 0.00144353,\n",
       "       0.00113895])"
      ]
     },
     "execution_count": 4,
     "metadata": {},
     "output_type": "execute_result"
    }
   ],
   "source": [
    "pca_out = PCA().fit(df_st)\n",
    "pca_out.explained_variance_ratio_"
   ]
  },
  {
   "cell_type": "code",
   "execution_count": 5,
   "metadata": {},
   "outputs": [
    {
     "data": {
      "text/plain": [
       "array([0.2978742 , 0.57268672, 0.80450114, 0.99741752, 0.99886105,\n",
       "       1.        ])"
      ]
     },
     "execution_count": 5,
     "metadata": {},
     "output_type": "execute_result"
    }
   ],
   "source": [
    "np.cumsum(pca_out.explained_variance_ratio_)"
   ]
  }
 ],
 "metadata": {
  "kernelspec": {
   "display_name": "venv",
   "language": "python",
   "name": "python3"
  },
  "language_info": {
   "codemirror_mode": {
    "name": "ipython",
    "version": 3
   },
   "file_extension": ".py",
   "mimetype": "text/x-python",
   "name": "python",
   "nbconvert_exporter": "python",
   "pygments_lexer": "ipython3",
   "version": "3.11.5"
  }
 },
 "nbformat": 4,
 "nbformat_minor": 2
}
