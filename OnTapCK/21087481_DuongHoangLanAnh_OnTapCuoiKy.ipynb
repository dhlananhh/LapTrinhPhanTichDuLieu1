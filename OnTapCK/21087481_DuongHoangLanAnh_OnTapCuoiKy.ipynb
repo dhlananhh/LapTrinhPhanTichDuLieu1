{
 "cells": [
  {
   "cell_type": "markdown",
   "metadata": {},
   "source": [
    "21087481_Dương Hoàng Lan Anh"
   ]
  },
  {
   "cell_type": "markdown",
   "metadata": {},
   "source": [
    "> #### Sử dụng dataset: StudentsPerformance.csv"
   ]
  },
  {
   "cell_type": "markdown",
   "metadata": {},
   "source": [
    "Import thư viện"
   ]
  },
  {
   "cell_type": "code",
   "execution_count": 1,
   "metadata": {},
   "outputs": [],
   "source": [
    "%matplotlib inline\n",
    "import pandas as pd\n",
    "import numpy as np\n",
    "import statistics\n",
    "import seaborn as sns\n",
    "import matplotlib.pyplot as plt\n",
    "from subprocess import check_output\n",
    "from scipy import stats\n",
    "from sklearn.linear_model import LogisticRegression\n",
    "from sklearn.model_selection import train_test_split\n",
    "from sklearn.ensemble import RandomForestClassifier\n",
    "from sklearn.tree import DecisionTreeClassifier, export_graphviz\n",
    "from sklearn import metrics"
   ]
  },
  {
   "cell_type": "markdown",
   "metadata": {},
   "source": [
    "Đọc dữ liệu từ file csv"
   ]
  },
  {
   "cell_type": "code",
   "execution_count": 2,
   "metadata": {},
   "outputs": [],
   "source": [
    "df = pd.read_csv('../data/StudentsPerformance.csv')"
   ]
  },
  {
   "cell_type": "code",
   "execution_count": 3,
   "metadata": {},
   "outputs": [],
   "source": [
    "# Set style for seaborn output\n",
    "sns.set_style('whitegrid') "
   ]
  },
  {
   "cell_type": "markdown",
   "metadata": {},
   "source": [
    "Hiển thị toàn bộ dữ liệu"
   ]
  },
  {
   "cell_type": "code",
   "execution_count": 4,
   "metadata": {},
   "outputs": [
    {
     "data": {
      "text/html": [
       "<div>\n",
       "<style scoped>\n",
       "    .dataframe tbody tr th:only-of-type {\n",
       "        vertical-align: middle;\n",
       "    }\n",
       "\n",
       "    .dataframe tbody tr th {\n",
       "        vertical-align: top;\n",
       "    }\n",
       "\n",
       "    .dataframe thead th {\n",
       "        text-align: right;\n",
       "    }\n",
       "</style>\n",
       "<table border=\"1\" class=\"dataframe\">\n",
       "  <thead>\n",
       "    <tr style=\"text-align: right;\">\n",
       "      <th></th>\n",
       "      <th>gender</th>\n",
       "      <th>race/ethnicity</th>\n",
       "      <th>parental level of education</th>\n",
       "      <th>lunch</th>\n",
       "      <th>test preparation course</th>\n",
       "      <th>math score</th>\n",
       "      <th>reading score</th>\n",
       "      <th>writing score</th>\n",
       "    </tr>\n",
       "  </thead>\n",
       "  <tbody>\n",
       "    <tr>\n",
       "      <th>0</th>\n",
       "      <td>female</td>\n",
       "      <td>group B</td>\n",
       "      <td>bachelor's degree</td>\n",
       "      <td>standard</td>\n",
       "      <td>none</td>\n",
       "      <td>72</td>\n",
       "      <td>72</td>\n",
       "      <td>74</td>\n",
       "    </tr>\n",
       "    <tr>\n",
       "      <th>1</th>\n",
       "      <td>female</td>\n",
       "      <td>group C</td>\n",
       "      <td>some college</td>\n",
       "      <td>standard</td>\n",
       "      <td>completed</td>\n",
       "      <td>69</td>\n",
       "      <td>90</td>\n",
       "      <td>88</td>\n",
       "    </tr>\n",
       "    <tr>\n",
       "      <th>2</th>\n",
       "      <td>female</td>\n",
       "      <td>group B</td>\n",
       "      <td>master's degree</td>\n",
       "      <td>standard</td>\n",
       "      <td>none</td>\n",
       "      <td>90</td>\n",
       "      <td>95</td>\n",
       "      <td>93</td>\n",
       "    </tr>\n",
       "    <tr>\n",
       "      <th>3</th>\n",
       "      <td>male</td>\n",
       "      <td>group A</td>\n",
       "      <td>associate's degree</td>\n",
       "      <td>free/reduced</td>\n",
       "      <td>none</td>\n",
       "      <td>47</td>\n",
       "      <td>57</td>\n",
       "      <td>44</td>\n",
       "    </tr>\n",
       "    <tr>\n",
       "      <th>4</th>\n",
       "      <td>male</td>\n",
       "      <td>group C</td>\n",
       "      <td>some college</td>\n",
       "      <td>standard</td>\n",
       "      <td>none</td>\n",
       "      <td>76</td>\n",
       "      <td>78</td>\n",
       "      <td>75</td>\n",
       "    </tr>\n",
       "    <tr>\n",
       "      <th>...</th>\n",
       "      <td>...</td>\n",
       "      <td>...</td>\n",
       "      <td>...</td>\n",
       "      <td>...</td>\n",
       "      <td>...</td>\n",
       "      <td>...</td>\n",
       "      <td>...</td>\n",
       "      <td>...</td>\n",
       "    </tr>\n",
       "    <tr>\n",
       "      <th>995</th>\n",
       "      <td>female</td>\n",
       "      <td>group E</td>\n",
       "      <td>master's degree</td>\n",
       "      <td>standard</td>\n",
       "      <td>completed</td>\n",
       "      <td>88</td>\n",
       "      <td>99</td>\n",
       "      <td>95</td>\n",
       "    </tr>\n",
       "    <tr>\n",
       "      <th>996</th>\n",
       "      <td>male</td>\n",
       "      <td>group C</td>\n",
       "      <td>high school</td>\n",
       "      <td>free/reduced</td>\n",
       "      <td>none</td>\n",
       "      <td>62</td>\n",
       "      <td>55</td>\n",
       "      <td>55</td>\n",
       "    </tr>\n",
       "    <tr>\n",
       "      <th>997</th>\n",
       "      <td>female</td>\n",
       "      <td>group C</td>\n",
       "      <td>high school</td>\n",
       "      <td>free/reduced</td>\n",
       "      <td>completed</td>\n",
       "      <td>59</td>\n",
       "      <td>71</td>\n",
       "      <td>65</td>\n",
       "    </tr>\n",
       "    <tr>\n",
       "      <th>998</th>\n",
       "      <td>female</td>\n",
       "      <td>group D</td>\n",
       "      <td>some college</td>\n",
       "      <td>standard</td>\n",
       "      <td>completed</td>\n",
       "      <td>68</td>\n",
       "      <td>78</td>\n",
       "      <td>77</td>\n",
       "    </tr>\n",
       "    <tr>\n",
       "      <th>999</th>\n",
       "      <td>female</td>\n",
       "      <td>group D</td>\n",
       "      <td>some college</td>\n",
       "      <td>free/reduced</td>\n",
       "      <td>none</td>\n",
       "      <td>77</td>\n",
       "      <td>86</td>\n",
       "      <td>86</td>\n",
       "    </tr>\n",
       "  </tbody>\n",
       "</table>\n",
       "<p>1000 rows × 8 columns</p>\n",
       "</div>"
      ],
      "text/plain": [
       "     gender race/ethnicity parental level of education         lunch  \\\n",
       "0    female        group B           bachelor's degree      standard   \n",
       "1    female        group C                some college      standard   \n",
       "2    female        group B             master's degree      standard   \n",
       "3      male        group A          associate's degree  free/reduced   \n",
       "4      male        group C                some college      standard   \n",
       "..      ...            ...                         ...           ...   \n",
       "995  female        group E             master's degree      standard   \n",
       "996    male        group C                 high school  free/reduced   \n",
       "997  female        group C                 high school  free/reduced   \n",
       "998  female        group D                some college      standard   \n",
       "999  female        group D                some college  free/reduced   \n",
       "\n",
       "    test preparation course  math score  reading score  writing score  \n",
       "0                      none          72             72             74  \n",
       "1                 completed          69             90             88  \n",
       "2                      none          90             95             93  \n",
       "3                      none          47             57             44  \n",
       "4                      none          76             78             75  \n",
       "..                      ...         ...            ...            ...  \n",
       "995               completed          88             99             95  \n",
       "996                    none          62             55             55  \n",
       "997               completed          59             71             65  \n",
       "998               completed          68             78             77  \n",
       "999                    none          77             86             86  \n",
       "\n",
       "[1000 rows x 8 columns]"
      ]
     },
     "execution_count": 4,
     "metadata": {},
     "output_type": "execute_result"
    }
   ],
   "source": [
    "df"
   ]
  },
  {
   "cell_type": "markdown",
   "metadata": {},
   "source": [
    "## I) CÁC BÀI TOÁN VỀ KIỂM ĐỊNH"
   ]
  },
  {
   "cell_type": "markdown",
   "metadata": {},
   "source": [
    "### 1. Thực hiện kiểm định trung bình của 1 biến số (định lượng) bằng phương pháp Z-Test bằng một giá trị nào đó với mức sai lầm là 5%. Cho nhận xét"
   ]
  },
  {
   "cell_type": "markdown",
   "metadata": {},
   "source": [
    "Với One Sample Z-Test:\n",
    "\n",
    "- Mục đích: Kiểm định trung bình của 1 biến số (định lượng) có bằng một giá trị nào đó hay không\n",
    "\n",
    "- Xác định giả thuyết H0\n",
    "\n",
    "- Xác định giả thuyết H1\n",
    "\n",
    "- Mặc định mức tin cậy là 95% và mức sai lầm là 5% => mức ý nghĩa alpha = 0.05\n",
    "\n",
    "- Quy tắc suy diễn:\n",
    "    * Nếu p-value < alpha => bác bỏ giả thuyết H0\n",
    "    * Nếu p-value > alpha => chấp nhận giả thuyết H0"
   ]
  },
  {
   "cell_type": "code",
   "execution_count": 5,
   "metadata": {},
   "outputs": [
    {
     "data": {
      "text/plain": [
       "1      69\n",
       "6      88\n",
       "8      64\n",
       "13     78\n",
       "18     46\n",
       "       ..\n",
       "990    86\n",
       "991    65\n",
       "995    88\n",
       "997    59\n",
       "998    68\n",
       "Name: math score, Length: 358, dtype: int64"
      ]
     },
     "execution_count": 5,
     "metadata": {},
     "output_type": "execute_result"
    }
   ],
   "source": [
    "# df_math: Dữ liệu về điểm môn toán của các sinh viên đã hoàn thành khóa luyện thi\n",
    "df_math = df[df['test preparation course'] == 'completed']['math score']\n",
    "df_math"
   ]
  },
  {
   "cell_type": "code",
   "execution_count": 6,
   "metadata": {},
   "outputs": [
    {
     "data": {
      "text/plain": [
       "69.69553072625699"
      ]
     },
     "execution_count": 6,
     "metadata": {},
     "output_type": "execute_result"
    }
   ],
   "source": [
    "# Kiểm tra giá trị trung bình của df_math\n",
    "df_math.mean()"
   ]
  },
  {
   "cell_type": "markdown",
   "metadata": {},
   "source": [
    "Với One Sample Z-Test:\n",
    "\n",
    "- Mục đích: Kiểm định trung bình của 1 biến số (định lượng) có bằng một giá trị nào đó hay không\n",
    "\n",
    "- Xác định giả thuyết H0: Trung bình điểm môn toán của các sinh viên đã hoàn thành khóa luyện thi KHÔNG BẰNG 70\n",
    "\n",
    "- Xác định giả thuyết H1: Trung bình điểm môn toán của các sinh viên đã hoàn thành khóa luyện thi BẰNG 70\n",
    "\n",
    "- Mặc định mức tin cậy là 95% và mức sai lầm là 5% => mức ý nghĩa alpha = 0.05\n",
    "\n",
    "- Quy tắc suy diễn:\n",
    "    * Nếu p-value < alpha => bác bỏ giả thuyết H0\n",
    "    * Nếu p-value > alpha => chấp nhận giả thuyết H0"
   ]
  },
  {
   "cell_type": "code",
   "execution_count": 7,
   "metadata": {},
   "outputs": [
    {
     "data": {
      "text/plain": [
       "(-0.3988195888506191, 0.6900261422235778)"
      ]
     },
     "execution_count": 7,
     "metadata": {},
     "output_type": "execute_result"
    }
   ],
   "source": [
    "# Kiểm tra xem trung bình điểm môn toán của các sinh viên đã hoàn thành khóa luyện thi có bằng 70 hay không bằng phương pháp Z-Test\n",
    "from statsmodels.stats.weightstats import ztest as ztest\n",
    "ztest(df_math, value=70)"
   ]
  },
  {
   "cell_type": "markdown",
   "metadata": {},
   "source": [
    "**Kết luận:**\n",
    "\n",
    "- Với mức ý nghĩa alpha = 5%, ta có p-value = 0.69 > 0.05 => p-value > alpha => Chấp nhận giả thuyết H0\n",
    "\n",
    "- Suy ra đủ dữ kiện để có thể khẳng định rằng trung bình điểm môn toán của các sinh viên đã hoàn thành khóa luyện thi không bằng 70\n",
    "\n",
    "- Hay nói cách khác, chấp nhận giả thuyết H0 ở mức sai lầm 5%"
   ]
  },
  {
   "cell_type": "markdown",
   "metadata": {},
   "source": [
    "### 2. Thực hiện kiểm định trung bình của 2 biến số (định lượng) có bằng nhau không bằng phương pháp T-Test với mức sai lầm là 10%. Cho nhận xét"
   ]
  },
  {
   "cell_type": "markdown",
   "metadata": {},
   "source": [
    "Với Two Sample T-Test:\n",
    "- Xác định giả thuyết H0\n",
    "\n",
    "- Xác định giả thuyết H1\n",
    "\n",
    "- Mặc định mức tin cậy là 90% và mức sai lầm là 10% => mức ý nghĩa alpha = 0.1\n",
    "\n",
    "- Quy tắc suy diễn:\n",
    "    * Nếu p-value < alpha thì bác bỏ H0\n",
    "    * Nếu p-value > alpha thì chấp nhận H0"
   ]
  },
  {
   "cell_type": "code",
   "execution_count": 8,
   "metadata": {},
   "outputs": [
    {
     "data": {
      "text/plain": [
       "1      90\n",
       "6      95\n",
       "8      64\n",
       "13     72\n",
       "18     42\n",
       "       ..\n",
       "990    81\n",
       "991    82\n",
       "995    99\n",
       "997    71\n",
       "998    78\n",
       "Name: reading score, Length: 358, dtype: int64"
      ]
     },
     "execution_count": 8,
     "metadata": {},
     "output_type": "execute_result"
    }
   ],
   "source": [
    "# df_reading: Dữ liệu về điểm môn đọc của các sinh viên đã hoàn thành khóa luyện thi\n",
    "df_reading = df[df['test preparation course'] == 'completed']['reading score']\n",
    "df_reading"
   ]
  },
  {
   "cell_type": "code",
   "execution_count": 9,
   "metadata": {},
   "outputs": [
    {
     "data": {
      "text/plain": [
       "1      88\n",
       "6      92\n",
       "8      67\n",
       "13     70\n",
       "18     46\n",
       "       ..\n",
       "990    75\n",
       "991    78\n",
       "995    95\n",
       "997    65\n",
       "998    77\n",
       "Name: writing score, Length: 358, dtype: int64"
      ]
     },
     "execution_count": 9,
     "metadata": {},
     "output_type": "execute_result"
    }
   ],
   "source": [
    "# df_writing: Dữ liệu về điểm môn viết của các sinh viên đã hoàn thành khóa luyện thi\n",
    "df_writing = df[df['test preparation course'] == 'completed']['writing score']\n",
    "df_writing"
   ]
  },
  {
   "cell_type": "code",
   "execution_count": 10,
   "metadata": {},
   "outputs": [
    {
     "data": {
      "text/plain": [
       "73.89385474860335"
      ]
     },
     "execution_count": 10,
     "metadata": {},
     "output_type": "execute_result"
    }
   ],
   "source": [
    "# Kiểm tra giá trị trung bình của df_reading\n",
    "df_reading.mean()"
   ]
  },
  {
   "cell_type": "code",
   "execution_count": 11,
   "metadata": {},
   "outputs": [
    {
     "data": {
      "text/plain": [
       "74.41899441340782"
      ]
     },
     "execution_count": 11,
     "metadata": {},
     "output_type": "execute_result"
    }
   ],
   "source": [
    "# Kiểm tra giá trị trung bình của df_writing\n",
    "df_writing.mean()"
   ]
  },
  {
   "cell_type": "markdown",
   "metadata": {},
   "source": [
    "Với Two Sample T-Test:\n",
    "- Xác định giả thuyết H0:\n",
    "Trung bình điểm môn đọc và trung bình điểm môn viết của các sinh viên đã hoàn thành khóa luyện thi KHÔNG BẰNG nhau\n",
    "\n",
    "- Xác định giả thuyết H1: \n",
    "Trung bình điểm môn đọc và trung bình điểm môn viết của các sinh viên đã hoàn thành khóa luyện thi BẰNG nhau\n",
    "\n",
    "- Mặc định mức tin cậy là 90% và mức sai lầm là 10% => mức ý nghĩa alpha = 0.1\n",
    "\n",
    "- Quy tắc suy diễn:\n",
    "    * Nếu p-value < alpha thì bác bỏ H0\n",
    "    * Nếu p-value > alpha thì chấp nhận H0"
   ]
  },
  {
   "cell_type": "code",
   "execution_count": 12,
   "metadata": {},
   "outputs": [
    {
     "data": {
      "text/plain": [
       "TtestResult(statistic=-0.5201473317338142, pvalue=0.6031221244982492, df=714.0)"
      ]
     },
     "execution_count": 12,
     "metadata": {},
     "output_type": "execute_result"
    }
   ],
   "source": [
    "# Kiểm tra xem trung bình điểm môn đọc và trung bình điểm môn viết của các sinh viên đã hoàn thành khóa luyện thi có bằng nhau hay không bằng phương pháp T-Test\n",
    "\n",
    "from scipy import stats\n",
    "import scipy.stats\n",
    "\n",
    "stats.ttest_ind(df_reading, df_writing, equal_var=True)"
   ]
  },
  {
   "cell_type": "markdown",
   "metadata": {},
   "source": [
    "**Kết luận:**\n",
    "* Do alpha = -0.52 và p-value = 0.6 => p-value > alpha => chấp nhận H0\n",
    "\n",
    "* Suy ra đủ dữ kiện để có thể khẳng định rằng các sinh viên đã hoàn thành khóa luyện thi có trung bình điểm môn đọc và môn viết KHÔNG bằng nhau\n",
    "\n",
    "* Hay nói cách khác, chấp nhận giả thuyết H0 ở mức sai lầm 10%"
   ]
  },
  {
   "cell_type": "markdown",
   "metadata": {},
   "source": [
    "### 3. Thực hiện kiểm tra 2 biến định lượng có tương quan với nhau không bằng phương pháp Chi-Square với mức sai lầm là 5%? Cho nhận xét."
   ]
  },
  {
   "cell_type": "markdown",
   "metadata": {},
   "source": [
    "Với Chi-Square Test:\n",
    "\n",
    "- Mục đích: Kiểm tra sự độc lập của 2 biến định tính\n",
    "\n",
    "- Xác định giả thuyết H0\n",
    "\n",
    "- Xác định giả thuyết H1\n",
    "\n",
    "- Mặc định mức tin cậy là 95% và mức sai lầm là 5% => mức ý nghĩa alpha = 0.05\n",
    "\n",
    "- Quy tắc suy diễn:\n",
    "    * Nếu p-value < alpha thì bác bỏ giả thuyết H0\n",
    "    * Nếu p-value >= alpha thì chấp nhận giả thuyết H0"
   ]
  },
  {
   "cell_type": "code",
   "execution_count": 13,
   "metadata": {},
   "outputs": [
    {
     "data": {
      "text/html": [
       "<div>\n",
       "<style scoped>\n",
       "    .dataframe tbody tr th:only-of-type {\n",
       "        vertical-align: middle;\n",
       "    }\n",
       "\n",
       "    .dataframe tbody tr th {\n",
       "        vertical-align: top;\n",
       "    }\n",
       "\n",
       "    .dataframe thead th {\n",
       "        text-align: right;\n",
       "    }\n",
       "</style>\n",
       "<table border=\"1\" class=\"dataframe\">\n",
       "  <thead>\n",
       "    <tr style=\"text-align: right;\">\n",
       "      <th>gender</th>\n",
       "      <th>female</th>\n",
       "      <th>male</th>\n",
       "    </tr>\n",
       "    <tr>\n",
       "      <th>lunch</th>\n",
       "      <th></th>\n",
       "      <th></th>\n",
       "    </tr>\n",
       "  </thead>\n",
       "  <tbody>\n",
       "    <tr>\n",
       "      <th>free/reduced</th>\n",
       "      <td>189</td>\n",
       "      <td>166</td>\n",
       "    </tr>\n",
       "    <tr>\n",
       "      <th>standard</th>\n",
       "      <td>329</td>\n",
       "      <td>316</td>\n",
       "    </tr>\n",
       "  </tbody>\n",
       "</table>\n",
       "</div>"
      ],
      "text/plain": [
       "gender        female  male\n",
       "lunch                     \n",
       "free/reduced     189   166\n",
       "standard         329   316"
      ]
     },
     "execution_count": 13,
     "metadata": {},
     "output_type": "execute_result"
    }
   ],
   "source": [
    "'''\n",
    "Hãy kiểm tra xem có sự phụ thuộc nào giữa giới tính và việc ăn trưa trước khi thi của sinh viên hay không ?\n",
    "'''\n",
    "\n",
    "cont_table  = pd.crosstab(df['lunch'], df['gender'])\n",
    "cont_table"
   ]
  },
  {
   "cell_type": "markdown",
   "metadata": {},
   "source": [
    "Với Chi-Square Test:\n",
    "\n",
    "- Mục đích: Kiểm tra sự độc lập của 2 biến định tính\n",
    "\n",
    "- Xác định giả thuyết H0: \n",
    "KHÔNG có sự phụ thuộc giữa giới tính và việc ăn trưa trước khi thi của sinh viên\n",
    "\n",
    "- Xác định giả thuyết H1:\n",
    "CÓ sự phụ thuộc giữa giới tính và việc ăn trưa trước khi thi của sinh viên\n",
    "\n",
    "- Mặc định mức tin cậy là 95% và mức sai lầm là 5% => mức ý nghĩa alpha = 0.05\n",
    "\n",
    "- Quy tắc suy diễn:\n",
    "    * Nếu p-value < alpha thì bác bỏ giả thuyết H0\n",
    "    * Nếu p-value >= alpha thì chấp nhận giả thuyết H0"
   ]
  },
  {
   "cell_type": "code",
   "execution_count": 14,
   "metadata": {},
   "outputs": [
    {
     "name": "stdout",
     "output_type": "stream",
     "text": [
      "p-value is: 0.5420584175146086\n",
      "Independent (H0 holds true)\n"
     ]
    }
   ],
   "source": [
    "stat, p, dof, expected = scipy.stats.chi2_contingency(cont_table)\n",
    "\n",
    "# tìm giá trị p-value\n",
    "alpha = 0.05\n",
    "print(\"p-value is: \" + str(p))\n",
    "if p <= alpha:\n",
    "    print ('Dependent (Reject H0)')\n",
    "else:\n",
    "    print ('Independent (H0 holds true)')"
   ]
  },
  {
   "cell_type": "markdown",
   "metadata": {},
   "source": [
    "**Nhận xét:**\n",
    "* Không có sự phụ thuộc nào giữa giới tính và việc ăn trưa trước khi thi của sinh viên\n",
    "* Suy ra có đủ dữ kiện để có thể khẳng định rằng giới tính và việc ăn trưa trước khi thi của sinh viên KHÔNG phụ thuộc nhau\n",
    "* Kết luận: p-value = 0.542 > 0.05 => p-value > alpha => chấp nhận giả thuyết H0\n",
    "* Hay nói cách khác, chấp nhận giả thuyết H0 ở mức sai lầm 5%"
   ]
  },
  {
   "cell_type": "markdown",
   "metadata": {},
   "source": [
    "### 4. Thực hiện kiểm định trung bình của 1 biến số (định lượng) bằng phương pháp T-Test của 1 một thuộc tính nào đó với mức sai lầm là 5%. Cho nhận xét"
   ]
  },
  {
   "cell_type": "markdown",
   "metadata": {},
   "source": [
    "Với One Sample T-Test:\n",
    "\n",
    "- Mục đích: Kiểm định trung bình của 1 biến số (định lượng) có bằng một giá trị nào đó hay không\n",
    "\n",
    "- Xác định giả thuyết H0\n",
    "\n",
    "- Xác định giả thuyết H1\n",
    "\n",
    "- Mặc định mức tin cậy là 95% và mức sai lầm là 5% => mức ý nghĩa alpha là 5%\n",
    "\n",
    "- Quy tắc suy diễn:\n",
    "    * Nếu p-value < alpha thì bác bỏ giả thuyết H0\n",
    "    * Nếu p-value > alpha thì chấp nhận giả thuyết H0"
   ]
  },
  {
   "cell_type": "code",
   "execution_count": 15,
   "metadata": {},
   "outputs": [
    {
     "data": {
      "text/plain": [
       "1      69\n",
       "6      88\n",
       "8      64\n",
       "13     78\n",
       "18     46\n",
       "       ..\n",
       "990    86\n",
       "991    65\n",
       "995    88\n",
       "997    59\n",
       "998    68\n",
       "Name: math score, Length: 358, dtype: int64"
      ]
     },
     "execution_count": 15,
     "metadata": {},
     "output_type": "execute_result"
    }
   ],
   "source": [
    "# df_math: Dữ liệu về điểm môn toán của các sinh viên đã hoàn thành khóa luyện thi\n",
    "df_math = df[df['test preparation course'] == 'completed']['math score']\n",
    "df_math"
   ]
  },
  {
   "cell_type": "code",
   "execution_count": 16,
   "metadata": {},
   "outputs": [
    {
     "data": {
      "text/plain": [
       "69.69553072625699"
      ]
     },
     "execution_count": 16,
     "metadata": {},
     "output_type": "execute_result"
    }
   ],
   "source": [
    "# Kiểm tra giá trị trung bình của df_math\n",
    "df_math.mean()"
   ]
  },
  {
   "cell_type": "markdown",
   "metadata": {},
   "source": [
    "Với One Sample T-Test:\n",
    "- Xác định giả thuyết H0:\n",
    "Trung bình điểm môn toán của các sinh viên đã hoàn thành khóa luyện thi KHÔNG BẰNG 70\n",
    "\n",
    "- Xác định giả thuyết H1:\n",
    "Trung bình điểm môn toán của các sinh viên đã hoàn thành khóa luyện thi BẰNG 70\n",
    "\n",
    "- Mặc định mức tin cậy là 95% và mức sai lầm là 5% => mức ý nghĩa alpha là 5%\n",
    "\n",
    "- Quy tắc suy diễn:\n",
    "    * Nếu p-value < alpha thì bác bỏ giả thuyết H0\n",
    "    * Nếu p-value > alpha thì chấp nhận giả thuyết H0"
   ]
  },
  {
   "cell_type": "code",
   "execution_count": 17,
   "metadata": {},
   "outputs": [
    {
     "data": {
      "text/plain": [
       "TtestResult(statistic=-0.398819588850619, pvalue=0.6902645830709271, df=357)"
      ]
     },
     "execution_count": 17,
     "metadata": {},
     "output_type": "execute_result"
    }
   ],
   "source": [
    "# Kiểm tra xem trung bình điểm môn toán của các sinh viên đã hoàn thành khóa luyện thi có bằng 70 hay không bằng phương pháp T-Test\n",
    "# Mặc định mức tin cậy là 95% và mức sai lầm là 5%\n",
    "\n",
    "from scipy import stats\n",
    "import scipy.stats\n",
    "\n",
    "stats.ttest_1samp(df_math, popmean=70)"
   ]
  },
  {
   "cell_type": "markdown",
   "metadata": {},
   "source": [
    "**Kết luận:**\n",
    "\n",
    "* Do alpha = -0.3988 và p-value = 0.69 => p-value > alpha => chấp nhận giả thuyết H0\n",
    "\n",
    "* Suy ra đủ dữ kiện để có thể khẳng định rằng trung bình điểm môn toán của các sinh viên đã hoàn thành khóa luyện thi KHÔNG BẰNG 70\n",
    "\n",
    "* Hay nói cách khác, chấp nhận giả thuyết H0 ở mức sai lầm 5%"
   ]
  },
  {
   "cell_type": "markdown",
   "metadata": {},
   "source": [
    "### 5. Thực hiện kiểm định trung bình của 2 biến số (định lượng) có bằng nhau không bằng phương pháp Z-Test với mức sai lầm là 10%. Cho nhận xét"
   ]
  },
  {
   "cell_type": "markdown",
   "metadata": {},
   "source": [
    "Với Two Sample Z-Test:\n",
    "- Xác định giả thuyết H0\n",
    "\n",
    "- Xác định giả thuyết H1\n",
    "\n",
    "- Mặc định mức tin cậy là 90% và mức sai lầm là 10% => mức ý nghĩa alpha = 0.1\n",
    "\n",
    "- Quy tắc suy diễn:\n",
    "    * Nếu p-value < alpha thì bác bỏ H0\n",
    "    * Nếu p-value > alpha thì chấp nhận H0"
   ]
  },
  {
   "cell_type": "code",
   "execution_count": 18,
   "metadata": {},
   "outputs": [
    {
     "data": {
      "text/plain": [
       "1      90\n",
       "6      95\n",
       "8      64\n",
       "13     72\n",
       "18     42\n",
       "       ..\n",
       "990    81\n",
       "991    82\n",
       "995    99\n",
       "997    71\n",
       "998    78\n",
       "Name: reading score, Length: 358, dtype: int64"
      ]
     },
     "execution_count": 18,
     "metadata": {},
     "output_type": "execute_result"
    }
   ],
   "source": [
    "# df_reading: Dữ liệu về điểm môn đọc của các sinh viên đã hoàn thành khóa luyện thi\n",
    "df_reading = df[df['test preparation course'] == 'completed']['reading score']\n",
    "df_reading"
   ]
  },
  {
   "cell_type": "code",
   "execution_count": 19,
   "metadata": {},
   "outputs": [
    {
     "data": {
      "text/plain": [
       "1      88\n",
       "6      92\n",
       "8      67\n",
       "13     70\n",
       "18     46\n",
       "       ..\n",
       "990    75\n",
       "991    78\n",
       "995    95\n",
       "997    65\n",
       "998    77\n",
       "Name: writing score, Length: 358, dtype: int64"
      ]
     },
     "execution_count": 19,
     "metadata": {},
     "output_type": "execute_result"
    }
   ],
   "source": [
    "# df_writing: Dữ liệu về điểm môn viết của các sinh viên đã hoàn thành khóa luyện thi\n",
    "df_writing = df[df['test preparation course'] == 'completed']['writing score']\n",
    "df_writing"
   ]
  },
  {
   "cell_type": "code",
   "execution_count": 20,
   "metadata": {},
   "outputs": [
    {
     "data": {
      "text/plain": [
       "73.89385474860335"
      ]
     },
     "execution_count": 20,
     "metadata": {},
     "output_type": "execute_result"
    }
   ],
   "source": [
    "# Kiểm tra giá trị trung bình của df_reading\n",
    "df_reading.mean()"
   ]
  },
  {
   "cell_type": "code",
   "execution_count": 21,
   "metadata": {},
   "outputs": [
    {
     "data": {
      "text/plain": [
       "74.41899441340782"
      ]
     },
     "execution_count": 21,
     "metadata": {},
     "output_type": "execute_result"
    }
   ],
   "source": [
    "# Kiểm tra giá trị trung bình của df_writing\n",
    "df_writing.mean()"
   ]
  },
  {
   "cell_type": "markdown",
   "metadata": {},
   "source": [
    "Với Two Sample Z-Test:\n",
    "- Xác định giả thuyết H0:\n",
    "Trung bình điểm môn đọc và trung bình điểm môn viết của các sinh viên đã hoàn thành khóa luyện thi KHÔNG BẰNG nhau\n",
    "\n",
    "- Xác định giả thuyết H1: \n",
    "Trung bình điểm môn đọc và trung bình điểm môn viết của các sinh viên đã hoàn thành khóa luyện thi BẰNG nhau\n",
    "\n",
    "- Mặc định mức tin cậy là 90% và mức sai lầm là 10% => mức ý nghĩa alpha = 0.1\n",
    "\n",
    "- Quy tắc suy diễn:\n",
    "    * Nếu p-value < alpha thì bác bỏ H0\n",
    "    * Nếu p-value > alpha thì chấp nhận H0"
   ]
  },
  {
   "cell_type": "code",
   "execution_count": 22,
   "metadata": {},
   "outputs": [
    {
     "data": {
      "text/plain": [
       "(-0.5201473317338142, 0.6029608910155441)"
      ]
     },
     "execution_count": 22,
     "metadata": {},
     "output_type": "execute_result"
    }
   ],
   "source": [
    "# Kiểm tra xem trung bình điểm môn đọc và trung bình điểm môn viết của các sinh viên đã hoàn thành khóa luyện thi có bằng nhau hay không bằng phương pháp Z-Test\n",
    "from statsmodels.stats.weightstats import ztest as ztest\n",
    "ztest(df_reading, df_writing, value=0)"
   ]
  },
  {
   "cell_type": "markdown",
   "metadata": {},
   "source": [
    "**Kết luận:**\n",
    "\n",
    "- Với mức ý nghĩa alpha = 10%, ta có p-value = 0.6 > 0.1 => p-value > alpha => Chấp nhận giả thuyết H0\n",
    "\n",
    "- Suy ra đủ dữ kiện để có thể khẳng định rằng các sinh viên đã hoàn thành khóa luyện thi có trung bình điểm môn đọc và môn viết KHÔNG bằng nhau\n",
    "\n",
    "- Hay nói cách khác, chấp nhận giả thuyết H0 ở mức sai lầm 10%"
   ]
  },
  {
   "cell_type": "markdown",
   "metadata": {},
   "source": [
    "### 6. Thực hiện kiểm tra 2 biến định tính có tương quan với nhau không bằng phương pháp Fisher với mức sai lầm là 5%? Cho nhận xét."
   ]
  },
  {
   "cell_type": "markdown",
   "metadata": {},
   "source": [
    "Với Fisher Test:\n",
    "\n",
    "- Mục đích: Kiểm tra sự độc lập của 2 biến định tính dạng nhị phân 2x2\n",
    "\n",
    "- Xác định giả thuyết H0\n",
    "\n",
    "- Xác định giả thuyết H1\n",
    "\n",
    "- Mặc định mức tin cậy là 95% và mức sai lầm là 5% => mức ý nghĩa alpha = 0.05\n",
    "\n",
    "- Quy tắc suy diễn:\n",
    "    * Nếu p-value < alpha thì bác bỏ giả thuyết H0\n",
    "    * Nếu p-value >= alpha thì chấp nhận giả thuyết H0"
   ]
  },
  {
   "cell_type": "code",
   "execution_count": 23,
   "metadata": {},
   "outputs": [
    {
     "data": {
      "text/html": [
       "<div>\n",
       "<style scoped>\n",
       "    .dataframe tbody tr th:only-of-type {\n",
       "        vertical-align: middle;\n",
       "    }\n",
       "\n",
       "    .dataframe tbody tr th {\n",
       "        vertical-align: top;\n",
       "    }\n",
       "\n",
       "    .dataframe thead th {\n",
       "        text-align: right;\n",
       "    }\n",
       "</style>\n",
       "<table border=\"1\" class=\"dataframe\">\n",
       "  <thead>\n",
       "    <tr style=\"text-align: right;\">\n",
       "      <th>test preparation course</th>\n",
       "      <th>completed</th>\n",
       "      <th>none</th>\n",
       "    </tr>\n",
       "    <tr>\n",
       "      <th>gender</th>\n",
       "      <th></th>\n",
       "      <th></th>\n",
       "    </tr>\n",
       "  </thead>\n",
       "  <tbody>\n",
       "    <tr>\n",
       "      <th>female</th>\n",
       "      <td>184</td>\n",
       "      <td>334</td>\n",
       "    </tr>\n",
       "    <tr>\n",
       "      <th>male</th>\n",
       "      <td>174</td>\n",
       "      <td>308</td>\n",
       "    </tr>\n",
       "  </tbody>\n",
       "</table>\n",
       "</div>"
      ],
      "text/plain": [
       "test preparation course  completed  none\n",
       "gender                                  \n",
       "female                         184   334\n",
       "male                           174   308"
      ]
     },
     "execution_count": 23,
     "metadata": {},
     "output_type": "execute_result"
    }
   ],
   "source": [
    "# Kiểm tra xem có sự phụ thuộc nào giữa việc sinh viên đã hoàn thành khóa luyện thi và giới tính của sinh viên đó hay không ?\n",
    "crosdata = pd.crosstab(df['gender'], [df['test preparation course']], rownames=['gender'], colnames=['test preparation course'])\n",
    "crosdata"
   ]
  },
  {
   "cell_type": "code",
   "execution_count": 24,
   "metadata": {},
   "outputs": [
    {
     "name": "stdout",
     "output_type": "stream",
     "text": [
      "odd ratio is: 0.9751531419918783\n",
      "p-value is: 0.8949914298347688\n"
     ]
    }
   ],
   "source": [
    "odd_ratio, p_value = stats.fisher_exact(crosdata)\n",
    "print('odd ratio is: ' + str(odd_ratio))\n",
    "print('p-value is: ' + str(p_value))"
   ]
  },
  {
   "cell_type": "markdown",
   "metadata": {},
   "source": [
    "**Nhận xét:**\n",
    "\n",
    "- Với mức ý nghĩa alpha = 5%, ta có p-value = 0.89499 > alpha = 0.05 => p-value > alpha => Chấp nhận giả thuyết H0\n",
    "\n",
    "- Suy ra đủ dữ kiện để có thể khẳng định rằng giới tính của sinh viên và việc sinh viên hoàn thành khóa luyện thi không có sự phụ thuộc vào nhau\n",
    "\n",
    "- Hay nói cách khác, chấp nhận giả thuyết H0 ở mức sai lầm 5%"
   ]
  },
  {
   "cell_type": "markdown",
   "metadata": {},
   "source": [
    "### 7. Kiểm định ANOVA cho trường hợp biến định lượng trên nhóm định tính"
   ]
  },
  {
   "cell_type": "markdown",
   "metadata": {},
   "source": [
    "**One Way ANOVA:**\n",
    "\n",
    "Yêu cầu:\n",
    "1. Biến định lượng trên nhóm định tính\n",
    "2. Các biến định lượng trên từng nhóm theo phân phối chuẩn\n",
    "3. H0: Giá trị trung bình dữ liệu định lượng trên từng nhóm định tính là bằng nhau"
   ]
  },
  {
   "cell_type": "code",
   "execution_count": 25,
   "metadata": {},
   "outputs": [],
   "source": [
    "# Đổi tên cột\n",
    "\n",
    "df.rename(columns={\n",
    "    'parental level of education': 'parental_level_of_education',\n",
    "    'test preparation course': 'test_preparation_course',\n",
    "    'math score': 'math_score',\n",
    "    'reading score': 'reading_score',\n",
    "    'writing score': 'writing_score'}, \n",
    "inplace=True)\n"
   ]
  },
  {
   "cell_type": "code",
   "execution_count": 26,
   "metadata": {},
   "outputs": [
    {
     "data": {
      "text/html": [
       "<div>\n",
       "<style scoped>\n",
       "    .dataframe tbody tr th:only-of-type {\n",
       "        vertical-align: middle;\n",
       "    }\n",
       "\n",
       "    .dataframe tbody tr th {\n",
       "        vertical-align: top;\n",
       "    }\n",
       "\n",
       "    .dataframe thead th {\n",
       "        text-align: right;\n",
       "    }\n",
       "</style>\n",
       "<table border=\"1\" class=\"dataframe\">\n",
       "  <thead>\n",
       "    <tr style=\"text-align: right;\">\n",
       "      <th></th>\n",
       "      <th>gender</th>\n",
       "      <th>race/ethnicity</th>\n",
       "      <th>parental_level_of_education</th>\n",
       "      <th>lunch</th>\n",
       "      <th>test_preparation_course</th>\n",
       "      <th>math_score</th>\n",
       "      <th>reading_score</th>\n",
       "      <th>writing_score</th>\n",
       "    </tr>\n",
       "  </thead>\n",
       "  <tbody>\n",
       "    <tr>\n",
       "      <th>0</th>\n",
       "      <td>female</td>\n",
       "      <td>group B</td>\n",
       "      <td>bachelor's degree</td>\n",
       "      <td>standard</td>\n",
       "      <td>none</td>\n",
       "      <td>72</td>\n",
       "      <td>72</td>\n",
       "      <td>74</td>\n",
       "    </tr>\n",
       "    <tr>\n",
       "      <th>1</th>\n",
       "      <td>female</td>\n",
       "      <td>group C</td>\n",
       "      <td>some college</td>\n",
       "      <td>standard</td>\n",
       "      <td>completed</td>\n",
       "      <td>69</td>\n",
       "      <td>90</td>\n",
       "      <td>88</td>\n",
       "    </tr>\n",
       "    <tr>\n",
       "      <th>2</th>\n",
       "      <td>female</td>\n",
       "      <td>group B</td>\n",
       "      <td>master's degree</td>\n",
       "      <td>standard</td>\n",
       "      <td>none</td>\n",
       "      <td>90</td>\n",
       "      <td>95</td>\n",
       "      <td>93</td>\n",
       "    </tr>\n",
       "    <tr>\n",
       "      <th>3</th>\n",
       "      <td>male</td>\n",
       "      <td>group A</td>\n",
       "      <td>associate's degree</td>\n",
       "      <td>free/reduced</td>\n",
       "      <td>none</td>\n",
       "      <td>47</td>\n",
       "      <td>57</td>\n",
       "      <td>44</td>\n",
       "    </tr>\n",
       "    <tr>\n",
       "      <th>4</th>\n",
       "      <td>male</td>\n",
       "      <td>group C</td>\n",
       "      <td>some college</td>\n",
       "      <td>standard</td>\n",
       "      <td>none</td>\n",
       "      <td>76</td>\n",
       "      <td>78</td>\n",
       "      <td>75</td>\n",
       "    </tr>\n",
       "    <tr>\n",
       "      <th>...</th>\n",
       "      <td>...</td>\n",
       "      <td>...</td>\n",
       "      <td>...</td>\n",
       "      <td>...</td>\n",
       "      <td>...</td>\n",
       "      <td>...</td>\n",
       "      <td>...</td>\n",
       "      <td>...</td>\n",
       "    </tr>\n",
       "    <tr>\n",
       "      <th>995</th>\n",
       "      <td>female</td>\n",
       "      <td>group E</td>\n",
       "      <td>master's degree</td>\n",
       "      <td>standard</td>\n",
       "      <td>completed</td>\n",
       "      <td>88</td>\n",
       "      <td>99</td>\n",
       "      <td>95</td>\n",
       "    </tr>\n",
       "    <tr>\n",
       "      <th>996</th>\n",
       "      <td>male</td>\n",
       "      <td>group C</td>\n",
       "      <td>high school</td>\n",
       "      <td>free/reduced</td>\n",
       "      <td>none</td>\n",
       "      <td>62</td>\n",
       "      <td>55</td>\n",
       "      <td>55</td>\n",
       "    </tr>\n",
       "    <tr>\n",
       "      <th>997</th>\n",
       "      <td>female</td>\n",
       "      <td>group C</td>\n",
       "      <td>high school</td>\n",
       "      <td>free/reduced</td>\n",
       "      <td>completed</td>\n",
       "      <td>59</td>\n",
       "      <td>71</td>\n",
       "      <td>65</td>\n",
       "    </tr>\n",
       "    <tr>\n",
       "      <th>998</th>\n",
       "      <td>female</td>\n",
       "      <td>group D</td>\n",
       "      <td>some college</td>\n",
       "      <td>standard</td>\n",
       "      <td>completed</td>\n",
       "      <td>68</td>\n",
       "      <td>78</td>\n",
       "      <td>77</td>\n",
       "    </tr>\n",
       "    <tr>\n",
       "      <th>999</th>\n",
       "      <td>female</td>\n",
       "      <td>group D</td>\n",
       "      <td>some college</td>\n",
       "      <td>free/reduced</td>\n",
       "      <td>none</td>\n",
       "      <td>77</td>\n",
       "      <td>86</td>\n",
       "      <td>86</td>\n",
       "    </tr>\n",
       "  </tbody>\n",
       "</table>\n",
       "<p>1000 rows × 8 columns</p>\n",
       "</div>"
      ],
      "text/plain": [
       "     gender race/ethnicity parental_level_of_education         lunch  \\\n",
       "0    female        group B           bachelor's degree      standard   \n",
       "1    female        group C                some college      standard   \n",
       "2    female        group B             master's degree      standard   \n",
       "3      male        group A          associate's degree  free/reduced   \n",
       "4      male        group C                some college      standard   \n",
       "..      ...            ...                         ...           ...   \n",
       "995  female        group E             master's degree      standard   \n",
       "996    male        group C                 high school  free/reduced   \n",
       "997  female        group C                 high school  free/reduced   \n",
       "998  female        group D                some college      standard   \n",
       "999  female        group D                some college  free/reduced   \n",
       "\n",
       "    test_preparation_course  math_score  reading_score  writing_score  \n",
       "0                      none          72             72             74  \n",
       "1                 completed          69             90             88  \n",
       "2                      none          90             95             93  \n",
       "3                      none          47             57             44  \n",
       "4                      none          76             78             75  \n",
       "..                      ...         ...            ...            ...  \n",
       "995               completed          88             99             95  \n",
       "996                    none          62             55             55  \n",
       "997               completed          59             71             65  \n",
       "998               completed          68             78             77  \n",
       "999                    none          77             86             86  \n",
       "\n",
       "[1000 rows x 8 columns]"
      ]
     },
     "execution_count": 26,
     "metadata": {},
     "output_type": "execute_result"
    }
   ],
   "source": [
    "df"
   ]
  },
  {
   "cell_type": "markdown",
   "metadata": {},
   "source": [
    "Kiểm định ANOVA 1 chiều:\n",
    "- Xác định giả thuyết H0:\n",
    "Điểm môn toán KHÔNG phụ thuộc vào giới tính của sinh viên\n",
    "\n",
    "- Xác định giả thuyết H1:\n",
    "Điểm môn toán CÓ phụ thuộc vào giới tính của sinh viên\n",
    "\n",
    "- Mặc định mức tin cậy là 95% và mức sai lầm là 5% => mức ý nghĩa alpha là 5%\n",
    "\n",
    "- Quy tắc suy diễn:\n",
    "    * Nếu p-value < alpha thì bác bỏ giả thuyết H0\n",
    "    * Nếu p-value > alpha thì chấp nhận giả thuyết H0"
   ]
  },
  {
   "cell_type": "code",
   "execution_count": 27,
   "metadata": {},
   "outputs": [
    {
     "data": {
      "text/html": [
       "<div>\n",
       "<style scoped>\n",
       "    .dataframe tbody tr th:only-of-type {\n",
       "        vertical-align: middle;\n",
       "    }\n",
       "\n",
       "    .dataframe tbody tr th {\n",
       "        vertical-align: top;\n",
       "    }\n",
       "\n",
       "    .dataframe thead th {\n",
       "        text-align: right;\n",
       "    }\n",
       "</style>\n",
       "<table border=\"1\" class=\"dataframe\">\n",
       "  <thead>\n",
       "    <tr style=\"text-align: right;\">\n",
       "      <th></th>\n",
       "      <th>df</th>\n",
       "      <th>sum_sq</th>\n",
       "      <th>mean_sq</th>\n",
       "      <th>F</th>\n",
       "      <th>PR(&gt;F)</th>\n",
       "    </tr>\n",
       "  </thead>\n",
       "  <tbody>\n",
       "    <tr>\n",
       "      <th>gender</th>\n",
       "      <td>1.0</td>\n",
       "      <td>6481.373854</td>\n",
       "      <td>6481.373854</td>\n",
       "      <td>28.979336</td>\n",
       "      <td>9.120186e-08</td>\n",
       "    </tr>\n",
       "    <tr>\n",
       "      <th>Residual</th>\n",
       "      <td>998.0</td>\n",
       "      <td>223207.705146</td>\n",
       "      <td>223.655015</td>\n",
       "      <td>NaN</td>\n",
       "      <td>NaN</td>\n",
       "    </tr>\n",
       "  </tbody>\n",
       "</table>\n",
       "</div>"
      ],
      "text/plain": [
       "             df         sum_sq      mean_sq          F        PR(>F)\n",
       "gender      1.0    6481.373854  6481.373854  28.979336  9.120186e-08\n",
       "Residual  998.0  223207.705146   223.655015        NaN           NaN"
      ]
     },
     "execution_count": 27,
     "metadata": {},
     "output_type": "execute_result"
    }
   ],
   "source": [
    "# Kiểm tra xem điểm môn toán có phụ thuộc vào giới tính của sinh viên hay không ?\n",
    "\n",
    "import statsmodels.api as sm\n",
    "from statsmodels.formula.api import ols\n",
    "\n",
    "model = ols('math_score ~ gender', data=df).fit()\n",
    "\n",
    "aov_table = sm.stats.anova_lm(model,typ = 1)\n",
    "aov_table\n"
   ]
  },
  {
   "cell_type": "markdown",
   "metadata": {},
   "source": [
    "**Nhận xét:**\n",
    "\n",
    "- Với mức ý nghĩa alpha là 5%, ta có p-value = \t9.120186e-08 > alpha = 0.05 \n",
    "=> p-value > alpha => Chấp nhận giả thuyết H0\n",
    "\n",
    "- Suy ra đủ dữ kiện để có thể khẳng định rằng điểm môn toán KHÔNG phụ thuộc vào giới tính của sinh viên"
   ]
  },
  {
   "cell_type": "markdown",
   "metadata": {},
   "source": [
    "### 8. Kiểm định ANOVA các biến định lượng trên từng nhóm theo phân phối chuẩn"
   ]
  },
  {
   "cell_type": "markdown",
   "metadata": {},
   "source": [
    "**Two Way ANOVA:**\n",
    "\n",
    "Yêu cầu:\n",
    "1. Biến định lượng trên nhóm định tính\n",
    "2. Các biến định lượng trên từng nhóm theo phân phối chuẩn\n",
    "3. H0: Trung bình các cột dữ liệu bằng nhau"
   ]
  },
  {
   "cell_type": "code",
   "execution_count": 28,
   "metadata": {},
   "outputs": [
    {
     "data": {
      "text/html": [
       "<div>\n",
       "<style scoped>\n",
       "    .dataframe tbody tr th:only-of-type {\n",
       "        vertical-align: middle;\n",
       "    }\n",
       "\n",
       "    .dataframe tbody tr th {\n",
       "        vertical-align: top;\n",
       "    }\n",
       "\n",
       "    .dataframe thead th {\n",
       "        text-align: right;\n",
       "    }\n",
       "</style>\n",
       "<table border=\"1\" class=\"dataframe\">\n",
       "  <thead>\n",
       "    <tr style=\"text-align: right;\">\n",
       "      <th></th>\n",
       "      <th>df</th>\n",
       "      <th>sum_sq</th>\n",
       "      <th>mean_sq</th>\n",
       "      <th>F</th>\n",
       "      <th>PR(&gt;F)</th>\n",
       "    </tr>\n",
       "  </thead>\n",
       "  <tbody>\n",
       "    <tr>\n",
       "      <th>gender</th>\n",
       "      <td>1.0</td>\n",
       "      <td>6481.373854</td>\n",
       "      <td>6481.373854</td>\n",
       "      <td>29.896854</td>\n",
       "      <td>5.771736e-08</td>\n",
       "    </tr>\n",
       "    <tr>\n",
       "      <th>parental_level_of_education</th>\n",
       "      <td>5.0</td>\n",
       "      <td>7978.273971</td>\n",
       "      <td>1595.654794</td>\n",
       "      <td>7.360331</td>\n",
       "      <td>8.712262e-07</td>\n",
       "    </tr>\n",
       "    <tr>\n",
       "      <th>gender:parental_level_of_education</th>\n",
       "      <td>5.0</td>\n",
       "      <td>1039.755355</td>\n",
       "      <td>207.951071</td>\n",
       "      <td>0.959223</td>\n",
       "      <td>4.418181e-01</td>\n",
       "    </tr>\n",
       "    <tr>\n",
       "      <th>Residual</th>\n",
       "      <td>988.0</td>\n",
       "      <td>214189.675819</td>\n",
       "      <td>216.791170</td>\n",
       "      <td>NaN</td>\n",
       "      <td>NaN</td>\n",
       "    </tr>\n",
       "  </tbody>\n",
       "</table>\n",
       "</div>"
      ],
      "text/plain": [
       "                                       df         sum_sq      mean_sq  \\\n",
       "gender                                1.0    6481.373854  6481.373854   \n",
       "parental_level_of_education           5.0    7978.273971  1595.654794   \n",
       "gender:parental_level_of_education    5.0    1039.755355   207.951071   \n",
       "Residual                            988.0  214189.675819   216.791170   \n",
       "\n",
       "                                            F        PR(>F)  \n",
       "gender                              29.896854  5.771736e-08  \n",
       "parental_level_of_education          7.360331  8.712262e-07  \n",
       "gender:parental_level_of_education   0.959223  4.418181e-01  \n",
       "Residual                                  NaN           NaN  "
      ]
     },
     "execution_count": 28,
     "metadata": {},
     "output_type": "execute_result"
    }
   ],
   "source": [
    "# Kiểm tra xem điểm toán có phụ thuộc vào loại giới tính của sinh viên trên từng nhóm trình độ học vấn của bố mẹ hay không ?\n",
    "model = ols('math_score ~ gender + parental_level_of_education + gender:parental_level_of_education', data=df).fit()\n",
    "result = sm.stats.anova_lm(model,type = 2)\n",
    "\n",
    "result"
   ]
  },
  {
   "cell_type": "markdown",
   "metadata": {},
   "source": [
    "Kiểm định ANOVA 2 chiều:\n",
    "\n",
    "- Xác định giả thuyết H0:\n",
    "Điểm môn toán KHÔNG PHỤ THUỘC VÀO loại giới tính của sinh viên trên từng nhóm trình độ học vấn của bố mẹ\n",
    "\n",
    "- Xác định giả thuyết H1:\n",
    "Điểm môn toán CÓ PHỤ THUỘC VÀO loại giới tính của sinh viên trên từng nhóm trình độ học vấn của bố mẹ\n",
    "\n",
    "- Mặc định mức tin cậy là 95% và mức sai lầm là 5% => mức ý nghĩa alpha là 5%\n",
    "\n",
    "- Quy tắc suy diễn:\n",
    "    * Nếu p-value < alpha thì bác bỏ giả thuyết H0\n",
    "    * Nếu p-value > alpha thì chấp nhận giả thuyết H0"
   ]
  },
  {
   "cell_type": "markdown",
   "metadata": {},
   "source": [
    "**Nhận xét:**\n",
    "Tất cả đều phụ thuộc. Vì p-value của cả 3 biến đều nhỏ hơn mức ý nghĩa alpha"
   ]
  },
  {
   "cell_type": "markdown",
   "metadata": {},
   "source": [
    "## II) HỒI QUY TUYẾN TÍNH, PHÂN LỚP, PCA"
   ]
  },
  {
   "cell_type": "markdown",
   "metadata": {},
   "source": [
    "### 1. Thực hiện hồi quy tuyến tính từ Scikit-learn (dùng hàm LinearRegression()) cho trường hợp 1 biến và 2 biến."
   ]
  },
  {
   "cell_type": "markdown",
   "metadata": {},
   "source": [
    "#### **Hồi quy tuyến tính 1 biến sử dụng hàm LinearRegression()**"
   ]
  },
  {
   "cell_type": "markdown",
   "metadata": {},
   "source": [
    "**Hồi quy tuyến tính 1 biến:**\n",
    "Hãy cho biết sự ảnh hưởng của điểm môn đọc đến điểm môn viết của sinh viên\n",
    "\n",
    "1. Xác định biến phụ thuộc và biến độc lập\n",
    "- Biến phụ thuộc: điểm môn viết\n",
    "- Biến độc lập: điểm môn đọc\n",
    "\n",
    "2. Y = f(X) + A0 + A1*X + epsilon\n",
    "\n",
    "3. Chạy mô hình\n",
    "4. Đọc và hiểu kết quả"
   ]
  },
  {
   "cell_type": "code",
   "execution_count": 38,
   "metadata": {},
   "outputs": [
    {
     "name": "stdout",
     "output_type": "stream",
     "text": [
      "-0.667553640932951 [0.99353111] 0.9112574888913137\n"
     ]
    }
   ],
   "source": [
    "from sklearn.linear_model import LinearRegression\n",
    "import numpy as np\n",
    "\n",
    "model = LinearRegression()\n",
    "\n",
    "X = df[['reading_score']]\n",
    "Y = df['writing_score']\n",
    "\n",
    "model.fit(X, Y)\n",
    "\n",
    "'''\n",
    "print('Intercept:', model.intercept_)\n",
    "print('Coefficient:', model.coef_[0])\n",
    "print('R-squared:', model.score(X, Y))\n",
    "'''\n",
    "\n",
    "print(model.intercept_, model.coef_, model.score(X, Y))"
   ]
  },
  {
   "cell_type": "markdown",
   "metadata": {},
   "source": [
    "**Nhận xét:**\n",
    "\n",
    "Ta có phương trình cho mô hình hồi quy tuyến tính 1 biến là: \n",
    "Y = -0.67 + 0.99 * X\n",
    "\n",
    "Từ đó suy ra: R^2 = 91.12\n",
    "\n",
    "Điều này có nghĩa là 91.12% sự thay đổi của Y được giải thích bởi X"
   ]
  },
  {
   "cell_type": "markdown",
   "metadata": {},
   "source": [
    "#### **Hồi quy tuyến tính 2 biến sử dụng hàm LinearRegression()**"
   ]
  },
  {
   "cell_type": "markdown",
   "metadata": {},
   "source": [
    "**Hồi quy tuyến tính 2 biến:**\n",
    "Hãy cho biết sự ảnh hưởng của điểm môn đọc và điểm môn viết đến điểm môn toán của sinh viên\n",
    "\n",
    "1. Xác định biến phụ thuộc và biến độc lập\n",
    "- Biến phụ thuộc: điểm môn toán\n",
    "- Biến độc lập: điểm môn viết điểm môn đọc\n",
    "\n",
    "2. Y = f(X) + A0 + A1*X + epsilon\n",
    "\n",
    "3. Chạy mô hình\n",
    "4. Đọc và hiểu kết quả"
   ]
  },
  {
   "cell_type": "code",
   "execution_count": 40,
   "metadata": {},
   "outputs": [
    {
     "name": "stdout",
     "output_type": "stream",
     "text": [
      "7.524092050975732 [0.60128965 0.24942405] 0.6739811351956578\n"
     ]
    }
   ],
   "source": [
    "from sklearn.linear_model import LinearRegression\n",
    "import numpy as np\n",
    "\n",
    "X1 = df[['reading_score']]\n",
    "X2 = df['writing_score']\n",
    "Y = df['math_score']\n",
    "\n",
    "X = pd.concat([X1, X2], axis=1)\n",
    "\n",
    "model = LinearRegression()\n",
    "model.fit(X, Y)\n",
    "\n",
    "'''\n",
    "print('Intercept:', model.intercept_)\n",
    "print('Coefficients:', model.coef_)\n",
    "'''\n",
    "\n",
    "print(model.intercept_, model.coef_, model.score(X, Y))"
   ]
  },
  {
   "cell_type": "markdown",
   "metadata": {},
   "source": [
    "**Nhận xét:**\n",
    "\n",
    "Ta có phương trình cho mô hình hồi quy tuyến tính 1 biến là: \n",
    "Y = 7.524 + 0.6 * X1 + 0.25 * X2\n",
    "\n",
    "Từ đó suy ra: R^2 = 67.40\n",
    "\n",
    "Điều này có nghĩa là 67.40% biến thể trong biến phản hồi có thể được giải thích bằng hai biến dự đoán trong mô hình."
   ]
  },
  {
   "cell_type": "markdown",
   "metadata": {},
   "source": [
    "### 2.\tThực hiện hồi quy tuyến tính bằng phương pháp StaSmodels (Dùng hàm OLS()) cho trường hợp 1 biến và 2 biến."
   ]
  },
  {
   "cell_type": "markdown",
   "metadata": {},
   "source": [
    "#### **Hồi quy tuyến tính 1 biến sử dụng hàm OLS()**"
   ]
  },
  {
   "cell_type": "markdown",
   "metadata": {},
   "source": [
    "**Hồi quy tuyến tính 1 biến:**\n",
    "\n",
    "1. Xác định biến phụ thuộc và biến độc lập\n",
    "- Biến phụ thuộc: điểm môn viết\n",
    "- Biến độc lập: điểm môn đọc\n",
    "\n",
    "2. Phương trình hồi quy tuyến tính 1 biến: \n",
    "Y = f(X) = A0 + A1 * X + epsilon\n",
    "\n",
    "3. Chạy mô hình\n",
    "\n",
    "4. Đọc và hiểu kết quả"
   ]
  },
  {
   "cell_type": "markdown",
   "metadata": {},
   "source": [
    "**Hồi quy tuyến tính 1 biến:**\n",
    "Hãy cho biết sự ảnh hưởng của điểm môn đọc đến điểm môn viết của sinh viên"
   ]
  },
  {
   "cell_type": "code",
   "execution_count": 41,
   "metadata": {},
   "outputs": [
    {
     "data": {
      "text/html": [
       "<table class=\"simpletable\">\n",
       "<caption>OLS Regression Results</caption>\n",
       "<tr>\n",
       "  <th>Dep. Variable:</th>            <td>y</td>        <th>  R-squared:         </th> <td>   0.911</td> \n",
       "</tr>\n",
       "<tr>\n",
       "  <th>Model:</th>                   <td>OLS</td>       <th>  Adj. R-squared:    </th> <td>   0.911</td> \n",
       "</tr>\n",
       "<tr>\n",
       "  <th>Method:</th>             <td>Least Squares</td>  <th>  F-statistic:       </th> <td>1.025e+04</td>\n",
       "</tr>\n",
       "<tr>\n",
       "  <th>Date:</th>             <td>Thu, 16 Nov 2023</td> <th>  Prob (F-statistic):</th>  <td>  0.00</td>  \n",
       "</tr>\n",
       "<tr>\n",
       "  <th>Time:</th>                 <td>07:50:57</td>     <th>  Log-Likelihood:    </th> <td> -2928.4</td> \n",
       "</tr>\n",
       "<tr>\n",
       "  <th>No. Observations:</th>      <td>  1000</td>      <th>  AIC:               </th> <td>   5861.</td> \n",
       "</tr>\n",
       "<tr>\n",
       "  <th>Df Residuals:</th>          <td>   998</td>      <th>  BIC:               </th> <td>   5871.</td> \n",
       "</tr>\n",
       "<tr>\n",
       "  <th>Df Model:</th>              <td>     1</td>      <th>                     </th>     <td> </td>    \n",
       "</tr>\n",
       "<tr>\n",
       "  <th>Covariance Type:</th>      <td>nonrobust</td>    <th>                     </th>     <td> </td>    \n",
       "</tr>\n",
       "</table>\n",
       "<table class=\"simpletable\">\n",
       "<tr>\n",
       "    <td></td>       <th>coef</th>     <th>std err</th>      <th>t</th>      <th>P>|t|</th>  <th>[0.025</th>    <th>0.975]</th>  \n",
       "</tr>\n",
       "<tr>\n",
       "  <th>const</th> <td>   -0.6676</td> <td>    0.694</td> <td>   -0.962</td> <td> 0.336</td> <td>   -2.029</td> <td>    0.694</td>\n",
       "</tr>\n",
       "<tr>\n",
       "  <th>x1</th>    <td>    0.9935</td> <td>    0.010</td> <td>  101.233</td> <td> 0.000</td> <td>    0.974</td> <td>    1.013</td>\n",
       "</tr>\n",
       "</table>\n",
       "<table class=\"simpletable\">\n",
       "<tr>\n",
       "  <th>Omnibus:</th>       <td> 2.031</td> <th>  Durbin-Watson:     </th> <td>   1.970</td>\n",
       "</tr>\n",
       "<tr>\n",
       "  <th>Prob(Omnibus):</th> <td> 0.362</td> <th>  Jarque-Bera (JB):  </th> <td>   2.094</td>\n",
       "</tr>\n",
       "<tr>\n",
       "  <th>Skew:</th>          <td> 0.092</td> <th>  Prob(JB):          </th> <td>   0.351</td>\n",
       "</tr>\n",
       "<tr>\n",
       "  <th>Kurtosis:</th>      <td> 2.871</td> <th>  Cond. No.          </th> <td>    343.</td>\n",
       "</tr>\n",
       "</table><br/><br/>Notes:<br/>[1] Standard Errors assume that the covariance matrix of the errors is correctly specified."
      ],
      "text/latex": [
       "\\begin{center}\n",
       "\\begin{tabular}{lclc}\n",
       "\\toprule\n",
       "\\textbf{Dep. Variable:}    &        y         & \\textbf{  R-squared:         } &     0.911   \\\\\n",
       "\\textbf{Model:}            &       OLS        & \\textbf{  Adj. R-squared:    } &     0.911   \\\\\n",
       "\\textbf{Method:}           &  Least Squares   & \\textbf{  F-statistic:       } & 1.025e+04   \\\\\n",
       "\\textbf{Date:}             & Thu, 16 Nov 2023 & \\textbf{  Prob (F-statistic):} &     0.00    \\\\\n",
       "\\textbf{Time:}             &     07:50:57     & \\textbf{  Log-Likelihood:    } &   -2928.4   \\\\\n",
       "\\textbf{No. Observations:} &        1000      & \\textbf{  AIC:               } &     5861.   \\\\\n",
       "\\textbf{Df Residuals:}     &         998      & \\textbf{  BIC:               } &     5871.   \\\\\n",
       "\\textbf{Df Model:}         &           1      & \\textbf{                     } &             \\\\\n",
       "\\textbf{Covariance Type:}  &    nonrobust     & \\textbf{                     } &             \\\\\n",
       "\\bottomrule\n",
       "\\end{tabular}\n",
       "\\begin{tabular}{lcccccc}\n",
       "               & \\textbf{coef} & \\textbf{std err} & \\textbf{t} & \\textbf{P$> |$t$|$} & \\textbf{[0.025} & \\textbf{0.975]}  \\\\\n",
       "\\midrule\n",
       "\\textbf{const} &      -0.6676  &        0.694     &    -0.962  &         0.336        &       -2.029    &        0.694     \\\\\n",
       "\\textbf{x1}    &       0.9935  &        0.010     &   101.233  &         0.000        &        0.974    &        1.013     \\\\\n",
       "\\bottomrule\n",
       "\\end{tabular}\n",
       "\\begin{tabular}{lclc}\n",
       "\\textbf{Omnibus:}       &  2.031 & \\textbf{  Durbin-Watson:     } &    1.970  \\\\\n",
       "\\textbf{Prob(Omnibus):} &  0.362 & \\textbf{  Jarque-Bera (JB):  } &    2.094  \\\\\n",
       "\\textbf{Skew:}          &  0.092 & \\textbf{  Prob(JB):          } &    0.351  \\\\\n",
       "\\textbf{Kurtosis:}      &  2.871 & \\textbf{  Cond. No.          } &     343.  \\\\\n",
       "\\bottomrule\n",
       "\\end{tabular}\n",
       "%\\caption{OLS Regression Results}\n",
       "\\end{center}\n",
       "\n",
       "Notes: \\newline\n",
       " [1] Standard Errors assume that the covariance matrix of the errors is correctly specified."
      ],
      "text/plain": [
       "<class 'statsmodels.iolib.summary.Summary'>\n",
       "\"\"\"\n",
       "                            OLS Regression Results                            \n",
       "==============================================================================\n",
       "Dep. Variable:                      y   R-squared:                       0.911\n",
       "Model:                            OLS   Adj. R-squared:                  0.911\n",
       "Method:                 Least Squares   F-statistic:                 1.025e+04\n",
       "Date:                Thu, 16 Nov 2023   Prob (F-statistic):               0.00\n",
       "Time:                        07:50:57   Log-Likelihood:                -2928.4\n",
       "No. Observations:                1000   AIC:                             5861.\n",
       "Df Residuals:                     998   BIC:                             5871.\n",
       "Df Model:                           1                                         \n",
       "Covariance Type:            nonrobust                                         \n",
       "==============================================================================\n",
       "                 coef    std err          t      P>|t|      [0.025      0.975]\n",
       "------------------------------------------------------------------------------\n",
       "const         -0.6676      0.694     -0.962      0.336      -2.029       0.694\n",
       "x1             0.9935      0.010    101.233      0.000       0.974       1.013\n",
       "==============================================================================\n",
       "Omnibus:                        2.031   Durbin-Watson:                   1.970\n",
       "Prob(Omnibus):                  0.362   Jarque-Bera (JB):                2.094\n",
       "Skew:                           0.092   Prob(JB):                        0.351\n",
       "Kurtosis:                       2.871   Cond. No.                         343.\n",
       "==============================================================================\n",
       "\n",
       "Notes:\n",
       "[1] Standard Errors assume that the covariance matrix of the errors is correctly specified.\n",
       "\"\"\""
      ]
     },
     "execution_count": 41,
     "metadata": {},
     "output_type": "execute_result"
    }
   ],
   "source": [
    "import statsmodels.api as sm\n",
    "\n",
    "# adding a constant\n",
    "X_with_constant = sm.add_constant(df[[\"reading_score\"]].values)\n",
    "Y = df[['writing_score']].values\n",
    "# performing the regression\n",
    "result = sm.OLS(Y, X_with_constant).fit()\n",
    "# Result of statsmodels\n",
    "result.summary()"
   ]
  },
  {
   "cell_type": "markdown",
   "metadata": {},
   "source": [
    "**Nhận xét:**\n",
    "\n",
    "- Adj. R-squared = 9%: quá ít, không thể giải thích cho điểm môn đọc. Hay nói cách khác không thể dựa vào điểm môn viết để dự đoán điểm môn đọc\n",
    "\n",
    "- Prob (F-statistic) = 0.0 => phù hợp, bé hơn 0.05, có ý nghĩa thống kê\n",
    "\n",
    "- Điểm môn đọc = -0.6676 + 0.9935 * điểm môn viết\n",
    "\n",
    "- P>|t| = 0.0 < 0.05 => có ý nghĩa thống kê\n",
    "\n",
    "- Giả sử điểm môn viết = 7 => điểm môn đọc = -0.6676 + 0.9935 * 7 = 6.2869"
   ]
  },
  {
   "cell_type": "markdown",
   "metadata": {},
   "source": [
    "#### **Hồi quy tuyến tính 2 biến sử dụng hàm OLS()**"
   ]
  },
  {
   "cell_type": "code",
   "execution_count": 42,
   "metadata": {},
   "outputs": [
    {
     "data": {
      "text/html": [
       "<table class=\"simpletable\">\n",
       "<caption>OLS Regression Results</caption>\n",
       "<tr>\n",
       "  <th>Dep. Variable:</th>            <td>y</td>        <th>  R-squared:         </th> <td>   0.674</td> \n",
       "</tr>\n",
       "<tr>\n",
       "  <th>Model:</th>                   <td>OLS</td>       <th>  Adj. R-squared:    </th> <td>   0.673</td> \n",
       "</tr>\n",
       "<tr>\n",
       "  <th>Method:</th>             <td>Least Squares</td>  <th>  F-statistic:       </th> <td>   1031.</td> \n",
       "</tr>\n",
       "<tr>\n",
       "  <th>Date:</th>             <td>Thu, 16 Nov 2023</td> <th>  Prob (F-statistic):</th> <td>2.25e-243</td>\n",
       "</tr>\n",
       "<tr>\n",
       "  <th>Time:</th>                 <td>07:55:48</td>     <th>  Log-Likelihood:    </th> <td> -3576.9</td> \n",
       "</tr>\n",
       "<tr>\n",
       "  <th>No. Observations:</th>      <td>  1000</td>      <th>  AIC:               </th> <td>   7160.</td> \n",
       "</tr>\n",
       "<tr>\n",
       "  <th>Df Residuals:</th>          <td>   997</td>      <th>  BIC:               </th> <td>   7175.</td> \n",
       "</tr>\n",
       "<tr>\n",
       "  <th>Df Model:</th>              <td>     2</td>      <th>                     </th>     <td> </td>    \n",
       "</tr>\n",
       "<tr>\n",
       "  <th>Covariance Type:</th>      <td>nonrobust</td>    <th>                     </th>     <td> </td>    \n",
       "</tr>\n",
       "</table>\n",
       "<table class=\"simpletable\">\n",
       "<tr>\n",
       "    <td></td>       <th>coef</th>     <th>std err</th>      <th>t</th>      <th>P>|t|</th>  <th>[0.025</th>    <th>0.975]</th>  \n",
       "</tr>\n",
       "<tr>\n",
       "  <th>const</th> <td>    7.5241</td> <td>    1.328</td> <td>    5.665</td> <td> 0.000</td> <td>    4.918</td> <td>   10.131</td>\n",
       "</tr>\n",
       "<tr>\n",
       "  <th>x1</th>    <td>    0.6013</td> <td>    0.063</td> <td>    9.538</td> <td> 0.000</td> <td>    0.478</td> <td>    0.725</td>\n",
       "</tr>\n",
       "<tr>\n",
       "  <th>x2</th>    <td>    0.2494</td> <td>    0.061</td> <td>    4.118</td> <td> 0.000</td> <td>    0.131</td> <td>    0.368</td>\n",
       "</tr>\n",
       "</table>\n",
       "<table class=\"simpletable\">\n",
       "<tr>\n",
       "  <th>Omnibus:</th>       <td>10.227</td> <th>  Durbin-Watson:     </th> <td>   2.087</td>\n",
       "</tr>\n",
       "<tr>\n",
       "  <th>Prob(Omnibus):</th> <td> 0.006</td> <th>  Jarque-Bera (JB):  </th> <td>   6.801</td>\n",
       "</tr>\n",
       "<tr>\n",
       "  <th>Skew:</th>          <td> 0.006</td> <th>  Prob(JB):          </th> <td>  0.0334</td>\n",
       "</tr>\n",
       "<tr>\n",
       "  <th>Kurtosis:</th>      <td> 2.596</td> <th>  Cond. No.          </th> <td>    481.</td>\n",
       "</tr>\n",
       "</table><br/><br/>Notes:<br/>[1] Standard Errors assume that the covariance matrix of the errors is correctly specified."
      ],
      "text/latex": [
       "\\begin{center}\n",
       "\\begin{tabular}{lclc}\n",
       "\\toprule\n",
       "\\textbf{Dep. Variable:}    &        y         & \\textbf{  R-squared:         } &     0.674   \\\\\n",
       "\\textbf{Model:}            &       OLS        & \\textbf{  Adj. R-squared:    } &     0.673   \\\\\n",
       "\\textbf{Method:}           &  Least Squares   & \\textbf{  F-statistic:       } &     1031.   \\\\\n",
       "\\textbf{Date:}             & Thu, 16 Nov 2023 & \\textbf{  Prob (F-statistic):} & 2.25e-243   \\\\\n",
       "\\textbf{Time:}             &     07:55:48     & \\textbf{  Log-Likelihood:    } &   -3576.9   \\\\\n",
       "\\textbf{No. Observations:} &        1000      & \\textbf{  AIC:               } &     7160.   \\\\\n",
       "\\textbf{Df Residuals:}     &         997      & \\textbf{  BIC:               } &     7175.   \\\\\n",
       "\\textbf{Df Model:}         &           2      & \\textbf{                     } &             \\\\\n",
       "\\textbf{Covariance Type:}  &    nonrobust     & \\textbf{                     } &             \\\\\n",
       "\\bottomrule\n",
       "\\end{tabular}\n",
       "\\begin{tabular}{lcccccc}\n",
       "               & \\textbf{coef} & \\textbf{std err} & \\textbf{t} & \\textbf{P$> |$t$|$} & \\textbf{[0.025} & \\textbf{0.975]}  \\\\\n",
       "\\midrule\n",
       "\\textbf{const} &       7.5241  &        1.328     &     5.665  &         0.000        &        4.918    &       10.131     \\\\\n",
       "\\textbf{x1}    &       0.6013  &        0.063     &     9.538  &         0.000        &        0.478    &        0.725     \\\\\n",
       "\\textbf{x2}    &       0.2494  &        0.061     &     4.118  &         0.000        &        0.131    &        0.368     \\\\\n",
       "\\bottomrule\n",
       "\\end{tabular}\n",
       "\\begin{tabular}{lclc}\n",
       "\\textbf{Omnibus:}       & 10.227 & \\textbf{  Durbin-Watson:     } &    2.087  \\\\\n",
       "\\textbf{Prob(Omnibus):} &  0.006 & \\textbf{  Jarque-Bera (JB):  } &    6.801  \\\\\n",
       "\\textbf{Skew:}          &  0.006 & \\textbf{  Prob(JB):          } &   0.0334  \\\\\n",
       "\\textbf{Kurtosis:}      &  2.596 & \\textbf{  Cond. No.          } &     481.  \\\\\n",
       "\\bottomrule\n",
       "\\end{tabular}\n",
       "%\\caption{OLS Regression Results}\n",
       "\\end{center}\n",
       "\n",
       "Notes: \\newline\n",
       " [1] Standard Errors assume that the covariance matrix of the errors is correctly specified."
      ],
      "text/plain": [
       "<class 'statsmodels.iolib.summary.Summary'>\n",
       "\"\"\"\n",
       "                            OLS Regression Results                            \n",
       "==============================================================================\n",
       "Dep. Variable:                      y   R-squared:                       0.674\n",
       "Model:                            OLS   Adj. R-squared:                  0.673\n",
       "Method:                 Least Squares   F-statistic:                     1031.\n",
       "Date:                Thu, 16 Nov 2023   Prob (F-statistic):          2.25e-243\n",
       "Time:                        07:55:48   Log-Likelihood:                -3576.9\n",
       "No. Observations:                1000   AIC:                             7160.\n",
       "Df Residuals:                     997   BIC:                             7175.\n",
       "Df Model:                           2                                         \n",
       "Covariance Type:            nonrobust                                         \n",
       "==============================================================================\n",
       "                 coef    std err          t      P>|t|      [0.025      0.975]\n",
       "------------------------------------------------------------------------------\n",
       "const          7.5241      1.328      5.665      0.000       4.918      10.131\n",
       "x1             0.6013      0.063      9.538      0.000       0.478       0.725\n",
       "x2             0.2494      0.061      4.118      0.000       0.131       0.368\n",
       "==============================================================================\n",
       "Omnibus:                       10.227   Durbin-Watson:                   2.087\n",
       "Prob(Omnibus):                  0.006   Jarque-Bera (JB):                6.801\n",
       "Skew:                           0.006   Prob(JB):                       0.0334\n",
       "Kurtosis:                       2.596   Cond. No.                         481.\n",
       "==============================================================================\n",
       "\n",
       "Notes:\n",
       "[1] Standard Errors assume that the covariance matrix of the errors is correctly specified.\n",
       "\"\"\""
      ]
     },
     "execution_count": 42,
     "metadata": {},
     "output_type": "execute_result"
    }
   ],
   "source": [
    "import statsmodels.api as sm\n",
    "\n",
    "# adding a constant\n",
    "X_with_constant = sm.add_constant(df[[\"reading_score\", \"writing_score\"]].values)\n",
    "Y = df[['math_score']].values\n",
    "# performing the regression\n",
    "result = sm.OLS(Y, X_with_constant).fit()\n",
    "# Result of statsmodels\n",
    "result.summary()"
   ]
  },
  {
   "cell_type": "markdown",
   "metadata": {},
   "source": [
    "**Nhận xét:**\n",
    "\n",
    "- Adj. R-squared = 1% => quá ít, không thể giải thích cho điểm môn toán. Hay nói cách khác không thể dựa vào điểm môn viết và điểm môn đọc để dự đoán điểm môn toán\n",
    "\n",
    "- Prob (F-statistic) = 2.25e-243 => phù hợp, bé hơn 0.05, có ý nghĩa thống kê\n",
    "\n",
    "- P>|t| = 0.0 < 0.05 => có ý nghĩa thống kê\n",
    "\n",
    "- Ta có phương trình tổng quát cho điểm môn toán là:\n",
    "math_score = f(reading_score, writing_score)\n",
    "\n",
    "math_score = A0 + A1 * reading_score + A2 * writing_score * epsilon\n",
    "\n",
    "math_score = 7.5241 + 0.6013 * reading_score + 0.2494 * writing_score * epsilon\n",
    "\n",
    "- Giả sử reading_score = 8 và writing_score = 7 \n",
    "\n",
    "=> math_score = 7.5241 + 0.6013 * 8 + 0.2494 * 7 = 14.0803"
   ]
  },
  {
   "cell_type": "markdown",
   "metadata": {},
   "source": [
    "### 3. Phân Lớp, Gom Cụm (Clustering)"
   ]
  },
  {
   "cell_type": "markdown",
   "metadata": {},
   "source": [
    "**Preparing Data Before Modelling**"
   ]
  },
  {
   "cell_type": "code",
   "execution_count": 101,
   "metadata": {},
   "outputs": [],
   "source": [
    "# Đổi tên cột\n",
    "\n",
    "df.rename(columns={\n",
    "    'race/ethnicity': 'ethnicity',\n",
    "    'parental_level_of_education': 'parent_edu',\n",
    "    'test_preparation_course': 'test_prep',\n",
    "    'math score': 'math_score',\n",
    "    'reading score': 'reading_score',\n",
    "    'writing score': 'writing_score'}, \n",
    "inplace=True)\n"
   ]
  },
  {
   "cell_type": "code",
   "execution_count": 102,
   "metadata": {},
   "outputs": [
    {
     "data": {
      "text/html": [
       "<div>\n",
       "<style scoped>\n",
       "    .dataframe tbody tr th:only-of-type {\n",
       "        vertical-align: middle;\n",
       "    }\n",
       "\n",
       "    .dataframe tbody tr th {\n",
       "        vertical-align: top;\n",
       "    }\n",
       "\n",
       "    .dataframe thead th {\n",
       "        text-align: right;\n",
       "    }\n",
       "</style>\n",
       "<table border=\"1\" class=\"dataframe\">\n",
       "  <thead>\n",
       "    <tr style=\"text-align: right;\">\n",
       "      <th></th>\n",
       "      <th>gender</th>\n",
       "      <th>ethnicity</th>\n",
       "      <th>parent_edu</th>\n",
       "      <th>lunch</th>\n",
       "      <th>test_prep</th>\n",
       "      <th>math_score</th>\n",
       "      <th>reading_score</th>\n",
       "      <th>writing_score</th>\n",
       "    </tr>\n",
       "  </thead>\n",
       "  <tbody>\n",
       "    <tr>\n",
       "      <th>0</th>\n",
       "      <td>female</td>\n",
       "      <td>group B</td>\n",
       "      <td>bachelor's degree</td>\n",
       "      <td>standard</td>\n",
       "      <td>none</td>\n",
       "      <td>72</td>\n",
       "      <td>72</td>\n",
       "      <td>74</td>\n",
       "    </tr>\n",
       "    <tr>\n",
       "      <th>1</th>\n",
       "      <td>female</td>\n",
       "      <td>group C</td>\n",
       "      <td>some college</td>\n",
       "      <td>standard</td>\n",
       "      <td>completed</td>\n",
       "      <td>69</td>\n",
       "      <td>90</td>\n",
       "      <td>88</td>\n",
       "    </tr>\n",
       "    <tr>\n",
       "      <th>2</th>\n",
       "      <td>female</td>\n",
       "      <td>group B</td>\n",
       "      <td>master's degree</td>\n",
       "      <td>standard</td>\n",
       "      <td>none</td>\n",
       "      <td>90</td>\n",
       "      <td>95</td>\n",
       "      <td>93</td>\n",
       "    </tr>\n",
       "    <tr>\n",
       "      <th>3</th>\n",
       "      <td>male</td>\n",
       "      <td>group A</td>\n",
       "      <td>associate's degree</td>\n",
       "      <td>free/reduced</td>\n",
       "      <td>none</td>\n",
       "      <td>47</td>\n",
       "      <td>57</td>\n",
       "      <td>44</td>\n",
       "    </tr>\n",
       "    <tr>\n",
       "      <th>4</th>\n",
       "      <td>male</td>\n",
       "      <td>group C</td>\n",
       "      <td>some college</td>\n",
       "      <td>standard</td>\n",
       "      <td>none</td>\n",
       "      <td>76</td>\n",
       "      <td>78</td>\n",
       "      <td>75</td>\n",
       "    </tr>\n",
       "    <tr>\n",
       "      <th>...</th>\n",
       "      <td>...</td>\n",
       "      <td>...</td>\n",
       "      <td>...</td>\n",
       "      <td>...</td>\n",
       "      <td>...</td>\n",
       "      <td>...</td>\n",
       "      <td>...</td>\n",
       "      <td>...</td>\n",
       "    </tr>\n",
       "    <tr>\n",
       "      <th>995</th>\n",
       "      <td>female</td>\n",
       "      <td>group E</td>\n",
       "      <td>master's degree</td>\n",
       "      <td>standard</td>\n",
       "      <td>completed</td>\n",
       "      <td>88</td>\n",
       "      <td>99</td>\n",
       "      <td>95</td>\n",
       "    </tr>\n",
       "    <tr>\n",
       "      <th>996</th>\n",
       "      <td>male</td>\n",
       "      <td>group C</td>\n",
       "      <td>high school</td>\n",
       "      <td>free/reduced</td>\n",
       "      <td>none</td>\n",
       "      <td>62</td>\n",
       "      <td>55</td>\n",
       "      <td>55</td>\n",
       "    </tr>\n",
       "    <tr>\n",
       "      <th>997</th>\n",
       "      <td>female</td>\n",
       "      <td>group C</td>\n",
       "      <td>high school</td>\n",
       "      <td>free/reduced</td>\n",
       "      <td>completed</td>\n",
       "      <td>59</td>\n",
       "      <td>71</td>\n",
       "      <td>65</td>\n",
       "    </tr>\n",
       "    <tr>\n",
       "      <th>998</th>\n",
       "      <td>female</td>\n",
       "      <td>group D</td>\n",
       "      <td>some college</td>\n",
       "      <td>standard</td>\n",
       "      <td>completed</td>\n",
       "      <td>68</td>\n",
       "      <td>78</td>\n",
       "      <td>77</td>\n",
       "    </tr>\n",
       "    <tr>\n",
       "      <th>999</th>\n",
       "      <td>female</td>\n",
       "      <td>group D</td>\n",
       "      <td>some college</td>\n",
       "      <td>free/reduced</td>\n",
       "      <td>none</td>\n",
       "      <td>77</td>\n",
       "      <td>86</td>\n",
       "      <td>86</td>\n",
       "    </tr>\n",
       "  </tbody>\n",
       "</table>\n",
       "<p>1000 rows × 8 columns</p>\n",
       "</div>"
      ],
      "text/plain": [
       "     gender ethnicity          parent_edu         lunch  test_prep  \\\n",
       "0    female   group B   bachelor's degree      standard       none   \n",
       "1    female   group C        some college      standard  completed   \n",
       "2    female   group B     master's degree      standard       none   \n",
       "3      male   group A  associate's degree  free/reduced       none   \n",
       "4      male   group C        some college      standard       none   \n",
       "..      ...       ...                 ...           ...        ...   \n",
       "995  female   group E     master's degree      standard  completed   \n",
       "996    male   group C         high school  free/reduced       none   \n",
       "997  female   group C         high school  free/reduced  completed   \n",
       "998  female   group D        some college      standard  completed   \n",
       "999  female   group D        some college  free/reduced       none   \n",
       "\n",
       "     math_score  reading_score  writing_score  \n",
       "0            72             72             74  \n",
       "1            69             90             88  \n",
       "2            90             95             93  \n",
       "3            47             57             44  \n",
       "4            76             78             75  \n",
       "..          ...            ...            ...  \n",
       "995          88             99             95  \n",
       "996          62             55             55  \n",
       "997          59             71             65  \n",
       "998          68             78             77  \n",
       "999          77             86             86  \n",
       "\n",
       "[1000 rows x 8 columns]"
      ]
     },
     "execution_count": 102,
     "metadata": {},
     "output_type": "execute_result"
    }
   ],
   "source": [
    "df"
   ]
  },
  {
   "cell_type": "markdown",
   "metadata": {},
   "source": [
    "Standardized of Numerical Columns"
   ]
  },
  {
   "cell_type": "code",
   "execution_count": 90,
   "metadata": {},
   "outputs": [],
   "source": [
    "from sklearn.preprocessing import StandardScaler\n",
    "\n",
    "# Selecting numerical columns\n",
    "num_cols = ['math_score', 'reading_score', 'writing_score']\n",
    "\n",
    "# Standardization\n",
    "df_std = StandardScaler().fit_transform(df[num_cols])\n",
    "\n",
    "# Making DataFrame\n",
    "df_std = pd.DataFrame(data = df_std, index = df.index, columns = num_cols)"
   ]
  },
  {
   "cell_type": "code",
   "execution_count": 91,
   "metadata": {},
   "outputs": [
    {
     "name": "stdout",
     "output_type": "stream",
     "text": [
      "Standardization Result\n",
      "\n"
     ]
    },
    {
     "data": {
      "text/html": [
       "<div>\n",
       "<style scoped>\n",
       "    .dataframe tbody tr th:only-of-type {\n",
       "        vertical-align: middle;\n",
       "    }\n",
       "\n",
       "    .dataframe tbody tr th {\n",
       "        vertical-align: top;\n",
       "    }\n",
       "\n",
       "    .dataframe thead th {\n",
       "        text-align: right;\n",
       "    }\n",
       "</style>\n",
       "<table border=\"1\" class=\"dataframe\">\n",
       "  <thead>\n",
       "    <tr style=\"text-align: right;\">\n",
       "      <th></th>\n",
       "      <th>math_score</th>\n",
       "      <th>reading_score</th>\n",
       "      <th>writing_score</th>\n",
       "    </tr>\n",
       "  </thead>\n",
       "  <tbody>\n",
       "    <tr>\n",
       "      <th>0</th>\n",
       "      <td>0.390024</td>\n",
       "      <td>0.193999</td>\n",
       "      <td>0.391492</td>\n",
       "    </tr>\n",
       "    <tr>\n",
       "      <th>1</th>\n",
       "      <td>0.192076</td>\n",
       "      <td>1.427476</td>\n",
       "      <td>1.313269</td>\n",
       "    </tr>\n",
       "    <tr>\n",
       "      <th>2</th>\n",
       "      <td>1.577711</td>\n",
       "      <td>1.770109</td>\n",
       "      <td>1.642475</td>\n",
       "    </tr>\n",
       "    <tr>\n",
       "      <th>3</th>\n",
       "      <td>-1.259543</td>\n",
       "      <td>-0.833899</td>\n",
       "      <td>-1.583744</td>\n",
       "    </tr>\n",
       "    <tr>\n",
       "      <th>4</th>\n",
       "      <td>0.653954</td>\n",
       "      <td>0.605158</td>\n",
       "      <td>0.457333</td>\n",
       "    </tr>\n",
       "  </tbody>\n",
       "</table>\n",
       "</div>"
      ],
      "text/plain": [
       "   math_score  reading_score  writing_score\n",
       "0    0.390024       0.193999       0.391492\n",
       "1    0.192076       1.427476       1.313269\n",
       "2    1.577711       1.770109       1.642475\n",
       "3   -1.259543      -0.833899      -1.583744\n",
       "4    0.653954       0.605158       0.457333"
      ]
     },
     "execution_count": 91,
     "metadata": {},
     "output_type": "execute_result"
    }
   ],
   "source": [
    "# Displaying data contents and \n",
    "print('Standardization Result\\n')\n",
    "df_std.head()"
   ]
  },
  {
   "cell_type": "code",
   "execution_count": 92,
   "metadata": {},
   "outputs": [
    {
     "name": "stdout",
     "output_type": "stream",
     "text": [
      "Summary Statistics Result\n",
      "\n"
     ]
    },
    {
     "data": {
      "text/html": [
       "<div>\n",
       "<style scoped>\n",
       "    .dataframe tbody tr th:only-of-type {\n",
       "        vertical-align: middle;\n",
       "    }\n",
       "\n",
       "    .dataframe tbody tr th {\n",
       "        vertical-align: top;\n",
       "    }\n",
       "\n",
       "    .dataframe thead th {\n",
       "        text-align: right;\n",
       "    }\n",
       "</style>\n",
       "<table border=\"1\" class=\"dataframe\">\n",
       "  <thead>\n",
       "    <tr style=\"text-align: right;\">\n",
       "      <th></th>\n",
       "      <th>math_score</th>\n",
       "      <th>reading_score</th>\n",
       "      <th>writing_score</th>\n",
       "    </tr>\n",
       "  </thead>\n",
       "  <tbody>\n",
       "    <tr>\n",
       "      <th>count</th>\n",
       "      <td>1000.0</td>\n",
       "      <td>1000.0</td>\n",
       "      <td>1000.0</td>\n",
       "    </tr>\n",
       "    <tr>\n",
       "      <th>mean</th>\n",
       "      <td>0.0</td>\n",
       "      <td>0.0</td>\n",
       "      <td>-0.0</td>\n",
       "    </tr>\n",
       "    <tr>\n",
       "      <th>std</th>\n",
       "      <td>1.0</td>\n",
       "      <td>1.0</td>\n",
       "      <td>1.0</td>\n",
       "    </tr>\n",
       "    <tr>\n",
       "      <th>min</th>\n",
       "      <td>-4.0</td>\n",
       "      <td>-4.0</td>\n",
       "      <td>-4.0</td>\n",
       "    </tr>\n",
       "    <tr>\n",
       "      <th>25%</th>\n",
       "      <td>-1.0</td>\n",
       "      <td>-1.0</td>\n",
       "      <td>-1.0</td>\n",
       "    </tr>\n",
       "    <tr>\n",
       "      <th>50%</th>\n",
       "      <td>-0.0</td>\n",
       "      <td>0.0</td>\n",
       "      <td>0.0</td>\n",
       "    </tr>\n",
       "    <tr>\n",
       "      <th>75%</th>\n",
       "      <td>1.0</td>\n",
       "      <td>1.0</td>\n",
       "      <td>1.0</td>\n",
       "    </tr>\n",
       "    <tr>\n",
       "      <th>max</th>\n",
       "      <td>2.0</td>\n",
       "      <td>2.0</td>\n",
       "      <td>2.0</td>\n",
       "    </tr>\n",
       "  </tbody>\n",
       "</table>\n",
       "</div>"
      ],
      "text/plain": [
       "       math_score  reading_score  writing_score\n",
       "count      1000.0         1000.0         1000.0\n",
       "mean          0.0            0.0           -0.0\n",
       "std           1.0            1.0            1.0\n",
       "min          -4.0           -4.0           -4.0\n",
       "25%          -1.0           -1.0           -1.0\n",
       "50%          -0.0            0.0            0.0\n",
       "75%           1.0            1.0            1.0\n",
       "max           2.0            2.0            2.0"
      ]
     },
     "execution_count": 92,
     "metadata": {},
     "output_type": "execute_result"
    }
   ],
   "source": [
    "# Displaying summary statistics\n",
    "print('Summary Statistics Result\\n')\n",
    "df_std.describe().round(0)"
   ]
  },
  {
   "cell_type": "markdown",
   "metadata": {},
   "source": [
    "Categorical Data Convertion using LabelEncoder"
   ]
  },
  {
   "cell_type": "code",
   "execution_count": 103,
   "metadata": {},
   "outputs": [
    {
     "data": {
      "text/html": [
       "<div>\n",
       "<style scoped>\n",
       "    .dataframe tbody tr th:only-of-type {\n",
       "        vertical-align: middle;\n",
       "    }\n",
       "\n",
       "    .dataframe tbody tr th {\n",
       "        vertical-align: top;\n",
       "    }\n",
       "\n",
       "    .dataframe thead th {\n",
       "        text-align: right;\n",
       "    }\n",
       "</style>\n",
       "<table border=\"1\" class=\"dataframe\">\n",
       "  <thead>\n",
       "    <tr style=\"text-align: right;\">\n",
       "      <th></th>\n",
       "      <th>gender</th>\n",
       "      <th>ethnicity</th>\n",
       "      <th>parent_edu</th>\n",
       "      <th>lunch</th>\n",
       "      <th>test_prep</th>\n",
       "    </tr>\n",
       "  </thead>\n",
       "  <tbody>\n",
       "    <tr>\n",
       "      <th>0</th>\n",
       "      <td>0</td>\n",
       "      <td>1</td>\n",
       "      <td>1</td>\n",
       "      <td>1</td>\n",
       "      <td>1</td>\n",
       "    </tr>\n",
       "    <tr>\n",
       "      <th>1</th>\n",
       "      <td>0</td>\n",
       "      <td>2</td>\n",
       "      <td>4</td>\n",
       "      <td>1</td>\n",
       "      <td>0</td>\n",
       "    </tr>\n",
       "    <tr>\n",
       "      <th>2</th>\n",
       "      <td>0</td>\n",
       "      <td>1</td>\n",
       "      <td>3</td>\n",
       "      <td>1</td>\n",
       "      <td>1</td>\n",
       "    </tr>\n",
       "    <tr>\n",
       "      <th>3</th>\n",
       "      <td>1</td>\n",
       "      <td>0</td>\n",
       "      <td>0</td>\n",
       "      <td>0</td>\n",
       "      <td>1</td>\n",
       "    </tr>\n",
       "    <tr>\n",
       "      <th>4</th>\n",
       "      <td>1</td>\n",
       "      <td>2</td>\n",
       "      <td>4</td>\n",
       "      <td>1</td>\n",
       "      <td>1</td>\n",
       "    </tr>\n",
       "  </tbody>\n",
       "</table>\n",
       "</div>"
      ],
      "text/plain": [
       "   gender  ethnicity  parent_edu  lunch  test_prep\n",
       "0       0          1           1      1          1\n",
       "1       0          2           4      1          0\n",
       "2       0          1           3      1          1\n",
       "3       1          0           0      0          1\n",
       "4       1          2           4      1          1"
      ]
     },
     "execution_count": 103,
     "metadata": {},
     "output_type": "execute_result"
    }
   ],
   "source": [
    "from sklearn.preprocessing import LabelEncoder\n",
    "\n",
    "categorical_cols = ['gender', 'ethnicity', 'parent_edu', 'lunch', 'test_prep']\n",
    "\n",
    "# Making a copy from dataframe\n",
    "df_encode = df[categorical_cols].copy()\n",
    "\n",
    "# Doing LabelEncoder for all the categorical columns\n",
    "for col in categorical_cols:\n",
    "    df_encode[col] = LabelEncoder().fit_transform(df_encode[col])\n",
    "    \n",
    "# Displaying data\n",
    "df_encode.head()"
   ]
  },
  {
   "cell_type": "markdown",
   "metadata": {},
   "source": [
    "Combining the Data"
   ]
  },
  {
   "cell_type": "code",
   "execution_count": 105,
   "metadata": {},
   "outputs": [
    {
     "data": {
      "text/html": [
       "<div>\n",
       "<style scoped>\n",
       "    .dataframe tbody tr th:only-of-type {\n",
       "        vertical-align: middle;\n",
       "    }\n",
       "\n",
       "    .dataframe tbody tr th {\n",
       "        vertical-align: top;\n",
       "    }\n",
       "\n",
       "    .dataframe thead th {\n",
       "        text-align: right;\n",
       "    }\n",
       "</style>\n",
       "<table border=\"1\" class=\"dataframe\">\n",
       "  <thead>\n",
       "    <tr style=\"text-align: right;\">\n",
       "      <th></th>\n",
       "      <th>gender</th>\n",
       "      <th>ethnicity</th>\n",
       "      <th>parent_edu</th>\n",
       "      <th>lunch</th>\n",
       "      <th>test_prep</th>\n",
       "      <th>math_score</th>\n",
       "      <th>reading_score</th>\n",
       "      <th>writing_score</th>\n",
       "    </tr>\n",
       "  </thead>\n",
       "  <tbody>\n",
       "    <tr>\n",
       "      <th>0</th>\n",
       "      <td>0</td>\n",
       "      <td>1</td>\n",
       "      <td>1</td>\n",
       "      <td>1</td>\n",
       "      <td>1</td>\n",
       "      <td>0.390024</td>\n",
       "      <td>0.193999</td>\n",
       "      <td>0.391492</td>\n",
       "    </tr>\n",
       "    <tr>\n",
       "      <th>1</th>\n",
       "      <td>0</td>\n",
       "      <td>2</td>\n",
       "      <td>4</td>\n",
       "      <td>1</td>\n",
       "      <td>0</td>\n",
       "      <td>0.192076</td>\n",
       "      <td>1.427476</td>\n",
       "      <td>1.313269</td>\n",
       "    </tr>\n",
       "    <tr>\n",
       "      <th>2</th>\n",
       "      <td>0</td>\n",
       "      <td>1</td>\n",
       "      <td>3</td>\n",
       "      <td>1</td>\n",
       "      <td>1</td>\n",
       "      <td>1.577711</td>\n",
       "      <td>1.770109</td>\n",
       "      <td>1.642475</td>\n",
       "    </tr>\n",
       "    <tr>\n",
       "      <th>3</th>\n",
       "      <td>1</td>\n",
       "      <td>0</td>\n",
       "      <td>0</td>\n",
       "      <td>0</td>\n",
       "      <td>1</td>\n",
       "      <td>-1.259543</td>\n",
       "      <td>-0.833899</td>\n",
       "      <td>-1.583744</td>\n",
       "    </tr>\n",
       "    <tr>\n",
       "      <th>4</th>\n",
       "      <td>1</td>\n",
       "      <td>2</td>\n",
       "      <td>4</td>\n",
       "      <td>1</td>\n",
       "      <td>1</td>\n",
       "      <td>0.653954</td>\n",
       "      <td>0.605158</td>\n",
       "      <td>0.457333</td>\n",
       "    </tr>\n",
       "  </tbody>\n",
       "</table>\n",
       "</div>"
      ],
      "text/plain": [
       "   gender  ethnicity  parent_edu  lunch  test_prep  math_score  reading_score  \\\n",
       "0       0          1           1      1          1    0.390024       0.193999   \n",
       "1       0          2           4      1          0    0.192076       1.427476   \n",
       "2       0          1           3      1          1    1.577711       1.770109   \n",
       "3       1          0           0      0          1   -1.259543      -0.833899   \n",
       "4       1          2           4      1          1    0.653954       0.605158   \n",
       "\n",
       "   writing_score  \n",
       "0       0.391492  \n",
       "1       1.313269  \n",
       "2       1.642475  \n",
       "3      -1.583744  \n",
       "4       0.457333  "
      ]
     },
     "execution_count": 105,
     "metadata": {},
     "output_type": "execute_result"
    }
   ],
   "source": [
    "df_model = df_encode.merge(df_std, left_index = True, right_index = True, how = 'left')\n",
    "df_model.head()"
   ]
  },
  {
   "cell_type": "markdown",
   "metadata": {},
   "source": [
    "**Modelling**"
   ]
  },
  {
   "cell_type": "markdown",
   "metadata": {},
   "source": [
    "Finding the Optimal Number of Clusters"
   ]
  },
  {
   "cell_type": "code",
   "execution_count": 110,
   "metadata": {},
   "outputs": [
    {
     "data": {
      "image/png": "[encoded data removed]",
      "text/plain": [
       "<Figure size 640x480 with 1 Axes>"
      ]
     },
     "metadata": {},
     "output_type": "display_data"
    }
   ],
   "source": [
    "# Chọn số cụm cluster tốt nhất\n",
    "from sklearn.cluster import KMeans\n",
    "kmean_kwargs = {\"init\": \"random\", \"n_init\": 10, \"max_iter\": 300, \"random_state\": 42}\n",
    "sse = []\n",
    "for i in range(1, 11):\n",
    "    kmeans = KMeans(n_clusters=i, **kmean_kwargs)\n",
    "    kmeans.fit(df_model)\n",
    "    sse.append(kmeans.inertia_)\n",
    "plt.style.use(\"fivethirtyeight\")\n",
    "plt.plot(range(1, 11), sse)\n",
    "plt.xticks(range(1, 11))\n",
    "plt.xlabel(\"Number of Clusters\")\n",
    "plt.ylabel(\"SSE\")\n",
    "plt.show()"
   ]
  },
  {
   "cell_type": "code",
   "execution_count": 118,
   "metadata": {},
   "outputs": [
    {
     "data": {
      "text/html": [
       "<div>\n",
       "<style scoped>\n",
       "    .dataframe tbody tr th:only-of-type {\n",
       "        vertical-align: middle;\n",
       "    }\n",
       "\n",
       "    .dataframe tbody tr th {\n",
       "        vertical-align: top;\n",
       "    }\n",
       "\n",
       "    .dataframe thead th {\n",
       "        text-align: right;\n",
       "    }\n",
       "</style>\n",
       "<table border=\"1\" class=\"dataframe\">\n",
       "  <thead>\n",
       "    <tr style=\"text-align: right;\">\n",
       "      <th></th>\n",
       "      <th>gender</th>\n",
       "      <th>ethnicity</th>\n",
       "      <th>parent_edu</th>\n",
       "      <th>lunch</th>\n",
       "      <th>test_prep</th>\n",
       "      <th>math_score</th>\n",
       "      <th>reading_score</th>\n",
       "      <th>writing_score</th>\n",
       "    </tr>\n",
       "  </thead>\n",
       "  <tbody>\n",
       "    <tr>\n",
       "      <th>0</th>\n",
       "      <td>0</td>\n",
       "      <td>1</td>\n",
       "      <td>1</td>\n",
       "      <td>1</td>\n",
       "      <td>1</td>\n",
       "      <td>0.390024</td>\n",
       "      <td>0.193999</td>\n",
       "      <td>0.391492</td>\n",
       "    </tr>\n",
       "    <tr>\n",
       "      <th>1</th>\n",
       "      <td>0</td>\n",
       "      <td>2</td>\n",
       "      <td>4</td>\n",
       "      <td>1</td>\n",
       "      <td>0</td>\n",
       "      <td>0.192076</td>\n",
       "      <td>1.427476</td>\n",
       "      <td>1.313269</td>\n",
       "    </tr>\n",
       "    <tr>\n",
       "      <th>2</th>\n",
       "      <td>0</td>\n",
       "      <td>1</td>\n",
       "      <td>3</td>\n",
       "      <td>1</td>\n",
       "      <td>1</td>\n",
       "      <td>1.577711</td>\n",
       "      <td>1.770109</td>\n",
       "      <td>1.642475</td>\n",
       "    </tr>\n",
       "    <tr>\n",
       "      <th>3</th>\n",
       "      <td>1</td>\n",
       "      <td>0</td>\n",
       "      <td>0</td>\n",
       "      <td>0</td>\n",
       "      <td>1</td>\n",
       "      <td>-1.259543</td>\n",
       "      <td>-0.833899</td>\n",
       "      <td>-1.583744</td>\n",
       "    </tr>\n",
       "    <tr>\n",
       "      <th>4</th>\n",
       "      <td>1</td>\n",
       "      <td>2</td>\n",
       "      <td>4</td>\n",
       "      <td>1</td>\n",
       "      <td>1</td>\n",
       "      <td>0.653954</td>\n",
       "      <td>0.605158</td>\n",
       "      <td>0.457333</td>\n",
       "    </tr>\n",
       "  </tbody>\n",
       "</table>\n",
       "</div>"
      ],
      "text/plain": [
       "   gender  ethnicity  parent_edu  lunch  test_prep  math_score  reading_score  \\\n",
       "0       0          1           1      1          1    0.390024       0.193999   \n",
       "1       0          2           4      1          0    0.192076       1.427476   \n",
       "2       0          1           3      1          1    1.577711       1.770109   \n",
       "3       1          0           0      0          1   -1.259543      -0.833899   \n",
       "4       1          2           4      1          1    0.653954       0.605158   \n",
       "\n",
       "   writing_score  \n",
       "0       0.391492  \n",
       "1       1.313269  \n",
       "2       1.642475  \n",
       "3      -1.583744  \n",
       "4       0.457333  "
      ]
     },
     "execution_count": 118,
     "metadata": {},
     "output_type": "execute_result"
    }
   ],
   "source": [
    "df_model.head()"
   ]
  },
  {
   "cell_type": "code",
   "execution_count": 119,
   "metadata": {},
   "outputs": [
    {
     "data": {
      "text/plain": [
       "2.850438562747845"
      ]
     },
     "execution_count": 119,
     "metadata": {},
     "output_type": "execute_result"
    }
   ],
   "source": [
    "# Độ đo Euclid\n",
    "d = np.sqrt((3.25-6.0)**2 + (3.25-4.0)**2)\n",
    "d"
   ]
  },
  {
   "cell_type": "code",
   "execution_count": 120,
   "metadata": {},
   "outputs": [
    {
     "name": "stderr",
     "output_type": "stream",
     "text": [
      "e:\\LAP TRINH PYTHON\\LT PTDL 1\\venv\\Lib\\site-packages\\sklearn\\cluster\\_kmeans.py:1416: FutureWarning: The default value of `n_init` will change from 10 to 'auto' in 1.4. Set the value of `n_init` explicitly to suppress the warning\n",
      "  super()._check_params_vs_input(X, default_n_init=10)\n"
     ]
    }
   ],
   "source": [
    "from sklearn.cluster import KMeans\n",
    "kmeans = KMeans(n_clusters=4).fit(df_model)"
   ]
  },
  {
   "cell_type": "code",
   "execution_count": 123,
   "metadata": {},
   "outputs": [
    {
     "name": "stdout",
     "output_type": "stream",
     "text": [
      "[[ 0.56410256  1.76495726  1.14529915  0.53418803  0.79059829 -0.80696964\n",
      "  -0.85761997 -0.87468522]\n",
      " [ 0.54726368  1.75621891  4.37810945  0.49253731  0.74129353 -0.82491096\n",
      "  -0.88674308 -0.88373114]\n",
      " [ 0.41444867  2.53231939  4.16730038  0.76425856  0.53612167  0.6271095\n",
      "   0.68619098  0.69065622]\n",
      " [ 0.43377483  2.45695364  0.8013245   0.72847682  0.55298013  0.62817285\n",
      "   0.65711988  0.66444939]]\n",
      "3795.9115759373162\n",
      "[3 2 2 0 2 3 2 1 0 0 0 0 3 2 1 2 3 1 1 0 3 2 1 2 3 2 1 3 3 2 2 1 2 1 2 3 3\n",
      " 1 3 0 0 3 0 1 0 0 0 3 3 3 1 3 1 3 2 0 3 0 1 1 3 1 0 3 1 1 1 2 0 0 2 1 0 1\n",
      " 1 0 1 3 2 2 0 0 1 3 0 2 2 3 1 2 3 0 3 0 2 3 1 2 1 3 2 3 3 0 2 1 2 3 0 1 3\n",
      " 0 0 1 3 3 3 3 1 1 3 3 2 0 2 3 1 2 2 0 2 1 2 2 3 0 1 0 0 2 2 1 1 0 2 1 2 3\n",
      " 3 3 1 0 0 0 1 2 3 1 3 0 3 2 1 0 2 3 0 2 3 2 3 2 2 3 0 2 0 3 1 2 2 1 0 3 1\n",
      " 3 3 2 1 3 3 2 1 2 2 0 1 0 1 3 3 2 3 0 1 2 3 3 2 1 2 1 0 0 3 2 3 0 3 1 3 3\n",
      " 1 2 0 1 2 0 1 2 2 0 3 2 3 3 3 2 1 3 3 3 0 1 2 3 3 0 0 0 1 2 1 2 0 2 3 3 2\n",
      " 2 2 2 1 3 3 1 3 3 3 2 0 1 0 2 2 3 2 3 2 0 0 0 3 2 1 3 3 2 3 2 3 2 1 3 3 0\n",
      " 1 3 0 3 2 1 3 3 3 1 2 1 0 0 3 0 3 3 3 0 2 3 0 0 3 3 2 1 0 2 1 1 3 1 0 0 0\n",
      " 3 3 1 2 0 1 1 0 0 3 3 2 3 1 3 3 3 0 1 2 0 2 0 0 1 1 2 0 2 1 1 1 0 0 0 1 2\n",
      " 2 1 2 2 3 0 2 2 2 0 3 3 2 1 1 2 3 3 0 2 2 2 2 0 2 0 0 3 1 1 1 1 1 3 0 2 0\n",
      " 3 0 3 2 2 3 1 3 3 3 3 1 0 3 0 1 2 1 1 3 2 1 1 0 3 0 1 2 1 3 3 0 2 2 3 1 3\n",
      " 2 2 1 3 0 3 2 2 3 1 0 0 3 0 3 0 0 1 2 2 0 2 0 0 3 2 3 3 3 1 3 3 3 3 2 3 3\n",
      " 0 1 0 0 3 1 3 1 3 3 3 2 3 0 3 1 2 1 2 2 3 1 3 1 2 0 0 2 3 2 1 1 1 2 2 2 2\n",
      " 2 3 1 3 0 1 0 2 1 0 0 3 3 1 0 3 3 3 0 0 3 3 3 3 3 3 2 2 2 3 0 2 2 3 0 2 0\n",
      " 1 3 1 0 2 2 2 3 2 0 0 3 2 0 3 2 3 1 0 3 0 1 3 1 1 2 2 3 3 2 3 0 0 1 1 1 1\n",
      " 3 3 3 3 0 1 3 2 1 0 2 0 2 2 3 1 2 0 1 1 3 3 3 0 0 3 2 3 0 0 0 2 0 2 0 0 1\n",
      " 1 2 0 3 3 2 0 3 2 2 3 0 3 2 3 0 3 3 3 0 2 1 3 2 3 2 1 3 2 0 3 2 1 2 0 3 1\n",
      " 2 3 2 3 3 0 2 3 3 1 2 2 3 1 3 0 0 1 1 2 2 3 0 2 0 3 3 3 1 2 3 0 3 0 3 1 3\n",
      " 2 1 0 0 1 3 0 2 2 2 2 1 3 3 3 3 3 2 1 2 0 1 2 3 1 3 1 3 1 2 1 1 1 3 1 3 0\n",
      " 3 0 3 3 1 3 3 2 0 2 2 2 2 2 0 3 1 3 1 2 0 1 2 0 1 3 3 0 2 1 0 3 1 3 1 1 0\n",
      " 1 2 3 0 2 3 0 3 1 2 1 0 1 0 2 3 2 0 3 3 3 1 0 2 2 3 2 2 2 2 0 3 0 1 0 1 2\n",
      " 3 2 0 3 0 2 2 3 1 3 1 0 0 2 2 1 1 3 0 3 1 0 3 3 0 3 0 1 0 2 1 2 2 0 0 3 2\n",
      " 0 2 2 1 3 1 3 0 3 0 2 0 2 3 2 0 0 3 0 0 2 3 3 0 2 2 1 2 3 0 3 0 0 0 3 3 0\n",
      " 2 0 2 3 1 2 3 1 0 2 0 2 2 2 0 3 2 2 0 2 3 3 0 2 0 0 0 2 3 0 3 2 3 0 3 0 3\n",
      " 2 0 3 0 1 2 1 3 3 3 1 0 0 2 2 2 2 3 1 0 0 3 1 1 3 3 2 2 0 2 3 2 2 0 3 1 1\n",
      " 3 2 1 2 1 1 3 3 3 2 0 1 1 2 1 0 0 3 0 2 2 2 2 0 0 2 1 2 3 2 3 3 0 2 0 0 2\n",
      " 2]\n",
      "11\n",
      "4\n"
     ]
    }
   ],
   "source": [
    "# Số tâm\n",
    "print(kmeans.cluster_centers_)\n",
    "\n",
    "# Độ đo đánh giá\n",
    "print(kmeans.inertia_)\n",
    "\n",
    "# Nhãn\n",
    "print(kmeans.labels_[:])\n",
    "\n",
    "# Số lần lặp\n",
    "print(kmeans.n_iter_)\n",
    "\n",
    "# Số cụm\n",
    "print(kmeans.n_clusters)"
   ]
  },
  {
   "cell_type": "code",
   "execution_count": 122,
   "metadata": {},
   "outputs": [
    {
     "data": {
      "text/plain": [
       "2.850438562747845"
      ]
     },
     "execution_count": 122,
     "metadata": {},
     "output_type": "execute_result"
    }
   ],
   "source": [
    "def euclid (a1, a2, b1, b2):\n",
    "    return np.sqrt((a1-b1)**2 + (a2-b2)**2)\n",
    "euclid(3.25, 3.25, 6.0, 4.0)"
   ]
  },
  {
   "cell_type": "code",
   "execution_count": 124,
   "metadata": {},
   "outputs": [
    {
     "name": "stderr",
     "output_type": "stream",
     "text": [
      "e:\\LAP TRINH PYTHON\\LT PTDL 1\\venv\\Lib\\site-packages\\sklearn\\cluster\\_kmeans.py:1416: FutureWarning: The default value of `n_init` will change from 10 to 'auto' in 1.4. Set the value of `n_init` explicitly to suppress the warning\n",
      "  super()._check_params_vs_input(X, default_n_init=10)\n"
     ]
    },
    {
     "data": {
      "text/html": [
       "<div>\n",
       "<style scoped>\n",
       "    .dataframe tbody tr th:only-of-type {\n",
       "        vertical-align: middle;\n",
       "    }\n",
       "\n",
       "    .dataframe tbody tr th {\n",
       "        vertical-align: top;\n",
       "    }\n",
       "\n",
       "    .dataframe thead th {\n",
       "        text-align: right;\n",
       "    }\n",
       "</style>\n",
       "<table border=\"1\" class=\"dataframe\">\n",
       "  <thead>\n",
       "    <tr style=\"text-align: right;\">\n",
       "      <th></th>\n",
       "      <th>math_score</th>\n",
       "      <th>reading_score</th>\n",
       "      <th>writing_score</th>\n",
       "    </tr>\n",
       "    <tr>\n",
       "      <th>cluster</th>\n",
       "      <th></th>\n",
       "      <th></th>\n",
       "      <th></th>\n",
       "    </tr>\n",
       "  </thead>\n",
       "  <tbody>\n",
       "    <tr>\n",
       "      <th>0</th>\n",
       "      <td>-0.812738</td>\n",
       "      <td>-0.860483</td>\n",
       "      <td>-0.878222</td>\n",
       "    </tr>\n",
       "    <tr>\n",
       "      <th>1</th>\n",
       "      <td>-0.824911</td>\n",
       "      <td>-0.886743</td>\n",
       "      <td>-0.883731</td>\n",
       "    </tr>\n",
       "    <tr>\n",
       "      <th>2</th>\n",
       "      <td>0.623133</td>\n",
       "      <td>0.649339</td>\n",
       "      <td>0.657022</td>\n",
       "    </tr>\n",
       "    <tr>\n",
       "      <th>3</th>\n",
       "      <td>0.627109</td>\n",
       "      <td>0.686191</td>\n",
       "      <td>0.690656</td>\n",
       "    </tr>\n",
       "  </tbody>\n",
       "</table>\n",
       "</div>"
      ],
      "text/plain": [
       "         math_score  reading_score  writing_score\n",
       "cluster                                          \n",
       "0         -0.812738      -0.860483      -0.878222\n",
       "1         -0.824911      -0.886743      -0.883731\n",
       "2          0.623133       0.649339       0.657022\n",
       "3          0.627109       0.686191       0.690656"
      ]
     },
     "execution_count": 124,
     "metadata": {},
     "output_type": "execute_result"
    }
   ],
   "source": [
    "kmeans = KMeans(n_clusters=4).fit(df_model)\n",
    "df_model['cluster'] = kmeans.labels_[:]\n",
    "df_model[['cluster', 'math_score', 'reading_score', 'writing_score']].groupby('cluster').mean()"
   ]
  },
  {
   "cell_type": "code",
   "execution_count": 125,
   "metadata": {},
   "outputs": [
    {
     "data": {
      "image/png": "[encoded data removed]",
      "text/plain": [
       "<Figure size 640x480 with 1 Axes>"
      ]
     },
     "metadata": {},
     "output_type": "display_data"
    }
   ],
   "source": [
    "gr_data = df_model.groupby('cluster').size()\n",
    "gr_data.plot.bar()\n",
    "plt.show()"
   ]
  },
  {
   "cell_type": "code",
   "execution_count": 128,
   "metadata": {},
   "outputs": [
    {
     "data": {
      "image/png": "[encoded data removed]",
      "text/plain": [
       "<Figure size 640x480 with 1 Axes>"
      ]
     },
     "metadata": {},
     "output_type": "display_data"
    }
   ],
   "source": [
    "gr_data_min = df_model.groupby('cluster')[['math_score', 'reading_score', 'writing_score']].min()\n",
    "gr_data_min.plot.bar()\n",
    "plt.show()"
   ]
  },
  {
   "cell_type": "code",
   "execution_count": 129,
   "metadata": {},
   "outputs": [
    {
     "data": {
      "image/png": "[encoded data removed]",
      "text/plain": [
       "<Figure size 640x480 with 1 Axes>"
      ]
     },
     "metadata": {},
     "output_type": "display_data"
    }
   ],
   "source": [
    "gr_data_mean = df_model.groupby('cluster')[['math_score', 'reading_score', 'writing_score']].mean()\n",
    "gr_data_mean.plot(kind='bar')\n",
    "plt.show()"
   ]
  },
  {
   "cell_type": "markdown",
   "metadata": {},
   "source": [
    "### 4. PCA"
   ]
  },
  {
   "cell_type": "code",
   "execution_count": 43,
   "metadata": {},
   "outputs": [
    {
     "data": {
      "text/html": [
       "<div>\n",
       "<style scoped>\n",
       "    .dataframe tbody tr th:only-of-type {\n",
       "        vertical-align: middle;\n",
       "    }\n",
       "\n",
       "    .dataframe tbody tr th {\n",
       "        vertical-align: top;\n",
       "    }\n",
       "\n",
       "    .dataframe thead th {\n",
       "        text-align: right;\n",
       "    }\n",
       "</style>\n",
       "<table border=\"1\" class=\"dataframe\">\n",
       "  <thead>\n",
       "    <tr style=\"text-align: right;\">\n",
       "      <th></th>\n",
       "      <th>A</th>\n",
       "      <th>B</th>\n",
       "      <th>C</th>\n",
       "      <th>D</th>\n",
       "      <th>E</th>\n",
       "      <th>F</th>\n",
       "    </tr>\n",
       "  </thead>\n",
       "  <tbody>\n",
       "    <tr>\n",
       "      <th>0</th>\n",
       "      <td>4.50570</td>\n",
       "      <td>3.260360</td>\n",
       "      <td>-1.249400</td>\n",
       "      <td>8.898070</td>\n",
       "      <td>8.059550</td>\n",
       "      <td>-0.842803</td>\n",
       "    </tr>\n",
       "    <tr>\n",
       "      <th>1</th>\n",
       "      <td>3.50856</td>\n",
       "      <td>1.660790</td>\n",
       "      <td>-1.856680</td>\n",
       "      <td>-2.573360</td>\n",
       "      <td>-1.373700</td>\n",
       "      <td>1.196000</td>\n",
       "    </tr>\n",
       "    <tr>\n",
       "      <th>2</th>\n",
       "      <td>4.44701</td>\n",
       "      <td>3.411940</td>\n",
       "      <td>-1.040870</td>\n",
       "      <td>10.271195</td>\n",
       "      <td>10.517256</td>\n",
       "      <td>0.272272</td>\n",
       "    </tr>\n",
       "    <tr>\n",
       "      <th>3</th>\n",
       "      <td>2.16003</td>\n",
       "      <td>3.146520</td>\n",
       "      <td>0.982809</td>\n",
       "      <td>9.024300</td>\n",
       "      <td>6.058320</td>\n",
       "      <td>-2.967420</td>\n",
       "    </tr>\n",
       "    <tr>\n",
       "      <th>4</th>\n",
       "      <td>2.35701</td>\n",
       "      <td>0.452589</td>\n",
       "      <td>-1.910680</td>\n",
       "      <td>12.984239</td>\n",
       "      <td>10.019605</td>\n",
       "      <td>-2.939020</td>\n",
       "    </tr>\n",
       "  </tbody>\n",
       "</table>\n",
       "</div>"
      ],
      "text/plain": [
       "         A         B         C          D          E         F\n",
       "0  4.50570  3.260360 -1.249400   8.898070   8.059550 -0.842803\n",
       "1  3.50856  1.660790 -1.856680  -2.573360  -1.373700  1.196000\n",
       "2  4.44701  3.411940 -1.040870  10.271195  10.517256  0.272272\n",
       "3  2.16003  3.146520  0.982809   9.024300   6.058320 -2.967420\n",
       "4  2.35701  0.452589 -1.910680  12.984239  10.019605 -2.939020"
      ]
     },
     "execution_count": 43,
     "metadata": {},
     "output_type": "execute_result"
    }
   ],
   "source": [
    "from bioinfokit.analys import get_data\n",
    "df = get_data('gexp').data\n",
    "df.head()"
   ]
  },
  {
   "cell_type": "code",
   "execution_count": 45,
   "metadata": {},
   "outputs": [
    {
     "data": {
      "text/html": [
       "<div>\n",
       "<style scoped>\n",
       "    .dataframe tbody tr th:only-of-type {\n",
       "        vertical-align: middle;\n",
       "    }\n",
       "\n",
       "    .dataframe tbody tr th {\n",
       "        vertical-align: top;\n",
       "    }\n",
       "\n",
       "    .dataframe thead th {\n",
       "        text-align: right;\n",
       "    }\n",
       "</style>\n",
       "<table border=\"1\" class=\"dataframe\">\n",
       "  <thead>\n",
       "    <tr style=\"text-align: right;\">\n",
       "      <th></th>\n",
       "      <th>A</th>\n",
       "      <th>B</th>\n",
       "      <th>C</th>\n",
       "      <th>D</th>\n",
       "      <th>E</th>\n",
       "      <th>F</th>\n",
       "    </tr>\n",
       "  </thead>\n",
       "  <tbody>\n",
       "    <tr>\n",
       "      <th>0</th>\n",
       "      <td>0.619654</td>\n",
       "      <td>0.448280</td>\n",
       "      <td>-0.240867</td>\n",
       "      <td>2.457058</td>\n",
       "      <td>2.304732</td>\n",
       "      <td>-0.331489</td>\n",
       "    </tr>\n",
       "    <tr>\n",
       "      <th>1</th>\n",
       "      <td>0.342286</td>\n",
       "      <td>-0.041499</td>\n",
       "      <td>-0.428652</td>\n",
       "      <td>-1.214732</td>\n",
       "      <td>-0.877151</td>\n",
       "      <td>0.474930</td>\n",
       "    </tr>\n",
       "    <tr>\n",
       "      <th>2</th>\n",
       "      <td>0.603329</td>\n",
       "      <td>0.494693</td>\n",
       "      <td>-0.176385</td>\n",
       "      <td>2.896569</td>\n",
       "      <td>3.133729</td>\n",
       "      <td>0.109563</td>\n",
       "    </tr>\n",
       "    <tr>\n",
       "      <th>3</th>\n",
       "      <td>-0.032825</td>\n",
       "      <td>0.413423</td>\n",
       "      <td>0.449383</td>\n",
       "      <td>2.497462</td>\n",
       "      <td>1.629707</td>\n",
       "      <td>-1.171850</td>\n",
       "    </tr>\n",
       "    <tr>\n",
       "      <th>4</th>\n",
       "      <td>0.021968</td>\n",
       "      <td>-0.411444</td>\n",
       "      <td>-0.445350</td>\n",
       "      <td>3.764964</td>\n",
       "      <td>2.965869</td>\n",
       "      <td>-1.160617</td>\n",
       "    </tr>\n",
       "  </tbody>\n",
       "</table>\n",
       "</div>"
      ],
      "text/plain": [
       "          A         B         C         D         E         F\n",
       "0  0.619654  0.448280 -0.240867  2.457058  2.304732 -0.331489\n",
       "1  0.342286 -0.041499 -0.428652 -1.214732 -0.877151  0.474930\n",
       "2  0.603329  0.494693 -0.176385  2.896569  3.133729  0.109563\n",
       "3 -0.032825  0.413423  0.449383  2.497462  1.629707 -1.171850\n",
       "4  0.021968 -0.411444 -0.445350  3.764964  2.965869 -1.160617"
      ]
     },
     "execution_count": 45,
     "metadata": {},
     "output_type": "execute_result"
    }
   ],
   "source": [
    "from sklearn.preprocessing import StandardScaler\n",
    "df_st = StandardScaler().fit_transform(df)\n",
    "pd.DataFrame(df_st, columns=df.columns).head()"
   ]
  },
  {
   "cell_type": "code",
   "execution_count": 58,
   "metadata": {},
   "outputs": [
    {
     "data": {
      "text/plain": [
       "array([0.2978742 , 0.27481252, 0.23181442, 0.19291638, 0.00144353,\n",
       "       0.00113895])"
      ]
     },
     "execution_count": 58,
     "metadata": {},
     "output_type": "execute_result"
    }
   ],
   "source": [
    "from sklearn.decomposition import PCA\n",
    "pca_out = PCA().fit(df_st)\n",
    "pca_out.explained_variance_ratio_"
   ]
  },
  {
   "cell_type": "code",
   "execution_count": 59,
   "metadata": {},
   "outputs": [
    {
     "data": {
      "text/plain": [
       "array([0.2978742 , 0.57268672, 0.80450114, 0.99741752, 0.99886105,\n",
       "       1.        ])"
      ]
     },
     "execution_count": 59,
     "metadata": {},
     "output_type": "execute_result"
    }
   ],
   "source": [
    "np.cumsum(pca_out.explained_variance_ratio_)"
   ]
  },
  {
   "cell_type": "code",
   "execution_count": 52,
   "metadata": {},
   "outputs": [
    {
     "name": "stdout",
     "output_type": "stream",
     "text": [
      "Dữ liệu gốc:  (662, 2)\n",
      "Dữ liệu sau PCA:  (662, 2)\n"
     ]
    }
   ],
   "source": [
    "from sklearn.decomposition import PCA\n",
    "\n",
    "# Khởi tạo đối tượng PCA với số comp = 2\n",
    "df_pca = PCA(n_components=2)\n",
    "\n",
    "# Fit vào data\n",
    "df_pca.fit(df)\n",
    "\n",
    "# Thực hiện transform\n",
    "df_transformed = df_pca.transform(df)\n",
    "\n",
    "# In kết quả\n",
    "print(\"Dữ liệu gốc: \", df.shape)\n",
    "print(\"Dữ liệu sau PCA: \", df_transformed.shape)"
   ]
  },
  {
   "cell_type": "code",
   "execution_count": 54,
   "metadata": {},
   "outputs": [
    {
     "data": {
      "image/png": "[encoded data removed]",
      "text/plain": [
       "<Figure size 1000x600 with 1 Axes>"
      ]
     },
     "metadata": {},
     "output_type": "display_data"
    }
   ],
   "source": [
    "# Vẽ đồ thị để biểu diễn sự trực quan hóa của dữ liệu\n",
    "plt.figure(figsize=(10, 6))\n",
    "\n",
    "# Thành phần comp số 1\n",
    "df_pca_1 = df_transformed[:, 0]\n",
    "\n",
    "# Thành phần comp số 2\n",
    "df_pca_2 = df_transformed[:, 1]\n",
    "\n",
    "# Vẽ đồ thị\n",
    "plt.scatter(df_pca_1, df_pca_2)\n",
    "\n",
    "# Đặt tên cho trục x\n",
    "plt.xlabel('PCA 1')\n",
    "\n",
    "# Đặt tên cho trục y\n",
    "plt.ylabel('PCA 2')\n",
    "\n",
    "# Đặt tiêu đề cho đồ thị\n",
    "plt.title('Biểu diễn PCA')\n",
    "\n",
    "# Hiển thị đồ thị\n",
    "plt.show()"
   ]
  }
 ],
 "metadata": {
  "kernelspec": {
   "display_name": "venv",
   "language": "python",
   "name": "python3"
  },
  "language_info": {
   "codemirror_mode": {
    "name": "ipython",
    "version": 3
   },
   "file_extension": ".py",
   "mimetype": "text/x-python",
   "name": "python",
   "nbconvert_exporter": "python",
   "pygments_lexer": "ipython3",
   "version": "3.11.5"
  }
 },
 "nbformat": 4,
 "nbformat_minor": 2
}
