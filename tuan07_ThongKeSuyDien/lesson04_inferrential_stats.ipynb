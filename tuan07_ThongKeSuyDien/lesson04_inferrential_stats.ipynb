{
 "cells": [
  {
   "cell_type": "code",
   "execution_count": 33,
   "metadata": {},
   "outputs": [
    {
     "data": {
      "text/plain": [
       "'\\nThống kê suy diễn\\n'"
      ]
     },
     "execution_count": 33,
     "metadata": {},
     "output_type": "execute_result"
    }
   ],
   "source": [
    "'''\n",
    "Thống kê suy diễn\n",
    "'''"
   ]
  },
  {
   "cell_type": "code",
   "execution_count": 34,
   "metadata": {},
   "outputs": [],
   "source": [
    "import pandas as pd\n",
    "import numpy as np\n",
    "import seaborn as sns\n",
    "import matplotlib.pyplot as plt"
   ]
  },
  {
   "cell_type": "code",
   "execution_count": 35,
   "metadata": {},
   "outputs": [],
   "source": [
    "#Đọc File dulieutuyensinh\n",
    "df = pd.read_csv('../data/dulieuxettuyendaihoc.csv',header=0,delimiter=',',encoding='utf-8')"
   ]
  },
  {
   "cell_type": "code",
   "execution_count": 36,
   "metadata": {},
   "outputs": [
    {
     "name": "stdout",
     "output_type": "stream",
     "text": [
      "<class 'pandas.core.frame.DataFrame'>\n",
      "RangeIndex: 100 entries, 0 to 99\n",
      "Data columns (total 16 columns):\n",
      " #   Column               Non-Null Count  Dtype  \n",
      "---  ------               --------------  -----  \n",
      " 0   MSSV                 100 non-null    object \n",
      " 1   T1                   100 non-null    float64\n",
      " 2   T2                   100 non-null    float64\n",
      " 3   T3                   100 non-null    float64\n",
      " 4   T4                   100 non-null    float64\n",
      " 5   T5                   100 non-null    float64\n",
      " 6   T6                   100 non-null    float64\n",
      " 7   GT                   100 non-null    object \n",
      " 8   DT                   3 non-null      float64\n",
      " 9   KV                   100 non-null    object \n",
      " 10  NGONNGU              100 non-null    float64\n",
      " 11  TOANLOGICPHANTICH    100 non-null    float64\n",
      " 12  GIAIQUYETVANDE       100 non-null    float64\n",
      " 13  KT                   100 non-null    object \n",
      " 14  NGAYTHI              100 non-null    object \n",
      " 15  DINHHUONGNGHENGHIEP  100 non-null    object \n",
      "dtypes: float64(10), object(6)\n",
      "memory usage: 12.6+ KB\n"
     ]
    }
   ],
   "source": [
    "df.info()"
   ]
  },
  {
   "cell_type": "code",
   "execution_count": 37,
   "metadata": {},
   "outputs": [
    {
     "data": {
      "text/html": [
       "<div>\n",
       "<style scoped>\n",
       "    .dataframe tbody tr th:only-of-type {\n",
       "        vertical-align: middle;\n",
       "    }\n",
       "\n",
       "    .dataframe tbody tr th {\n",
       "        vertical-align: top;\n",
       "    }\n",
       "\n",
       "    .dataframe thead th {\n",
       "        text-align: right;\n",
       "    }\n",
       "</style>\n",
       "<table border=\"1\" class=\"dataframe\">\n",
       "  <thead>\n",
       "    <tr style=\"text-align: right;\">\n",
       "      <th></th>\n",
       "      <th>MSSV</th>\n",
       "      <th>T1</th>\n",
       "      <th>T2</th>\n",
       "      <th>T3</th>\n",
       "      <th>T4</th>\n",
       "      <th>T5</th>\n",
       "      <th>T6</th>\n",
       "      <th>GT</th>\n",
       "      <th>DT</th>\n",
       "      <th>KV</th>\n",
       "      <th>NGONNGU</th>\n",
       "      <th>TOANLOGICPHANTICH</th>\n",
       "      <th>GIAIQUYETVANDE</th>\n",
       "      <th>KT</th>\n",
       "      <th>NGAYTHI</th>\n",
       "      <th>DINHHUONGNGHENGHIEP</th>\n",
       "    </tr>\n",
       "  </thead>\n",
       "  <tbody>\n",
       "    <tr>\n",
       "      <th>0</th>\n",
       "      <td>SV001</td>\n",
       "      <td>7.2</td>\n",
       "      <td>8.4</td>\n",
       "      <td>7.4</td>\n",
       "      <td>7.2</td>\n",
       "      <td>7.4</td>\n",
       "      <td>6.9</td>\n",
       "      <td>F</td>\n",
       "      <td>NaN</td>\n",
       "      <td>2NT</td>\n",
       "      <td>3.25</td>\n",
       "      <td>3.25</td>\n",
       "      <td>4.50</td>\n",
       "      <td>A1</td>\n",
       "      <td>12/7/2018</td>\n",
       "      <td>No</td>\n",
       "    </tr>\n",
       "    <tr>\n",
       "      <th>1</th>\n",
       "      <td>SV002</td>\n",
       "      <td>5.4</td>\n",
       "      <td>6.3</td>\n",
       "      <td>4.3</td>\n",
       "      <td>4.9</td>\n",
       "      <td>3.0</td>\n",
       "      <td>4.0</td>\n",
       "      <td>M</td>\n",
       "      <td>NaN</td>\n",
       "      <td>1</td>\n",
       "      <td>6.00</td>\n",
       "      <td>4.00</td>\n",
       "      <td>3.50</td>\n",
       "      <td>C</td>\n",
       "      <td>12/7/2018</td>\n",
       "      <td>Yes</td>\n",
       "    </tr>\n",
       "    <tr>\n",
       "      <th>2</th>\n",
       "      <td>SV003</td>\n",
       "      <td>5.6</td>\n",
       "      <td>5.0</td>\n",
       "      <td>2.8</td>\n",
       "      <td>6.1</td>\n",
       "      <td>4.8</td>\n",
       "      <td>5.7</td>\n",
       "      <td>M</td>\n",
       "      <td>NaN</td>\n",
       "      <td>1</td>\n",
       "      <td>5.00</td>\n",
       "      <td>6.75</td>\n",
       "      <td>4.00</td>\n",
       "      <td>C</td>\n",
       "      <td>12/7/2018</td>\n",
       "      <td>No</td>\n",
       "    </tr>\n",
       "    <tr>\n",
       "      <th>3</th>\n",
       "      <td>SV004</td>\n",
       "      <td>6.6</td>\n",
       "      <td>5.1</td>\n",
       "      <td>5.9</td>\n",
       "      <td>4.1</td>\n",
       "      <td>6.1</td>\n",
       "      <td>7.4</td>\n",
       "      <td>M</td>\n",
       "      <td>NaN</td>\n",
       "      <td>1</td>\n",
       "      <td>4.25</td>\n",
       "      <td>4.25</td>\n",
       "      <td>5.25</td>\n",
       "      <td>D1</td>\n",
       "      <td>12/7/2018</td>\n",
       "      <td>No</td>\n",
       "    </tr>\n",
       "    <tr>\n",
       "      <th>4</th>\n",
       "      <td>SV005</td>\n",
       "      <td>6.0</td>\n",
       "      <td>5.4</td>\n",
       "      <td>7.6</td>\n",
       "      <td>4.4</td>\n",
       "      <td>6.8</td>\n",
       "      <td>8.0</td>\n",
       "      <td>M</td>\n",
       "      <td>NaN</td>\n",
       "      <td>2NT</td>\n",
       "      <td>4.25</td>\n",
       "      <td>4.50</td>\n",
       "      <td>5.00</td>\n",
       "      <td>A</td>\n",
       "      <td>12/7/2018</td>\n",
       "      <td>No</td>\n",
       "    </tr>\n",
       "  </tbody>\n",
       "</table>\n",
       "</div>"
      ],
      "text/plain": [
       "    MSSV   T1   T2   T3   T4   T5   T6 GT  DT   KV  NGONNGU  \\\n",
       "0  SV001  7.2  8.4  7.4  7.2  7.4  6.9  F NaN  2NT     3.25   \n",
       "1  SV002  5.4  6.3  4.3  4.9  3.0  4.0  M NaN    1     6.00   \n",
       "2  SV003  5.6  5.0  2.8  6.1  4.8  5.7  M NaN    1     5.00   \n",
       "3  SV004  6.6  5.1  5.9  4.1  6.1  7.4  M NaN    1     4.25   \n",
       "4  SV005  6.0  5.4  7.6  4.4  6.8  8.0  M NaN  2NT     4.25   \n",
       "\n",
       "   TOANLOGICPHANTICH  GIAIQUYETVANDE  KT    NGAYTHI DINHHUONGNGHENGHIEP  \n",
       "0               3.25            4.50  A1  12/7/2018                  No  \n",
       "1               4.00            3.50   C  12/7/2018                 Yes  \n",
       "2               6.75            4.00   C  12/7/2018                  No  \n",
       "3               4.25            5.25  D1  12/7/2018                  No  \n",
       "4               4.50            5.00   A  12/7/2018                  No  "
      ]
     },
     "execution_count": 37,
     "metadata": {},
     "output_type": "execute_result"
    }
   ],
   "source": [
    "df.head(5)"
   ]
  },
  {
   "cell_type": "code",
   "execution_count": 38,
   "metadata": {},
   "outputs": [
    {
     "data": {
      "text/html": [
       "<div>\n",
       "<style scoped>\n",
       "    .dataframe tbody tr th:only-of-type {\n",
       "        vertical-align: middle;\n",
       "    }\n",
       "\n",
       "    .dataframe tbody tr th {\n",
       "        vertical-align: top;\n",
       "    }\n",
       "\n",
       "    .dataframe thead th {\n",
       "        text-align: right;\n",
       "    }\n",
       "</style>\n",
       "<table border=\"1\" class=\"dataframe\">\n",
       "  <thead>\n",
       "    <tr style=\"text-align: right;\">\n",
       "      <th></th>\n",
       "      <th>T1</th>\n",
       "      <th>T2</th>\n",
       "      <th>T3</th>\n",
       "      <th>T4</th>\n",
       "      <th>T5</th>\n",
       "      <th>T6</th>\n",
       "      <th>DT</th>\n",
       "      <th>NGONNGU</th>\n",
       "      <th>TOANLOGICPHANTICH</th>\n",
       "      <th>GIAIQUYETVANDE</th>\n",
       "    </tr>\n",
       "  </thead>\n",
       "  <tbody>\n",
       "    <tr>\n",
       "      <th>count</th>\n",
       "      <td>100.000000</td>\n",
       "      <td>100.000000</td>\n",
       "      <td>100.000000</td>\n",
       "      <td>100.000000</td>\n",
       "      <td>100.000000</td>\n",
       "      <td>100.0000</td>\n",
       "      <td>3.000000</td>\n",
       "      <td>100.000000</td>\n",
       "      <td>100.000000</td>\n",
       "      <td>100.000000</td>\n",
       "    </tr>\n",
       "    <tr>\n",
       "      <th>mean</th>\n",
       "      <td>5.946000</td>\n",
       "      <td>6.374000</td>\n",
       "      <td>6.383000</td>\n",
       "      <td>6.291000</td>\n",
       "      <td>6.717000</td>\n",
       "      <td>6.9370</td>\n",
       "      <td>2.666667</td>\n",
       "      <td>3.740000</td>\n",
       "      <td>4.255000</td>\n",
       "      <td>4.875000</td>\n",
       "    </tr>\n",
       "    <tr>\n",
       "      <th>std</th>\n",
       "      <td>1.608338</td>\n",
       "      <td>1.561443</td>\n",
       "      <td>1.574484</td>\n",
       "      <td>1.469563</td>\n",
       "      <td>1.478059</td>\n",
       "      <td>1.3632</td>\n",
       "      <td>2.886751</td>\n",
       "      <td>1.424408</td>\n",
       "      <td>1.060053</td>\n",
       "      <td>1.041136</td>\n",
       "    </tr>\n",
       "    <tr>\n",
       "      <th>min</th>\n",
       "      <td>2.400000</td>\n",
       "      <td>2.800000</td>\n",
       "      <td>2.300000</td>\n",
       "      <td>2.900000</td>\n",
       "      <td>3.000000</td>\n",
       "      <td>3.7000</td>\n",
       "      <td>1.000000</td>\n",
       "      <td>1.000000</td>\n",
       "      <td>1.500000</td>\n",
       "      <td>2.750000</td>\n",
       "    </tr>\n",
       "    <tr>\n",
       "      <th>25%</th>\n",
       "      <td>5.000000</td>\n",
       "      <td>5.300000</td>\n",
       "      <td>5.175000</td>\n",
       "      <td>5.300000</td>\n",
       "      <td>5.800000</td>\n",
       "      <td>6.0000</td>\n",
       "      <td>1.000000</td>\n",
       "      <td>2.500000</td>\n",
       "      <td>3.500000</td>\n",
       "      <td>4.250000</td>\n",
       "    </tr>\n",
       "    <tr>\n",
       "      <th>50%</th>\n",
       "      <td>5.850000</td>\n",
       "      <td>6.250000</td>\n",
       "      <td>6.650000</td>\n",
       "      <td>6.350000</td>\n",
       "      <td>6.800000</td>\n",
       "      <td>7.1000</td>\n",
       "      <td>1.000000</td>\n",
       "      <td>3.625000</td>\n",
       "      <td>4.125000</td>\n",
       "      <td>4.750000</td>\n",
       "    </tr>\n",
       "    <tr>\n",
       "      <th>75%</th>\n",
       "      <td>7.200000</td>\n",
       "      <td>7.525000</td>\n",
       "      <td>7.500000</td>\n",
       "      <td>7.600000</td>\n",
       "      <td>7.800000</td>\n",
       "      <td>8.0000</td>\n",
       "      <td>3.500000</td>\n",
       "      <td>4.750000</td>\n",
       "      <td>4.750000</td>\n",
       "      <td>5.500000</td>\n",
       "    </tr>\n",
       "    <tr>\n",
       "      <th>max</th>\n",
       "      <td>9.300000</td>\n",
       "      <td>9.600000</td>\n",
       "      <td>9.500000</td>\n",
       "      <td>9.400000</td>\n",
       "      <td>9.500000</td>\n",
       "      <td>9.5000</td>\n",
       "      <td>6.000000</td>\n",
       "      <td>7.000000</td>\n",
       "      <td>8.000000</td>\n",
       "      <td>8.000000</td>\n",
       "    </tr>\n",
       "  </tbody>\n",
       "</table>\n",
       "</div>"
      ],
      "text/plain": [
       "               T1          T2          T3          T4          T5        T6  \\\n",
       "count  100.000000  100.000000  100.000000  100.000000  100.000000  100.0000   \n",
       "mean     5.946000    6.374000    6.383000    6.291000    6.717000    6.9370   \n",
       "std      1.608338    1.561443    1.574484    1.469563    1.478059    1.3632   \n",
       "min      2.400000    2.800000    2.300000    2.900000    3.000000    3.7000   \n",
       "25%      5.000000    5.300000    5.175000    5.300000    5.800000    6.0000   \n",
       "50%      5.850000    6.250000    6.650000    6.350000    6.800000    7.1000   \n",
       "75%      7.200000    7.525000    7.500000    7.600000    7.800000    8.0000   \n",
       "max      9.300000    9.600000    9.500000    9.400000    9.500000    9.5000   \n",
       "\n",
       "             DT     NGONNGU  TOANLOGICPHANTICH  GIAIQUYETVANDE  \n",
       "count  3.000000  100.000000         100.000000      100.000000  \n",
       "mean   2.666667    3.740000           4.255000        4.875000  \n",
       "std    2.886751    1.424408           1.060053        1.041136  \n",
       "min    1.000000    1.000000           1.500000        2.750000  \n",
       "25%    1.000000    2.500000           3.500000        4.250000  \n",
       "50%    1.000000    3.625000           4.125000        4.750000  \n",
       "75%    3.500000    4.750000           4.750000        5.500000  \n",
       "max    6.000000    7.000000           8.000000        8.000000  "
      ]
     },
     "execution_count": 38,
     "metadata": {},
     "output_type": "execute_result"
    }
   ],
   "source": [
    "df.describe()"
   ]
  },
  {
   "cell_type": "code",
   "execution_count": 39,
   "metadata": {},
   "outputs": [],
   "source": [
    "#Đổi tên cột\n",
    "df = df [['T5','T6','GT','DT','KV','KT','NGONNGU','TOANLOGICPHANTICH','GIAIQUYETVANDE','NGAYTHI','DINHHUONGNGHENGHIEP']]\n",
    "df.rename(columns={'TOANLOGICPHANTICH':'LOGIC',\n",
    "                  'GIAIQUYETVANDE':'UNGXU',\n",
    "                  'DINHHUONGNGHENGHIEP':'HUONGNGHIEP'},inplace=True)"
   ]
  },
  {
   "cell_type": "code",
   "execution_count": 40,
   "metadata": {},
   "outputs": [
    {
     "data": {
      "text/html": [
       "<div>\n",
       "<style scoped>\n",
       "    .dataframe tbody tr th:only-of-type {\n",
       "        vertical-align: middle;\n",
       "    }\n",
       "\n",
       "    .dataframe tbody tr th {\n",
       "        vertical-align: top;\n",
       "    }\n",
       "\n",
       "    .dataframe thead th {\n",
       "        text-align: right;\n",
       "    }\n",
       "</style>\n",
       "<table border=\"1\" class=\"dataframe\">\n",
       "  <thead>\n",
       "    <tr style=\"text-align: right;\">\n",
       "      <th></th>\n",
       "      <th>T5</th>\n",
       "      <th>T6</th>\n",
       "      <th>GT</th>\n",
       "      <th>DT</th>\n",
       "      <th>KV</th>\n",
       "      <th>KT</th>\n",
       "      <th>NGONNGU</th>\n",
       "      <th>LOGIC</th>\n",
       "      <th>UNGXU</th>\n",
       "      <th>NGAYTHI</th>\n",
       "      <th>HUONGNGHIEP</th>\n",
       "    </tr>\n",
       "  </thead>\n",
       "  <tbody>\n",
       "    <tr>\n",
       "      <th>0</th>\n",
       "      <td>7.4</td>\n",
       "      <td>6.9</td>\n",
       "      <td>F</td>\n",
       "      <td>NaN</td>\n",
       "      <td>2NT</td>\n",
       "      <td>A1</td>\n",
       "      <td>3.25</td>\n",
       "      <td>3.25</td>\n",
       "      <td>4.50</td>\n",
       "      <td>12/7/2018</td>\n",
       "      <td>No</td>\n",
       "    </tr>\n",
       "    <tr>\n",
       "      <th>1</th>\n",
       "      <td>3.0</td>\n",
       "      <td>4.0</td>\n",
       "      <td>M</td>\n",
       "      <td>NaN</td>\n",
       "      <td>1</td>\n",
       "      <td>C</td>\n",
       "      <td>6.00</td>\n",
       "      <td>4.00</td>\n",
       "      <td>3.50</td>\n",
       "      <td>12/7/2018</td>\n",
       "      <td>Yes</td>\n",
       "    </tr>\n",
       "    <tr>\n",
       "      <th>2</th>\n",
       "      <td>4.8</td>\n",
       "      <td>5.7</td>\n",
       "      <td>M</td>\n",
       "      <td>NaN</td>\n",
       "      <td>1</td>\n",
       "      <td>C</td>\n",
       "      <td>5.00</td>\n",
       "      <td>6.75</td>\n",
       "      <td>4.00</td>\n",
       "      <td>12/7/2018</td>\n",
       "      <td>No</td>\n",
       "    </tr>\n",
       "    <tr>\n",
       "      <th>3</th>\n",
       "      <td>6.1</td>\n",
       "      <td>7.4</td>\n",
       "      <td>M</td>\n",
       "      <td>NaN</td>\n",
       "      <td>1</td>\n",
       "      <td>D1</td>\n",
       "      <td>4.25</td>\n",
       "      <td>4.25</td>\n",
       "      <td>5.25</td>\n",
       "      <td>12/7/2018</td>\n",
       "      <td>No</td>\n",
       "    </tr>\n",
       "    <tr>\n",
       "      <th>4</th>\n",
       "      <td>6.8</td>\n",
       "      <td>8.0</td>\n",
       "      <td>M</td>\n",
       "      <td>NaN</td>\n",
       "      <td>2NT</td>\n",
       "      <td>A</td>\n",
       "      <td>4.25</td>\n",
       "      <td>4.50</td>\n",
       "      <td>5.00</td>\n",
       "      <td>12/7/2018</td>\n",
       "      <td>No</td>\n",
       "    </tr>\n",
       "  </tbody>\n",
       "</table>\n",
       "</div>"
      ],
      "text/plain": [
       "    T5   T6 GT  DT   KV  KT  NGONNGU  LOGIC  UNGXU    NGAYTHI HUONGNGHIEP\n",
       "0  7.4  6.9  F NaN  2NT  A1     3.25   3.25   4.50  12/7/2018          No\n",
       "1  3.0  4.0  M NaN    1   C     6.00   4.00   3.50  12/7/2018         Yes\n",
       "2  4.8  5.7  M NaN    1   C     5.00   6.75   4.00  12/7/2018          No\n",
       "3  6.1  7.4  M NaN    1  D1     4.25   4.25   5.25  12/7/2018          No\n",
       "4  6.8  8.0  M NaN  2NT   A     4.25   4.50   5.00  12/7/2018          No"
      ]
     },
     "execution_count": 40,
     "metadata": {},
     "output_type": "execute_result"
    }
   ],
   "source": [
    "df.head(5)"
   ]
  },
  {
   "cell_type": "code",
   "execution_count": 41,
   "metadata": {},
   "outputs": [
    {
     "data": {
      "text/plain": [
       "'\\nPhân tích suy diễn (inferrential statistics)\\nLý do tại sao cần suy diễn: Kết luận dựa trên dữ liệu sample (mẫu) nhưng kết luận thì được hiểu là áp dụng cho tổng thể\\nCâu hỏi đặt ra: Kết luận trên mẫu đó có phù hợp với tổng thể hay không\\n\\nKhi phân tích suy diễn cần lưu ý:\\n1. Xác định giả thuyết H0\\n2. Các giả định hay các điều kiện về dữ liệu và môi trường để áp dụng kiểm điểm \\n- Lưu ý về giả định phân phối của biến số: normal, student, poison, chi-square...\\n3. Thiết lập mức tin cậy và sai lầm (alpha): 90% - 10%, 95% - 5% và 99% - 1%\\n4. Quy tắc suy diễn: \\n4.1 Nếu p-value < alpha => reject H0\\n4.2 Nếu p-value > alpha => accecpt H0\\n5. Kết luận của suy diễn chỉ cho chúng ta biết là có đủ dữ kiện để kết luận cho tổng thể hay không\\n (còn gọi là ý nghĩa thống kê)\\n'"
      ]
     },
     "execution_count": 41,
     "metadata": {},
     "output_type": "execute_result"
    }
   ],
   "source": [
    "'''\n",
    "Phân tích suy diễn (inferrential statistics)\n",
    "Lý do tại sao cần suy diễn: Kết luận dựa trên dữ liệu sample (mẫu) nhưng kết luận thì được hiểu là áp dụng cho tổng thể\n",
    "Câu hỏi đặt ra: Kết luận trên mẫu đó có phù hợp với tổng thể hay không\n",
    "\n",
    "Khi phân tích suy diễn cần lưu ý:\n",
    "1. Xác định giả thuyết H0\n",
    "2. Các giả định hay các điều kiện về dữ liệu và môi trường để áp dụng kiểm điểm \n",
    "- Lưu ý về giả định phân phối của biến số: normal, student, poison, chi-square...\n",
    "3. Thiết lập mức tin cậy và sai lầm (alpha): 90% - 10%, 95% - 5% và 99% - 1%\n",
    "4. Quy tắc suy diễn: \n",
    "4.1 Nếu p-value < alpha => reject H0\n",
    "4.2 Nếu p-value > alpha => accecpt H0\n",
    "5. Kết luận của suy diễn chỉ cho chúng ta biết là có đủ dữ kiện để kết luận cho tổng thể hay không\n",
    " (còn gọi là ý nghĩa thống kê)\n",
    "'''"
   ]
  },
  {
   "cell_type": "code",
   "execution_count": 42,
   "metadata": {},
   "outputs": [
    {
     "data": {
      "text/plain": [
       "'\\nONE SAMPLE T-TEST\\nMục đích: Kiểm định trung bình của 1 biến số (định lượng) co bằng một giá trị\\nn < 30\\n\\n'"
      ]
     },
     "execution_count": 42,
     "metadata": {},
     "output_type": "execute_result"
    }
   ],
   "source": [
    "'''\n",
    "ONE SAMPLE T-TEST\n",
    "Mục đích: Kiểm định trung bình của 1 biến số (định lượng) co bằng một giá trị\n",
    "n < 30\n",
    "\n",
    "'''\n",
    "# H0: mean = X"
   ]
  },
  {
   "cell_type": "code",
   "execution_count": 43,
   "metadata": {},
   "outputs": [],
   "source": [
    "#Là phần mềm nguồn mở miễn phí của Python cho toán học, khoa học và kỹ thuật . Thư viện SciPy được xây dựng dựa trên thư viện NumPy, cung cấp thao tác mảng N chiều thuận tiện và nhanh chóng. SciPy gồm các gói con (submodule) cho đại số tuyến tính, tối ưu hóa, tích hợp và thống kê. NumPy và SciPy rất dễ sử dụng, mạnh mẽ và được nhiều nhà khoa học và kỹ sư hàng đầu thế giới lựa chọn. \n",
    "\n",
    "#SciPy là thư viện cơ sở. Nó được xây dựng trên phần mở rộng NumPy. Không cần nhập NumPy nếu bạn đã nhập SciPy. SciPy tương thích với đối tượng mảng N chiều của NumPy. SciPy bao gồm mã c\n",
    "# ho hoạt động của các hàm NumPy. SciPy và NumPy cùng là sự lựa chọn tốt nhất cho các hoạt động khoa học.\n",
    "#stats:Các hàm và phân phối thống kê\n",
    "import scipy.stats as stats"
   ]
  },
  {
   "cell_type": "code",
   "execution_count": 44,
   "metadata": {},
   "outputs": [
    {
     "data": {
      "text/plain": [
       "1     4.00\n",
       "2     6.75\n",
       "6     6.75\n",
       "22    3.50\n",
       "23    5.25\n",
       "24    2.25\n",
       "25    2.00\n",
       "26    4.50\n",
       "27    5.00\n",
       "95    1.50\n",
       "96    3.75\n",
       "97    8.00\n",
       "98    3.50\n",
       "99    2.50\n",
       "Name: LOGIC, dtype: float64"
      ]
     },
     "execution_count": 44,
     "metadata": {},
     "output_type": "execute_result"
    }
   ],
   "source": [
    "# câu 1: Hãy kiểm ta xem LOGIC thí sinh khối C có bằng 4.0\n",
    "dfKhoiC = df.loc[df['KT'] == 'C']\n",
    "dfKhoiC['LOGIC']"
   ]
  },
  {
   "cell_type": "code",
   "execution_count": 45,
   "metadata": {},
   "outputs": [
    {
     "data": {
      "text/plain": [
       "TtestResult(statistic=0.44599723713991907, pvalue=0.6629370899710998, df=13)"
      ]
     },
     "execution_count": 45,
     "metadata": {},
     "output_type": "execute_result"
    }
   ],
   "source": [
    "# Với one sample T-test thì giả thiết G0: muy = 4.0\n",
    "# Mặc định mức tin cậy là 95% và mức sai lầm là 5%\n",
    "stats.ttest_1samp(dfKhoiC['LOGIC'],popmean=4.0)\n"
   ]
  },
  {
   "cell_type": "code",
   "execution_count": 46,
   "metadata": {},
   "outputs": [
    {
     "data": {
      "text/plain": [
       "'\\n# Kết luận:\\n# Do alpha = 0.05 và p-value = 0.66...\\n# Suy ra đủ dữ liệu để nói rằng trung bình môn thi LOGIC bằng 4.0\\n# hay nói cách khác là chấp nhận H0 ở mức sai lầm 5%\\n'"
      ]
     },
     "execution_count": 46,
     "metadata": {},
     "output_type": "execute_result"
    }
   ],
   "source": [
    "#4. Quy tắc suy diễn: \n",
    "#4.1 Nếu p-value < alpha => reject H0\n",
    "#4.2 Nếu p-value > alpha => accecpt H0\n",
    "#5. Kết luận của suy diễn chỉ cho chúng ta biết là có đủ dữ kiện để kết luận cho tổng thể hay không (còn gọi là ý nghĩa thống kê)\n",
    "'''\n",
    "# Kết luận:\n",
    "# Do alpha = 0.05 và p-value = 0.66...\n",
    "# Suy ra đủ dữ liệu để nói rằng trung bình môn thi LOGIC bằng 4.0\n",
    "# hay nói cách khác là chấp nhận H0 ở mức sai lầm 5%\n",
    "'''"
   ]
  },
  {
   "cell_type": "code",
   "execution_count": 47,
   "metadata": {},
   "outputs": [
    {
     "data": {
      "text/plain": [
       "TtestResult(statistic=-0.7645471693105148, pvalue=0.4581953822944209, df=13)"
      ]
     },
     "execution_count": 47,
     "metadata": {},
     "output_type": "execute_result"
    }
   ],
   "source": [
    "# Điểm trung bình có môn thi UNGXU của khối thi C có bằng 5.0 hay không\n",
    "\n",
    "\n",
    "stats.ttest_1samp(dfKhoiC['UNGXU'],popmean=5)\n",
    "\n",
    "# KẾt luận : \n",
    "# do anpha = 0.05 và p-value =0.4581953822944209\n",
    "# Suy ra đủ dữ liệu để nói rằng trung bình môn thi UNGXU = 5.0\n",
    "# hay nói cách khác là châp nhận G0 ở mức sai lầmm 5%"
   ]
  },
  {
   "cell_type": "code",
   "execution_count": 48,
   "metadata": {},
   "outputs": [],
   "source": [
    "# Tự nghiên cứu cách thiết lập mức tin cậy hoặc sai lầm trong đoạn code trên"
   ]
  },
  {
   "cell_type": "code",
   "execution_count": 49,
   "metadata": {},
   "outputs": [
    {
     "data": {
      "text/plain": [
       "1     6.00\n",
       "2     5.00\n",
       "6     6.50\n",
       "22    5.00\n",
       "23    6.75\n",
       "24    7.00\n",
       "25    4.75\n",
       "26    5.25\n",
       "27    5.25\n",
       "95    5.25\n",
       "96    5.25\n",
       "97    7.00\n",
       "98    5.00\n",
       "99    5.25\n",
       "Name: NGONNGU, dtype: float64"
      ]
     },
     "execution_count": 49,
     "metadata": {},
     "output_type": "execute_result"
    }
   ],
   "source": [
    "# Bài tập tương tự: HÃy kiểm tra xem có phải điểm NGONNGU của thí sinh thi khối C\n",
    "# là 5.5 hay không với mức sai lầm là 10%\n",
    "\n",
    "\n",
    "dfKhoiC = df.loc[df['KT'] == 'C']\n",
    "dfKhoiC['NGONNGU']"
   ]
  },
  {
   "cell_type": "code",
   "execution_count": 50,
   "metadata": {},
   "outputs": [
    {
     "data": {
      "text/plain": [
       "TtestResult(statistic=0.7403728818402906, pvalue=0.47223461312805337, df=13)"
      ]
     },
     "execution_count": 50,
     "metadata": {},
     "output_type": "execute_result"
    }
   ],
   "source": [
    "# Với one sample T-test thì giả thiết G0: muy = 5.5\n",
    "# Mặc định mức tin cậy là 90% và mức sai lầm là 10%\n",
    "stats.ttest_1samp(dfKhoiC['NGONNGU'],popmean=5.5)\n",
    "#statistic = 7403 cho chúng ta biết mức sai lệch của trung bình mẫu từ giả thuyết."
   ]
  },
  {
   "cell_type": "code",
   "execution_count": 51,
   "metadata": {},
   "outputs": [
    {
     "data": {
      "text/plain": [
       "TtestResult(statistic=-11.468207539657708, pvalue=3.5923185367668785e-08, df=13)"
      ]
     },
     "execution_count": 51,
     "metadata": {},
     "output_type": "execute_result"
    }
   ],
   "source": [
    "# Điểm trung bình có môn thi UNGXU của khối thi C có bằng 7.5 hay không, mức tin cậy 95%\n",
    "\n",
    "stats.ttest_1samp(dfKhoiC['UNGXU'],popmean=7.5)\n"
   ]
  },
  {
   "cell_type": "code",
   "execution_count": 52,
   "metadata": {},
   "outputs": [],
   "source": [
    "#KẾt luận : \n",
    "# do anpha = 0.05 và p-value =3.5923185367668785e-08 (P-VALUE>ANPHA)\n",
    "# Suy ra đủ dữ liệu để nói rằng trung bình môn thi ngonngu = 5.5\n",
    "# hay nói cách khác là châp nhận G0 ở mức sai lầmm 10%\n",
    "#Nếu p-value < alpha => reject H0\n",
    "# Nếu p-value > alpha => accecpt H0\n",
    "#Do p-value=0.47 >alpha -->Chấp nhận H0 nghĩa là trung bình môn thi NGONNGU=5.5\n",
    "\n"
   ]
  },
  {
   "cell_type": "code",
   "execution_count": 53,
   "metadata": {},
   "outputs": [],
   "source": [
    "# TWO SAMPLE T-TEST\n",
    "# Mục đích: Kiểm tra xem trung bình của 2 biến số (định lượng)có bằng nhau không\n",
    "\n",
    "#The sample size < 30 : \n",
    "#H0 :delta_mean = 0"
   ]
  },
  {
   "cell_type": "code",
   "execution_count": 54,
   "metadata": {},
   "outputs": [
    {
     "data": {
      "text/plain": [
       "TtestResult(statistic=-1.0329196014245297, pvalue=0.3111543826061086, df=26.0)"
      ]
     },
     "execution_count": 54,
     "metadata": {},
     "output_type": "execute_result"
    }
   ],
   "source": [
    "# Câu 2: Kiểm tra xem trung bình điểm thi LOGIC và trung bình điểm thi UNGXU của thí sinh thi khối C có bằng nhau không,ĐỘ TIN CẬY LÀ 95%\n",
    "# H0: mean_LOGIC - mean_UNGXU = 0\n",
    "dfKhoiC = df.loc[df['KT'] == 'C']\n",
    "stats.ttest_ind(dfKhoiC['LOGIC'],dfKhoiC['UNGXU'],equal_var=True)"
   ]
  },
  {
   "cell_type": "code",
   "execution_count": 55,
   "metadata": {},
   "outputs": [],
   "source": [
    "# Kết luận: Do alpha = 0.05 và p-value = 0.3111543826061086\n",
    "# Suy ra đủ dữ liệu để nói rằng trung bình LOGIC bằng trung bình UNGXU hay nói cách khác là chấp nhận H0 ở mức sai lầm 5%"
   ]
  },
  {
   "cell_type": "code",
   "execution_count": 56,
   "metadata": {},
   "outputs": [
    {
     "data": {
      "text/plain": [
       "TtestResult(statistic=-2.6321295849540447, pvalue=0.014085909192033959, df=26.0)"
      ]
     },
     "execution_count": 56,
     "metadata": {},
     "output_type": "execute_result"
    }
   ],
   "source": [
    "# Kiểm tra xem trung bình ĐIỂM UNGXU có bằng trung bình NGONNGU cho thí sinh thi khối C hay không với mức tin cậy 99%\n",
    "\n",
    "dfKhoiC1 = df.loc[df['KT'] == 'C']\n",
    "stats.ttest_ind(dfKhoiC1['UNGXU'],dfKhoiC1['NGONNGU'],equal_var=True)"
   ]
  },
  {
   "cell_type": "code",
   "execution_count": 57,
   "metadata": {},
   "outputs": [],
   "source": [
    "# Kết luận: Do alpha = 0.01 và p-value = 0.014\n",
    "# Suy ra đủ dữ liệu để nói rằng trung bình UNGXU bằng trung bình NGONNGU hay nói cách khác là chấp nhận H0 ở mức sai lầm 99%"
   ]
  },
  {
   "cell_type": "code",
   "execution_count": 58,
   "metadata": {},
   "outputs": [],
   "source": [
    "# ONE SAMPLE Z-TEST\n",
    "# Mục đích: kiểm định trung bình của một biến số (định lượng)\n",
    "# H0L mean = x\n",
    "# n > 30 DÙNG Z TEST, N LÀ SỐ MẪU"
   ]
  },
  {
   "cell_type": "code",
   "execution_count": 59,
   "metadata": {},
   "outputs": [],
   "source": [
    "from statsmodels.stats.weightstats import ztest as ztest\n",
    "#PIP INSTALL STATSMODELS"
   ]
  },
  {
   "cell_type": "code",
   "execution_count": 60,
   "metadata": {},
   "outputs": [
    {
     "data": {
      "text/plain": [
       "(-7.797828845339864, 6.298135014120743e-15)"
      ]
     },
     "execution_count": 60,
     "metadata": {},
     "output_type": "execute_result"
    }
   ],
   "source": [
    "# Hãy kiểm tra xem trung bình điểm toán học kì 2 lớp 12 có bằng 8.0\n",
    "#Kiểm định Z (tiếng Anh: Z-Test) là một hình thức kiểm định thống kê được sử dụng để xác định xem hai giá trị trung bình tổng thể có khác nhau hay không khi biết các phương sai và kích thước mẫu lớn.1\n",
    "#Z-Test là một kiểm định thống kê được dùng để xác định xem liệu hai số bình quân của hai tổng thể có khác nhau khi biết phương sai và kích thước mẫu đủ lớn. Để kiểm định này được thực hiện một cách chính xác, giả định đưa ra là có phân phối chuẩn và những sai số như độ lệch chuẩn là đo đạc được.\n",
    "#Nó chỉ được sử dụng khi có độ lệch chuẩn đã biết và cỡ mẫu lớn (n>30).\n",
    "ztest(df['T6'],value=8.0)"
   ]
  },
  {
   "cell_type": "code",
   "execution_count": 61,
   "metadata": {},
   "outputs": [],
   "source": [
    "# Kết luận: điểm trung bình không bằng 8 VÌ P-VALUE=6.298135014120743e-15<0"
   ]
  },
  {
   "cell_type": "code",
   "execution_count": 62,
   "metadata": {},
   "outputs": [],
   "source": [
    "# TWO SAMPLE Z-TEST\n",
    "# Tương tự n > 30\n",
    "# H0: u1 = u2 both population means are equal"
   ]
  },
  {
   "cell_type": "code",
   "execution_count": 63,
   "metadata": {},
   "outputs": [
    {
     "data": {
      "text/plain": [
       "(-1.094138573502891, 0.273894207026412)"
      ]
     },
     "execution_count": 63,
     "metadata": {},
     "output_type": "execute_result"
    }
   ],
   "source": [
    "# Câu 4: Hãy kiểm tra xem điểm trung bình toán học kì 1 và học kì 2 năm lớp 12 có bằng nhau không\n",
    "ztest(df['T5'],df['T6'],value=0)"
   ]
  },
  {
   "cell_type": "code",
   "execution_count": 64,
   "metadata": {},
   "outputs": [],
   "source": [
    "# Đủ dữ kiện kết luận trung bình 2 học kì có bằng nhau"
   ]
  },
  {
   "cell_type": "code",
   "execution_count": 65,
   "metadata": {},
   "outputs": [
    {
     "data": {
      "text/plain": [
       "(-4.172765180703833, 3.009250404643791e-05)"
      ]
     },
     "execution_count": 65,
     "metadata": {},
     "output_type": "execute_result"
    }
   ],
   "source": [
    "# Tương tự kiểm tra trung bình LOGIC và UNGXU có bằng nhau không\n",
    "ztest(df['LOGIC'],df['UNGXU'],value=0)\n",
    "# Nhỏ hơn => bác bỏ"
   ]
  },
  {
   "cell_type": "code",
   "execution_count": 66,
   "metadata": {},
   "outputs": [
    {
     "data": {
      "text/plain": [
       "(2.9004757923795, 0.0037259661678783573)"
      ]
     },
     "execution_count": 66,
     "metadata": {},
     "output_type": "execute_result"
    }
   ],
   "source": [
    "# Tương tự kiểm tra trung bình LOGIC và NGONNGU có bằng nhau không với mức tin cậy 95%\n",
    "ztest(df['LOGIC'],df['NGONNGU'],value=0)\n",
    "#P-VALUE =0.0037259661678783573>0 CHẤP NHẬN GIẢ THIẾT"
   ]
  },
  {
   "cell_type": "code",
   "execution_count": 67,
   "metadata": {},
   "outputs": [
    {
     "data": {
      "text/plain": [
       "(-6.432991757573295, 1.2511643846506845e-10)"
      ]
     },
     "execution_count": 67,
     "metadata": {},
     "output_type": "execute_result"
    }
   ],
   "source": [
    "ztest(df['NGONNGU'],df['UNGXU'],value=0)\n",
    "#BÁC BỎ VÌ P-VALUE =1.2511643846506845e-10<0"
   ]
  },
  {
   "cell_type": "code",
   "execution_count": 68,
   "metadata": {},
   "outputs": [
    {
     "name": "stderr",
     "output_type": "stream",
     "text": [
      "C:\\Users\\Lan Anh\\AppData\\Local\\Temp\\ipykernel_404\\242169006.py:5: DeprecationWarning: Please use `pearsonr` from the `scipy.stats` namespace, the `scipy.stats.stats` namespace is deprecated.\n",
      "  from scipy.stats.stats import pearsonr\n"
     ]
    }
   ],
   "source": [
    "'''\n",
    "# Kiểm định tương quan giữa 2 biến định lượng\n",
    "# H0: r = 0\n",
    "'''\n",
    "from scipy.stats.stats import pearsonr"
   ]
  },
  {
   "cell_type": "code",
   "execution_count": 69,
   "metadata": {},
   "outputs": [
    {
     "data": {
      "text/plain": [
       "PearsonRResult(statistic=0.7786831657869808, pvalue=1.4846407216274206e-21)"
      ]
     },
     "execution_count": 69,
     "metadata": {},
     "output_type": "execute_result"
    }
   ],
   "source": [
    "# Câu 5: Kiểm tra xem điểm toán hk1 và hk2 năm lớp 12 có tương quan không\n",
    "pearsonr(df['T5'],df['T6'])\n",
    "# Bác bỏ H0: r= 0 do pvalue < 5% => r =! 0 => 2 biến không tương quan (pvalue thì tương quan trên tổng thể, và k cho biết tương quan thuận hay nghịch )\n",
    "# statistic là gtri tương quan trên mẫu, nhìn lên sẽ biết tương quan mạnh hay YẾU"
   ]
  },
  {
   "cell_type": "code",
   "execution_count": 70,
   "metadata": {},
   "outputs": [
    {
     "data": {
      "text/plain": [
       "'\\nKết luận trên mẫu: tương quan thuận, mức độ tương quan rất cao: r = 0.7786831657869809\\nSuy diễn trên tổng thể: Đủ dữ liệu để nói rằng T5 và T6 có tương quan với nhau với mức sai lầm là 5%\\nVới p-value = 1.4846407216273482e\\n'"
      ]
     },
     "execution_count": 70,
     "metadata": {},
     "output_type": "execute_result"
    }
   ],
   "source": [
    "# Kết luận: đủ dữ liệu để nói rằng T5 và T6 có tương quan với nhau với mức sai lầm là 5%\n",
    "'''\n",
    "Kết luận trên mẫu: tương quan thuận, mức độ tương quan rất cao: r = 0.7786831657869809\n",
    "Suy diễn trên tổng thể: Đủ dữ liệu để nói rằng T5 và T6 có tương quan với nhau với mức sai lầm là 5%\n",
    "Với p-value = 1.4846407216273482e\n",
    "'''"
   ]
  },
  {
   "cell_type": "code",
   "execution_count": 71,
   "metadata": {},
   "outputs": [
    {
     "data": {
      "text/plain": [
       "'\\nĐịnh lượng:\\none sample t-test và one sample z-test => biến định lượng (H0; muy = alpha)\\ntwo sample t-test và two sample z-test => kiểm tra 2 biến định lượng có bằng nhau không (H0: denta muy = 0)\\n\\nkiểm định Pearson kiểm tra xem 2 biến định lượng có tương quan không (H0: n=0)\\n'"
      ]
     },
     "execution_count": 71,
     "metadata": {},
     "output_type": "execute_result"
    }
   ],
   "source": [
    "'''\n",
    "Định tính: Fisher (<30)\n",
    "Chi square (>30)\n",
    "Cả 2 H0: độc lập \n",
    "'''\n",
    "\n",
    "'''\n",
    "Định lượng:\n",
    "one sample t-test và one sample z-test => biến định lượng (H0; muy = alpha)\n",
    "two sample t-test và two sample z-test => kiểm tra 2 biến định lượng có bằng nhau không (H0: denta muy = 0)\n",
    "\n",
    "kiểm định Pearson kiểm tra xem 2 biến định lượng có tương quan không (H0: n=0)\n",
    "'''"
   ]
  },
  {
   "cell_type": "code",
   "execution_count": 72,
   "metadata": {},
   "outputs": [
    {
     "data": {
      "text/plain": [
       "PearsonRResult(statistic=0.1846466122601273, pvalue=0.06590059130545516)"
      ]
     },
     "execution_count": 72,
     "metadata": {},
     "output_type": "execute_result"
    }
   ],
   "source": [
    "# Sinh viên làm tương tự cho T5 và LOGIC có tương quan hay không\n",
    "pearsonr(df['T5'],df['LOGIC'])\n",
    "# statis: quá thấp, còn pvalue > 0.05 nên chấp nhận H0: r=0 => trên tổng thể không tương quan"
   ]
  },
  {
   "cell_type": "code",
   "execution_count": 73,
   "metadata": {},
   "outputs": [],
   "source": [
    "# Fisher Test\n",
    "# Mục đích: Kiểm tra sự độc lập của 2 biến định tính dạng nhị phân 2x2\n",
    "# Ho: Không có sự khác biệt giữa 2 biến định tính\n",
    "import scipy.stats as stats"
   ]
  },
  {
   "cell_type": "code",
   "execution_count": 74,
   "metadata": {},
   "outputs": [
    {
     "data": {
      "text/html": [
       "<div>\n",
       "<style scoped>\n",
       "    .dataframe tbody tr th:only-of-type {\n",
       "        vertical-align: middle;\n",
       "    }\n",
       "\n",
       "    .dataframe tbody tr th {\n",
       "        vertical-align: top;\n",
       "    }\n",
       "\n",
       "    .dataframe thead th {\n",
       "        text-align: right;\n",
       "    }\n",
       "</style>\n",
       "<table border=\"1\" class=\"dataframe\">\n",
       "  <thead>\n",
       "    <tr style=\"text-align: right;\">\n",
       "      <th>HUONGNGHIEP</th>\n",
       "      <th>No</th>\n",
       "      <th>Yes</th>\n",
       "    </tr>\n",
       "    <tr>\n",
       "      <th>GT</th>\n",
       "      <th></th>\n",
       "      <th></th>\n",
       "    </tr>\n",
       "  </thead>\n",
       "  <tbody>\n",
       "    <tr>\n",
       "      <th>F</th>\n",
       "      <td>23</td>\n",
       "      <td>25</td>\n",
       "    </tr>\n",
       "    <tr>\n",
       "      <th>M</th>\n",
       "      <td>32</td>\n",
       "      <td>20</td>\n",
       "    </tr>\n",
       "  </tbody>\n",
       "</table>\n",
       "</div>"
      ],
      "text/plain": [
       "HUONGNGHIEP  No  Yes\n",
       "GT                  \n",
       "F            23   25\n",
       "M            32   20"
      ]
     },
     "execution_count": 74,
     "metadata": {},
     "output_type": "execute_result"
    }
   ],
   "source": [
    "# Hãy kiểm tra xem có sự phụ thuộc nào giữa việc sinh viên có định hướng nghề nghiệp và giới tính \n",
    "# khi thí sinh đăng ký dự thi hay không\n",
    "crosdata = pd.crosstab(df['GT'],[df['HUONGNGHIEP']],rownames=['GT'],colnames=['HUONGNGHIEP'])\n",
    "crosdata"
   ]
  },
  {
   "cell_type": "code",
   "execution_count": 75,
   "metadata": {},
   "outputs": [
    {
     "name": "stdout",
     "output_type": "stream",
     "text": [
      "odd ratio is: 0.575\n",
      "p_value is: 0.22763927303454412\n"
     ]
    }
   ],
   "source": [
    "odd_ratio, p_value = stats.fisher_exact(crosdata)\n",
    "print('odd ratio is: ' + str(odd_ratio))\n",
    "print('p_value is: ' + str(p_value))"
   ]
  },
  {
   "cell_type": "code",
   "execution_count": 76,
   "metadata": {},
   "outputs": [],
   "source": [
    "# Kết luận: Chấp nhận Ho vì p_value = 0.22763 > alpha = 0.05\n",
    "# Tức là, đủ dữ liệu để nói rằng giới tính và việc định hướng nghề nghiệp là không có quan hệ gì cả ở mức sai lầm 5%"
   ]
  },
  {
   "cell_type": "code",
   "execution_count": 77,
   "metadata": {},
   "outputs": [],
   "source": [
    "# Chi-Square Test\n",
    "# Mục đích: Kiểm tra sự độc lập của 2 biến định tính\n",
    "# Ho: Không có sự khác biệt giữa 2 biến định tính\n",
    "from scipy.stats import chi2_contingency"
   ]
  },
  {
   "cell_type": "code",
   "execution_count": 78,
   "metadata": {},
   "outputs": [
    {
     "data": {
      "text/html": [
       "<div>\n",
       "<style scoped>\n",
       "    .dataframe tbody tr th:only-of-type {\n",
       "        vertical-align: middle;\n",
       "    }\n",
       "\n",
       "    .dataframe tbody tr th {\n",
       "        vertical-align: top;\n",
       "    }\n",
       "\n",
       "    .dataframe thead th {\n",
       "        text-align: right;\n",
       "    }\n",
       "</style>\n",
       "<table border=\"1\" class=\"dataframe\">\n",
       "  <thead>\n",
       "    <tr style=\"text-align: right;\">\n",
       "      <th>KT</th>\n",
       "      <th>A</th>\n",
       "      <th>A1</th>\n",
       "      <th>B</th>\n",
       "      <th>C</th>\n",
       "      <th>D1</th>\n",
       "    </tr>\n",
       "    <tr>\n",
       "      <th>KV</th>\n",
       "      <th></th>\n",
       "      <th></th>\n",
       "      <th></th>\n",
       "      <th></th>\n",
       "      <th></th>\n",
       "    </tr>\n",
       "  </thead>\n",
       "  <tbody>\n",
       "    <tr>\n",
       "      <th>1</th>\n",
       "      <td>29</td>\n",
       "      <td>2</td>\n",
       "      <td>8</td>\n",
       "      <td>8</td>\n",
       "      <td>13</td>\n",
       "    </tr>\n",
       "    <tr>\n",
       "      <th>2</th>\n",
       "      <td>9</td>\n",
       "      <td>0</td>\n",
       "      <td>0</td>\n",
       "      <td>2</td>\n",
       "      <td>8</td>\n",
       "    </tr>\n",
       "    <tr>\n",
       "      <th>2NT</th>\n",
       "      <td>11</td>\n",
       "      <td>4</td>\n",
       "      <td>1</td>\n",
       "      <td>4</td>\n",
       "      <td>1</td>\n",
       "    </tr>\n",
       "  </tbody>\n",
       "</table>\n",
       "</div>"
      ],
      "text/plain": [
       "KT    A  A1  B  C  D1\n",
       "KV                   \n",
       "1    29   2  8  8  13\n",
       "2     9   0  0  2   8\n",
       "2NT  11   4  1  4   1"
      ]
     },
     "execution_count": 78,
     "metadata": {},
     "output_type": "execute_result"
    }
   ],
   "source": [
    "# Hãy kiểm tra xem có sự phụ thuôc nào giữa khối thi và khu vực thi đăng ký dự thi hay không\n",
    "crosdata = pd.crosstab(df['KV'],[df['KT']],rownames=['KV'],colnames=['KT'])\n",
    "crosdata"
   ]
  },
  {
   "cell_type": "code",
   "execution_count": 79,
   "metadata": {},
   "outputs": [
    {
     "name": "stdout",
     "output_type": "stream",
     "text": [
      "p value is 0.02012461887796485\n",
      "Dependent (Reject H0)\n"
     ]
    }
   ],
   "source": [
    "stat, p, dof, excepted = chi2_contingency(crosdata)\n",
    "\n",
    "# interpret p-value\n",
    "alpha = 0.05\n",
    "print(\"p value is \" + str(p))\n",
    "if p <= alpha:\n",
    "    print ('Dependent (Reject H0)')\n",
    "else:\n",
    "    print ('Independent (H0 holds true)')\n",
    "# Có quan hệ giữa khối thi và khu vực thi đăng ký dự thi\n",
    "# Kết luận: p-value = 0.02 < alpha = 0.05\n",
    "# Tức là: không đủ dữ liệu để nói rằng KV và KT là độc lập hay có sự quan hệ giữa KT và KV"
   ]
  },
  {
   "cell_type": "code",
   "execution_count": 80,
   "metadata": {},
   "outputs": [
    {
     "data": {
      "text/html": [
       "<div>\n",
       "<style scoped>\n",
       "    .dataframe tbody tr th:only-of-type {\n",
       "        vertical-align: middle;\n",
       "    }\n",
       "\n",
       "    .dataframe tbody tr th {\n",
       "        vertical-align: top;\n",
       "    }\n",
       "\n",
       "    .dataframe thead th {\n",
       "        text-align: right;\n",
       "    }\n",
       "</style>\n",
       "<table border=\"1\" class=\"dataframe\">\n",
       "  <thead>\n",
       "    <tr style=\"text-align: right;\">\n",
       "      <th>KT</th>\n",
       "      <th>A</th>\n",
       "      <th>A1</th>\n",
       "      <th>B</th>\n",
       "      <th>C</th>\n",
       "      <th>D1</th>\n",
       "    </tr>\n",
       "    <tr>\n",
       "      <th>GT</th>\n",
       "      <th></th>\n",
       "      <th></th>\n",
       "      <th></th>\n",
       "      <th></th>\n",
       "      <th></th>\n",
       "    </tr>\n",
       "  </thead>\n",
       "  <tbody>\n",
       "    <tr>\n",
       "      <th>F</th>\n",
       "      <td>15</td>\n",
       "      <td>5</td>\n",
       "      <td>4</td>\n",
       "      <td>8</td>\n",
       "      <td>16</td>\n",
       "    </tr>\n",
       "    <tr>\n",
       "      <th>M</th>\n",
       "      <td>34</td>\n",
       "      <td>1</td>\n",
       "      <td>5</td>\n",
       "      <td>6</td>\n",
       "      <td>6</td>\n",
       "    </tr>\n",
       "  </tbody>\n",
       "</table>\n",
       "</div>"
      ],
      "text/plain": [
       "KT   A  A1  B  C  D1\n",
       "GT                  \n",
       "F   15   5  4  8  16\n",
       "M   34   1  5  6   6"
      ]
     },
     "execution_count": 80,
     "metadata": {},
     "output_type": "execute_result"
    }
   ],
   "source": [
    "# GT và KT có mối quan hệ hay không\n",
    "crosdata = pd.crosstab(df['GT'],[df['KT']],rownames=['GT'],colnames=['KT'])\n",
    "crosdata"
   ]
  },
  {
   "cell_type": "code",
   "execution_count": 81,
   "metadata": {},
   "outputs": [
    {
     "name": "stdout",
     "output_type": "stream",
     "text": [
      "p value is 0.005044752209452435\n",
      "Dependent (Reject H0) => có quan hệ với nhau\n"
     ]
    }
   ],
   "source": [
    "stat, p, dof, excepted = chi2_contingency(crosdata)\n",
    "\n",
    "# interpret p-value\n",
    "alpha = 0.05\n",
    "print(\"p value is \" + str(p))\n",
    "if p <= alpha:\n",
    "    print ('Dependent (Reject H0) => có quan hệ với nhau')\n",
    "else:\n",
    "    print ('Independent (H0 holds true) => Độc lập với nhau')"
   ]
  },
  {
   "cell_type": "code",
   "execution_count": 82,
   "metadata": {},
   "outputs": [],
   "source": [
    "# ONE WAY ANOVA\n",
    "# Kiểm định ANOVA ONE WAY\n",
    "# Yêu cầu:\n",
    "# 1. Biến định lượng trên nhóm định tính\n",
    "# 2. Các biến định lượng trên từng nhóm theo phân phối chuẩn\n",
    "# 3. H0: Giá trị trung bình dữ liệu định lượng trên từng nhóm định tính là bằng nhau"
   ]
  },
  {
   "cell_type": "code",
   "execution_count": 83,
   "metadata": {},
   "outputs": [],
   "source": [
    "# Điểm toán học kì 2 lớp 12 có phụ thuộc vào giới tính hay không\n",
    "import statsmodels.api as sm \n",
    "from statsmodels.formula.api import ols\n",
    "\n"
   ]
  },
  {
   "cell_type": "code",
   "execution_count": 84,
   "metadata": {},
   "outputs": [
    {
     "data": {
      "text/html": [
       "<div>\n",
       "<style scoped>\n",
       "    .dataframe tbody tr th:only-of-type {\n",
       "        vertical-align: middle;\n",
       "    }\n",
       "\n",
       "    .dataframe tbody tr th {\n",
       "        vertical-align: top;\n",
       "    }\n",
       "\n",
       "    .dataframe thead th {\n",
       "        text-align: right;\n",
       "    }\n",
       "</style>\n",
       "<table border=\"1\" class=\"dataframe\">\n",
       "  <thead>\n",
       "    <tr style=\"text-align: right;\">\n",
       "      <th></th>\n",
       "      <th>df</th>\n",
       "      <th>sum_sq</th>\n",
       "      <th>mean_sq</th>\n",
       "      <th>F</th>\n",
       "      <th>PR(&gt;F)</th>\n",
       "    </tr>\n",
       "  </thead>\n",
       "  <tbody>\n",
       "    <tr>\n",
       "      <th>GT</th>\n",
       "      <td>1.0</td>\n",
       "      <td>1.55201</td>\n",
       "      <td>1.55201</td>\n",
       "      <td>0.833769</td>\n",
       "      <td>0.363426</td>\n",
       "    </tr>\n",
       "    <tr>\n",
       "      <th>Residual</th>\n",
       "      <td>98.0</td>\n",
       "      <td>182.42109</td>\n",
       "      <td>1.86144</td>\n",
       "      <td>NaN</td>\n",
       "      <td>NaN</td>\n",
       "    </tr>\n",
       "  </tbody>\n",
       "</table>\n",
       "</div>"
      ],
      "text/plain": [
       "            df     sum_sq  mean_sq         F    PR(>F)\n",
       "GT         1.0    1.55201  1.55201  0.833769  0.363426\n",
       "Residual  98.0  182.42109  1.86144       NaN       NaN"
      ]
     },
     "execution_count": 84,
     "metadata": {},
     "output_type": "execute_result"
    }
   ],
   "source": [
    "model = ols('T6 ~ GT', data=df).fit()\n",
    "aov_table = sm.stats.anova_lm(model,typ = 1)\n",
    "aov_table"
   ]
  },
  {
   "cell_type": "code",
   "execution_count": 85,
   "metadata": {},
   "outputs": [
    {
     "data": {
      "text/plain": [
       "'\\nTrả lời:\\n    H0: mean (nhóm GT) bằng nhau\\n    p-value = 0.363426 > 0.05 => chấp thuận\\n    Không phụ thuộc\\n'"
      ]
     },
     "execution_count": 85,
     "metadata": {},
     "output_type": "execute_result"
    }
   ],
   "source": [
    "'''\n",
    "Trả lời:\n",
    "    H0: mean (nhóm GT) bằng nhau\n",
    "    p-value = 0.363426 > 0.05 => chấp thuận\n",
    "    Không phụ thuộc\n",
    "'''"
   ]
  },
  {
   "cell_type": "code",
   "execution_count": 86,
   "metadata": {},
   "outputs": [
    {
     "data": {
      "text/html": [
       "<div>\n",
       "<style scoped>\n",
       "    .dataframe tbody tr th:only-of-type {\n",
       "        vertical-align: middle;\n",
       "    }\n",
       "\n",
       "    .dataframe tbody tr th {\n",
       "        vertical-align: top;\n",
       "    }\n",
       "\n",
       "    .dataframe thead th {\n",
       "        text-align: right;\n",
       "    }\n",
       "</style>\n",
       "<table border=\"1\" class=\"dataframe\">\n",
       "  <thead>\n",
       "    <tr style=\"text-align: right;\">\n",
       "      <th></th>\n",
       "      <th>df</th>\n",
       "      <th>sum_sq</th>\n",
       "      <th>mean_sq</th>\n",
       "      <th>F</th>\n",
       "      <th>PR(&gt;F)</th>\n",
       "    </tr>\n",
       "  </thead>\n",
       "  <tbody>\n",
       "    <tr>\n",
       "      <th>KV</th>\n",
       "      <td>2.0</td>\n",
       "      <td>6.053398</td>\n",
       "      <td>3.026699</td>\n",
       "      <td>2.790934</td>\n",
       "      <td>0.066299</td>\n",
       "    </tr>\n",
       "    <tr>\n",
       "      <th>Residual</th>\n",
       "      <td>97.0</td>\n",
       "      <td>105.194102</td>\n",
       "      <td>1.084475</td>\n",
       "      <td>NaN</td>\n",
       "      <td>NaN</td>\n",
       "    </tr>\n",
       "  </tbody>\n",
       "</table>\n",
       "</div>"
      ],
      "text/plain": [
       "            df      sum_sq   mean_sq         F    PR(>F)\n",
       "KV         2.0    6.053398  3.026699  2.790934  0.066299\n",
       "Residual  97.0  105.194102  1.084475       NaN       NaN"
      ]
     },
     "execution_count": 86,
     "metadata": {},
     "output_type": "execute_result"
    }
   ],
   "source": [
    "# Điểm LOGIC có phụ thuộc vào KV hay không\n",
    "model = ols('LOGIC ~ KV', data=df).fit()\n",
    "aov_table = sm.stats.anova_lm(model,typ = 1)\n",
    "aov_table\n",
    "# Ko phụ thuộc"
   ]
  },
  {
   "cell_type": "code",
   "execution_count": 87,
   "metadata": {},
   "outputs": [
    {
     "data": {
      "text/html": [
       "<div>\n",
       "<style scoped>\n",
       "    .dataframe tbody tr th:only-of-type {\n",
       "        vertical-align: middle;\n",
       "    }\n",
       "\n",
       "    .dataframe tbody tr th {\n",
       "        vertical-align: top;\n",
       "    }\n",
       "\n",
       "    .dataframe thead th {\n",
       "        text-align: right;\n",
       "    }\n",
       "</style>\n",
       "<table border=\"1\" class=\"dataframe\">\n",
       "  <thead>\n",
       "    <tr style=\"text-align: right;\">\n",
       "      <th></th>\n",
       "      <th>df</th>\n",
       "      <th>sum_sq</th>\n",
       "      <th>mean_sq</th>\n",
       "      <th>F</th>\n",
       "      <th>PR(&gt;F)</th>\n",
       "    </tr>\n",
       "  </thead>\n",
       "  <tbody>\n",
       "    <tr>\n",
       "      <th>KT</th>\n",
       "      <td>4.0</td>\n",
       "      <td>3.967636</td>\n",
       "      <td>0.991909</td>\n",
       "      <td>0.911814</td>\n",
       "      <td>0.46041</td>\n",
       "    </tr>\n",
       "    <tr>\n",
       "      <th>Residual</th>\n",
       "      <td>95.0</td>\n",
       "      <td>103.344864</td>\n",
       "      <td>1.087841</td>\n",
       "      <td>NaN</td>\n",
       "      <td>NaN</td>\n",
       "    </tr>\n",
       "  </tbody>\n",
       "</table>\n",
       "</div>"
      ],
      "text/plain": [
       "            df      sum_sq   mean_sq         F   PR(>F)\n",
       "KT         4.0    3.967636  0.991909  0.911814  0.46041\n",
       "Residual  95.0  103.344864  1.087841       NaN      NaN"
      ]
     },
     "execution_count": 87,
     "metadata": {},
     "output_type": "execute_result"
    }
   ],
   "source": [
    "# Điểm UNGXU có phụ thuộc khối thi hay không\n",
    "model = ols('UNGXU ~ KT', data=df).fit()\n",
    "aov_table = sm.stats.anova_lm(model,typ = 1)\n",
    "aov_table\n",
    "# p_value = 0.46041 => chấp nhận => không phụ thuộc"
   ]
  },
  {
   "cell_type": "code",
   "execution_count": 88,
   "metadata": {},
   "outputs": [
    {
     "data": {
      "text/plain": [
       "'\\nTwo way anova \\n# Kiểm định ANOVA two WAY\\n# Yêu cầu:\\n# 1. Biến định lượng trên nhóm định tính\\n# 2. Các biến định lượng trên từng nhóm theo phân phối chuẩn\\n# 3. H0: Trung bình các cột dữ liệu bằng nhau\\n'"
      ]
     },
     "execution_count": 88,
     "metadata": {},
     "output_type": "execute_result"
    }
   ],
   "source": [
    "'''\n",
    "Two way anova \n",
    "# Kiểm định ANOVA two WAY\n",
    "# Yêu cầu:\n",
    "# 1. Biến định lượng trên nhóm định tính\n",
    "# 2. Các biến định lượng trên từng nhóm theo phân phối chuẩn\n",
    "# 3. H0: Trung bình các cột dữ liệu bằng nhau\n",
    "'''"
   ]
  },
  {
   "cell_type": "code",
   "execution_count": 89,
   "metadata": {},
   "outputs": [
    {
     "name": "stdout",
     "output_type": "stream",
     "text": [
      "            df     sum_sq   mean_sq         F    PR(>F)\n",
      "GT         1.0   3.998401  3.998401  3.853364  0.052602\n",
      "KV         2.0   8.561314  4.280657  4.125382  0.019173\n",
      "GT:KV      2.0   1.149707  0.574854  0.554002  0.576510\n",
      "Residual  94.0  97.538077  1.037639       NaN       NaN\n"
     ]
    },
    {
     "data": {
      "text/plain": [
       "'\\nKết luận khác \\np-value = 0.052602 -> LOGIC độc lập theo nhóm GT\\np-value = 0.0.019173 -> LOGIC phụ thuộc theo nhóm KV\\np-value = 0.576510 -> LOGIC độc lập theo nhóm GT trên từng loại KV\\n'"
      ]
     },
     "execution_count": 89,
     "metadata": {},
     "output_type": "execute_result"
    }
   ],
   "source": [
    "# Hãy cho biết điểm LOGIC có phụ thuộc vào loại GT trên từng nhóm KV hay không\n",
    "# Performing two-way anova\n",
    "model = ols('LOGIC ~ GT + KV + GT:KV', data=df).fit()\n",
    "result = sm.stats.anova_lm(model,type = 2)\n",
    "\n",
    "# Print the result\n",
    "print(result)\n",
    "# Chấp nhận Ho=> k phụ thuộc (p-value = 0.052602)\n",
    "# Bác bỏ H0 => phụ thuộc (pvalue = 0.019173)\n",
    "# GT:KV bác bỏ -> k phụ thuộc -> tuy nhiên điểm LOGIC trên từng nhóm GT xét theo từng KV nữa thì nó độc lập với nhau\n",
    "\n",
    "'''\n",
    "Kết luận khác \n",
    "p-value = 0.052602 -> LOGIC độc lập theo nhóm GT\n",
    "p-value = 0.0.019173 -> LOGIC phụ thuộc theo nhóm KV\n",
    "p-value = 0.576510 -> LOGIC độc lập theo nhóm GT trên từng loại KV\n",
    "'''"
   ]
  },
  {
   "cell_type": "code",
   "execution_count": 90,
   "metadata": {},
   "outputs": [
    {
     "name": "stdout",
     "output_type": "stream",
     "text": [
      "            df      sum_sq    mean_sq          F        PR(>F)\n",
      "KV         2.0    4.237274   2.118637   1.416009  2.482173e-01\n",
      "KT         4.0   65.431143  16.357786  10.932867  3.150065e-07\n",
      "KV:KT      8.0    1.486487   0.185811   0.124188  9.981082e-01\n",
      "Residual  87.0  130.169640   1.496203        NaN           NaN\n"
     ]
    },
    {
     "data": {
      "text/plain": [
       "'\\nKết luận  \\nTất cả đều phụ thuộc\\n'"
      ]
     },
     "execution_count": 90,
     "metadata": {},
     "output_type": "execute_result"
    }
   ],
   "source": [
    "\n",
    "# Phân tích xem NGONNGU có phụ thuộc theo nhóm KV trên từng nhóm KT hay không\n",
    "from statsmodels.formula.api import ols\n",
    "model = ols('NGONNGU ~ KV + KT + KV:KT', data=df).fit()\n",
    "result = sm.stats.anova_lm(model,type = 2)\n",
    "print(result)\n",
    "'''\n",
    "Kết luận  \n",
    "Tất cả đều phụ thuộc\n",
    "'''"
   ]
  }
 ],
 "metadata": {
  "kernelspec": {
   "display_name": "Python 3 (ipykernel)",
   "language": "python",
   "name": "python3"
  },
  "language_info": {
   "codemirror_mode": {
    "name": "ipython",
    "version": 3
   },
   "file_extension": ".py",
   "mimetype": "text/x-python",
   "name": "python",
   "nbconvert_exporter": "python",
   "pygments_lexer": "ipython3",
   "version": "3.11.5"
  },
  "vscode": {
   "interpreter": {
    "hash": "450ef096434a7d8684ccd2242c4c47a7631ba683c56099beb9d2c07d7bf36da2"
   }
  }
 },
 "nbformat": 4,
 "nbformat_minor": 2
}
