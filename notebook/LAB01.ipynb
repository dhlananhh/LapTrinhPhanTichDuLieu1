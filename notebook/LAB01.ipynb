{
 "cells": [
  {
   "cell_type": "markdown",
   "metadata": {},
   "source": [
    "# BÀI TẬP THỰC HÀNH TUẦN 1 - PHẦN 1"
   ]
  },
  {
   "cell_type": "markdown",
   "metadata": {},
   "source": [
    "### Bài 1: Viết các lệnh xuất các biến"
   ]
  },
  {
   "cell_type": "code",
   "execution_count": 1,
   "metadata": {},
   "outputs": [
    {
     "name": "stdout",
     "output_type": "stream",
     "text": [
      "Hello\n",
      "World\n",
      "Python programming \n",
      " for Data Analysis\n",
      "Giá trị biến a là: Hello\n",
      "Giá trị biến a là: Hello\n"
     ]
    }
   ],
   "source": [
    "# Kiểu dữ liệu số\n",
    "x = 10 #Python hiểu đây là số nguyên\n",
    "y = 10.5 #Python hiểu đây là số thực\n",
    "z = 5 #Python hiểu đây là số nguyên\n",
    "t = x + z #Python hiểu t là số nguyên\n",
    "t = x + y #Python hiểu t là số thực\n",
    "\n",
    "# Kết luận\n",
    "# số nguyên (+,-,*,/) số nguyên = số nguyên\n",
    "# số nguyên (+,-,*,/) số thực = số thực\n",
    "# số thực (+,-,*,/) số thực = số thực\n",
    "\n",
    "# Kiểu thực\n",
    "a = 1.4\n",
    "a = 31.4e-10\n",
    "# Kiểu số phức: a +(-)ib\n",
    "z = 2 + 7j\n",
    "# Kiểu số dạng bát phân (8), thập lục phân (16) hoặc nhị phân (2)\n",
    "x = 0b100100\n",
    "y = 0xf400\n",
    "# True và False\n",
    "u = True # u -> 1\n",
    "v = False # v -> 0\n",
    "# Kiểu dữ liệu chuỗi\n",
    "a = \"Hello\" # Python hiểu a là kiểu chuỗi\n",
    "print(a)\n",
    "b = 'World' # Python hiểu b là kiểu chuỗi\n",
    "print(b)\n",
    "# Sử dụng \\n để xuống dòng\n",
    "print(\"Python programming \\n for Data Analysis\")\n",
    "# Sử dụng f để hiện thị giá trị\n",
    "print(f'Giá trị biến a là: {a}')\n",
    "print(\"Giá trị biến a là:\",a)"
   ]
  },
  {
   "cell_type": "markdown",
   "metadata": {},
   "source": [
    "### Bài 2: Các kiểu dữ liệu List, Tuple"
   ]
  },
  {
   "cell_type": "code",
   "execution_count": 2,
   "metadata": {},
   "outputs": [
    {
     "name": "stdout",
     "output_type": "stream",
     "text": [
      "blue\n",
      "yellow\n",
      "['blue', 5.5, 'yellow']\n",
      "5.5\n",
      "[100, 'blue', 5.5]\n",
      "6\n",
      "6\n",
      "(2+4j)\n",
      "(2+4j)\n"
     ]
    }
   ],
   "source": [
    "# Kiểu dữ liệu danh sách: LIST\n",
    "# Đây kiểu dữ liệu có khả năng chứa nhiều phần tử khác nhau\n",
    "# kể cả khác kiểu dữ liệu\n",
    "listA = ['red',100,'blue',5.5,\"yellow\",2+4j]\n",
    "# Có đánh chỉ chỉ số dương lẫn âm\n",
    "# listA đánh chỉ số dương: 0,1,2,3,4,5\n",
    "# listA đánh chỉ số âm: -6,-5,-4,-3,-2,-1\n",
    "print(listA[2])\n",
    "print(listA[-2])\n",
    "# Kết quả trả về của việc lấy theo một dãy các\n",
    "# phần tử theo chỉ sô\n",
    "# trong danh sách cũng là danh sách\n",
    "# --> Cái này cũng được gọi là kỹ thuật SLICE\n",
    "subListA = listA[2:5]\n",
    "print(subListA)\n",
    "print(subListA[1])\n",
    "print(listA[1:-2])\n",
    "# Đếm số lượng phần tử của danh sách\n",
    "soluongpt = len(listA)\n",
    "print(soluongpt)\n",
    "print(len(listA))\n",
    "# Lấy phần tử cuối cùng trong list\n",
    "print(listA[-1]) # Lấy theo chỉ số âm\n",
    "print(listA[soluongpt-1]) # Lấy theo chỉ số dương"
   ]
  },
  {
   "cell_type": "markdown",
   "metadata": {},
   "source": [
    "### Bài 3: Các cấu trúc điều khiển"
   ]
  },
  {
   "cell_type": "markdown",
   "metadata": {},
   "source": [
    "#### 1. Viết chương trình giải phương trình bậc 1 ax + b = 0, trong đó, a, b là các số thưc được nhập từ bàn phím"
   ]
  },
  {
   "cell_type": "code",
   "execution_count": 3,
   "metadata": {},
   "outputs": [
    {
     "name": "stdout",
     "output_type": "stream",
     "text": [
      "Nghiệm của phương trình là:  -0.5\n"
     ]
    }
   ],
   "source": [
    "a = float(input(\"Nhập a: \"))\n",
    "b = float(input(\"Nhập b: \"))\n",
    "\n",
    "if a > 0 or a < 0:\n",
    "    x = -b/a\n",
    "    print(\"Nghiệm của phương trình là: \", x)\n",
    "else:\n",
    "    if b == 0:\n",
    "        print(\"Phương trình có vô số nghiệm\")\n",
    "    else:\n",
    "        print(\"Phương trình vô nghiệm\")"
   ]
  },
  {
   "cell_type": "markdown",
   "metadata": {},
   "source": [
    "#### 2. Tính tổng s = 0 + 1 + ... + n, trong đó n là số tự nhiên nhập từ bàn phím. Yêu cầu viết bằng for…range, while."
   ]
  },
  {
   "cell_type": "code",
   "execution_count": 4,
   "metadata": {},
   "outputs": [
    {
     "name": "stdout",
     "output_type": "stream",
     "text": [
      "Tổng các số từ 1 đến 10 là 55\n",
      "Tổng các số từ 1 đến 10 là 55\n"
     ]
    }
   ],
   "source": [
    "\n",
    "# Dùng for\n",
    "n = int(input(\"Nhập n: \"))\n",
    "s = 0\n",
    "for i in range(n+1):\n",
    "    s += i\n",
    "print(\"Tổng các số từ 1 đến\", n, \"là\", s)\n",
    "\n",
    "\n",
    "# Dùng while\n",
    "n = int(input(\"Nhập n: \"))\n",
    "i = 0\n",
    "s = 0\n",
    "\n",
    "while i <= n:\n",
    "    s += i\n",
    "    i += 1\n",
    "print(\"Tổng các số từ 1 đến\", n, \"là\", s)\n"
   ]
  },
  {
   "cell_type": "markdown",
   "metadata": {},
   "source": [
    "#### 3. Dùng for...in:"
   ]
  },
  {
   "cell_type": "markdown",
   "metadata": {},
   "source": [
    "##### a) Liệt kê danh sách các ký tự có trong 1 từ, với từ được nhập vào từ bàn phím"
   ]
  },
  {
   "cell_type": "code",
   "execution_count": 5,
   "metadata": {},
   "outputs": [
    {
     "name": "stdout",
     "output_type": "stream",
     "text": [
      "DS các ký tự có trong từ vừa nhập là:  dhlan\n"
     ]
    }
   ],
   "source": [
    "# Liệt kê danh sách các ký tự có trong 1 từ, với từ được nhập vào từ bàn phím\n",
    "# Ví dụ: Nhập vào từ \"Hello\", kết quả là: H, e, l, o\n",
    "\n",
    "def non_duplicate_characters (str):\n",
    "    result = \"\"\n",
    "    for char in str:\n",
    "        if char not in result:\n",
    "            result += char\n",
    "    return result        \n",
    "    \n",
    "str = input(\"Nhập vào một chuỗi: \")\n",
    "print(\"DS các ký tự có trong từ vừa nhập là: \", non_duplicate_characters(str))\n"
   ]
  },
  {
   "cell_type": "markdown",
   "metadata": {},
   "source": [
    "##### b) Liệt kê danh sách các giá trị có trong 1 danh sách, với danh sách được nhập vào từ bàn phím."
   ]
  },
  {
   "cell_type": "code",
   "execution_count": 6,
   "metadata": {},
   "outputs": [
    {
     "name": "stdout",
     "output_type": "stream",
     "text": [
      "[]\n"
     ]
    }
   ],
   "source": [
    "# Liệt kê danh sách các giá trị có trong 1 danh sách, với danh sách được nhập vào từ bàn phím.\n",
    "\n",
    "try:\n",
    "    list = []\n",
    "    while True:\n",
    "        list.append(int(input()))\n",
    "except:\n",
    "    print(list)"
   ]
  },
  {
   "cell_type": "markdown",
   "metadata": {},
   "source": [
    "##### c) In ra màn hình các số chẵn của 1 mảng được nhập vào từ bàn phím."
   ]
  },
  {
   "cell_type": "code",
   "execution_count": 7,
   "metadata": {},
   "outputs": [],
   "source": [
    "# In ra màn hình các số chẵn của 1 mảng được nhập vào từ bàn phím.\n",
    "list = []\n",
    "\n",
    "try:\n",
    "    while True:\n",
    "        list.append(int(input()))\n",
    "except:\n",
    "    for num in list:\n",
    "        if num % 2 == 0:\n",
    "            print(num, end = \" \")"
   ]
  },
  {
   "cell_type": "markdown",
   "metadata": {},
   "source": [
    "##### d) Nhập vào một chuỗi ký tự, nhập ký tự cần tìm. In ra ký tự đó xuất hiện bao nhiêu lần tại vị trí nào và cho biết chiều dài chuỗi ký tự nhập vào."
   ]
  },
  {
   "cell_type": "code",
   "execution_count": 8,
   "metadata": {},
   "outputs": [
    {
     "name": "stdout",
     "output_type": "stream",
     "text": [
      "Chiều dài chuỗi ký tự nhập vào là:  1\n",
      "Ký tự  xuất hiện 2 lần tại vị trí "
     ]
    }
   ],
   "source": [
    "# Nhập vào một chuỗi ký tự, nhập ký tự cần tìm. In ra ký tự đó xuất hiện bao nhiêu lần tại vị trí nào và cho biết chiều dài chuỗi ký tự nhập vào.\n",
    "# Ví dụ: Chuỗi ký tự nhập vào là: “Hello world”, ký tự cần tìm là “o”.\n",
    "# Ký tự “o” xuất hiện 2 lần tại vị trí 4 và 7.\n",
    "\n",
    "s = input(\"Nhập vào một chuỗi ký tự: \")\n",
    "k = input(\"Nhập ký tự cần tìm: \")\n",
    "print(\"Chiều dài chuỗi ký tự nhập vào là: \", len(s))\n",
    "print(\"Ký tự\", k, \"xuất hiện\", s.count(k), \"lần tại vị trí\", end=\" \")\n",
    "for i in range(len(s)):\n",
    "    if s[i] == k:\n",
    "        print(i, end=\" \")\n",
    "    "
   ]
  },
  {
   "cell_type": "markdown",
   "metadata": {},
   "source": [
    "#### 4. Viết chương trình tính tiền điện hàng tháng của một hộ gia đình. Người sử dụng sẽ nhập số kWh từ bàn phím (là một số nguyên). Tiền điện được tính như sau: Nếu số KhW nhỏ hơn bằng 100 thì đơn giá là 2000 VNĐ. Nếu số KWh vượt 100, thì đơn giá cho mỗi KWh sẽ được cộng dồn thêm 100 VNĐ\n",
    "#### Ví dụ:\n",
    "##### - Số Kwh = 90 thì tổng tiền = 180000 = 90 * 2000\n",
    "##### - Số KWh = 101 thì tổng tiền = 202100 = 100 * 2000 + (2000 + 100)\n",
    "##### - Số Kwh = 102 thì tổng tiền = 204300 = 100*2000 + (2000+100) + (2000+100+100)"
   ]
  },
  {
   "cell_type": "code",
   "execution_count": 9,
   "metadata": {},
   "outputs": [
    {
     "name": "stdout",
     "output_type": "stream",
     "text": [
      "Tổng tiền là:  2721500\n"
     ]
    }
   ],
   "source": [
    "soKwh = int(input(\"Nhập số Kwh: \"))\n",
    "tongTien = 0\n",
    "\n",
    "if soKwh <= 100:\n",
    "    tongTien = soKwh + 2000\n",
    "else:\n",
    "    tongTien = 100 * 2000\n",
    "    for i in range(1, soKwh-100+1):\n",
    "        tongTien = tongTien + (2000 + 100 * i)\n",
    "\n",
    "print(\"Tổng tiền là: \", tongTien)"
   ]
  },
  {
   "cell_type": "markdown",
   "metadata": {},
   "source": [
    "#### 5. Viết hàm tính giá trị bình phương của một số. Sau đó, gọi hàm"
   ]
  },
  {
   "cell_type": "code",
   "execution_count": 10,
   "metadata": {},
   "outputs": [
    {
     "name": "stdout",
     "output_type": "stream",
     "text": [
      "Bình phương của  4  là:  16\n"
     ]
    }
   ],
   "source": [
    "# Viết hàm tính giá trị bình phương của một số. Sau đó, gọi hàm\n",
    "\n",
    "def square (num):\n",
    "    return num ** 2\n",
    "\n",
    "x = int(input(\"Nhập giá trị x: \"))\n",
    "print(\"Bình phương của \", x, \" là: \", square(x))"
   ]
  },
  {
   "cell_type": "markdown",
   "metadata": {},
   "source": [
    "#### 6. Viết hàm tính các phép tính số học (+,-,*,/) của hai số được nhập vào từ bàn phím."
   ]
  },
  {
   "cell_type": "code",
   "execution_count": 15,
   "metadata": {},
   "outputs": [
    {
     "name": "stdout",
     "output_type": "stream",
     "text": [
      "Tổng:  70.0\n",
      "Hiệu:  30.0\n",
      "Tích:  1000.0\n",
      "Thương:  2.5\n"
     ]
    }
   ],
   "source": [
    "# Viết hàm tính các phép tính số học (+,-,*,/) của hai số được nhập vào từ bàn phím.\n",
    "\n",
    "def cong (a, b):\n",
    "    return a + b\n",
    "\n",
    "def tru (a, b):\n",
    "    return a - b\n",
    "\n",
    "def nhan (a, b):\n",
    "    return a * b\n",
    "\n",
    "def chia (a, b):\n",
    "    return a / b\n",
    "\n",
    "a = float(input(\"Nhập a: \"))\n",
    "b = float(input(\"Nhập a: \"))\n",
    "\n",
    "print(\"Tổng: \", cong(a, b))\n",
    "print(\"Hiệu: \", tru(a, b))\n",
    "print(\"Tích: \", nhan(a, b))\n",
    "print(\"Thương: \", chia(a, b))"
   ]
  },
  {
   "cell_type": "markdown",
   "metadata": {},
   "source": [
    "#### 7. Hãy nhập một số tự nhiên từ bàn phím sau đó, xuất màn hình thông báo số đó có phải là số nguyên tố hay không"
   ]
  },
  {
   "cell_type": "code",
   "execution_count": 12,
   "metadata": {},
   "outputs": [
    {
     "name": "stdout",
     "output_type": "stream",
     "text": [
      "True\n"
     ]
    }
   ],
   "source": [
    "def isPrime (n):\n",
    "    if (n < 0):\n",
    "        return False\n",
    "    elif (n == 0):\n",
    "        return False\n",
    "    elif (n == 1):\n",
    "        return False\n",
    "    elif (n == 2):\n",
    "        return True\n",
    "    else:\n",
    "        for i in range(2, n):\n",
    "            if (n % i == 0):\n",
    "                return False\n",
    "        return True\n",
    "    \n",
    "x = int(input(\"Nhập giá trị x: \"))\n",
    "print(isPrime(x))\n"
   ]
  },
  {
   "cell_type": "markdown",
   "metadata": {},
   "source": [
    "#### 8. Hãy nhập từ bàn phím số tự nhiên n và xuất ra màn hình:\n",
    "#### 1) Các số nguyên tố nhỏ hơn n\n",
    "#### 2) Xuất ra tổng các số nguyên tố nhỏ hơn n"
   ]
  },
  {
   "cell_type": "code",
   "execution_count": 13,
   "metadata": {},
   "outputs": [
    {
     "name": "stdout",
     "output_type": "stream",
     "text": [
      "1. Các số nguyên tố nhỏ hơn n:  [2, 3, 5, 7, 11]\n",
      "2. Tổng các số nguyên tố nhỏ hơn n:  28\n"
     ]
    }
   ],
   "source": [
    "def isPrime (n):\n",
    "    if (n < 0):\n",
    "        return False\n",
    "    elif (n == 0):\n",
    "        return False\n",
    "    elif (n == 1):\n",
    "        return False\n",
    "    elif (n == 2):\n",
    "        return True\n",
    "    else:\n",
    "        for i in range(2, n):\n",
    "            if (n % i == 0):\n",
    "                return False\n",
    "        return True\n",
    "    \n",
    "arr = []\n",
    "n = int(input(\"Nhập n: \"))\n",
    "sum = 0\n",
    "i = 0\n",
    "\n",
    "for i in range(n):\n",
    "    if (isPrime(i) == True):\n",
    "        sum += i\n",
    "        arr.append(i)\n",
    "\n",
    "print(\"1. Các số nguyên tố nhỏ hơn n: \", arr)\n",
    "print(\"2. Tổng các số nguyên tố nhỏ hơn n: \", sum)"
   ]
  },
  {
   "cell_type": "markdown",
   "metadata": {},
   "source": [
    "#### 9. Hãy viết chương trình đọc file in.txt và hiển thị ra màn hình nội dung từng dòng trong file đó"
   ]
  },
  {
   "cell_type": "code",
   "execution_count": null,
   "metadata": {},
   "outputs": [],
   "source": [
    "# Hãy viết chương trình đọc file in.txt và hiển thị ra màn hình nội dung từng dòng trong file đó\n",
    "file = open('../data/in.txt')\n",
    "flines = file.readlines()\n",
    "\n",
    "for line in flines:\n",
    "    print(line)\n",
    "file.close()"
   ]
  },
  {
   "cell_type": "markdown",
   "metadata": {},
   "source": [
    "#### 10. Hãy viết chương trình xuất ra file out.txt các số chẵn nhỏ số n được nhập từ bàn phím. Biết rằng mỗi dòng thì lưu 1 số"
   ]
  },
  {
   "cell_type": "code",
   "execution_count": null,
   "metadata": {},
   "outputs": [],
   "source": [
    "# Hãy viết chương trình xuất ra file out.txt các số chẵn nhỏ số n được nhập từ bàn phím. Biết rằng mỗi dòng thì lưu 1 số\n",
    "# Input: 10\n",
    "# Output: 2 4 6 8 10\n",
    "\n",
    "import os\n",
    "import sys\n",
    "\n",
    "__file__ = \"../data/out.txt\"\n",
    "_currentDir = os.path.dirname(os.path.realpath(__file__))\n",
    "_parentDir = os.path.dirname(_currentDir)\n",
    "sys.path.append(_parentDir)\n",
    "\n",
    "n = int(input(\"Nhập số n: \"))\n",
    "fw = open(\"../data/out.txt\", \"w\")\n",
    "for i in range(1, n+1):\n",
    "    if i % 2 == 0:\n",
    "        fw.write(str(i) + \"\\n\")\n",
    "fw.close()\n"
   ]
  },
  {
   "cell_type": "markdown",
   "metadata": {},
   "source": [
    "#### 11. Đọc file dữ liệu num_input.csv Hãy lưu trữ các số trong file vào chương trình. Sau đó, xuất ra màn hình tổng của các số trong file."
   ]
  },
  {
   "cell_type": "code",
   "execution_count": null,
   "metadata": {},
   "outputs": [],
   "source": [
    "# Đọc file dữ liệu num_input.csv Hãy lưu trữ các số trong file vào chương trình. Sau đó, xuất ra màn hình tổng của các số trong file.\n",
    "\n",
    "import os\n",
    "import sys\n",
    "import numpy as np\n",
    "\n",
    "__file__ = \"../data/num_input.csv\"\n",
    "_currentDir = os.path.dirname(os.path.realpath(__file__))\n",
    "_parentDir = os.path.dirname(_currentDir)\n",
    "sys.path.append(_parentDir)\n",
    "\n",
    "file = open(__file__, \"r\")\n",
    "flines = file.readlines()\n",
    "\n",
    "list = []\n",
    "\n",
    "for line in flines:\n",
    "    list = list + line.strip().split(\",\")\n",
    "\n",
    "list.remove('')\n",
    "print(list)\n",
    "\n",
    "list = [int(i) for i in list]\n",
    "print(list)\n",
    "\n",
    "sum = 0\n",
    "for i in list:\n",
    "    sum += i\n",
    "print(\"\\nSum = \", sum)"
   ]
  },
  {
   "cell_type": "markdown",
   "metadata": {},
   "source": [
    "#### 12. Tạo ra một list mới mang tên myUpper chứa các chuỗi trong myCharacter nhưng được viết hoa"
   ]
  },
  {
   "cell_type": "code",
   "execution_count": null,
   "metadata": {},
   "outputs": [],
   "source": [
    "# Tạo ra một list mới mang tên myUpper chứa các chuỗi trong myCharacter nhưng được viết hoa\n",
    "\n",
    "myCharacter = ['a', 'b', 'c', 'd', 'e', 'f', 'g', 'h', 'i', 'j']\n",
    "myUpper = []\n",
    "for i in myCharacter:\n",
    "    myUpper.append(i.upper())\n",
    "print(myUpper)\n"
   ]
  },
  {
   "cell_type": "markdown",
   "metadata": {},
   "source": [
    "#### 13. Hãy tạo danh sách myGreater5 là các số lớn hơn 5 được lấy từ myNumber"
   ]
  },
  {
   "cell_type": "code",
   "execution_count": 1,
   "metadata": {},
   "outputs": [
    {
     "name": "stdout",
     "output_type": "stream",
     "text": [
      "[6, 7, 8, 9, 10]\n"
     ]
    }
   ],
   "source": [
    "myNumber = [0,1,2,3,4,5,6,7,8,9,10]\n",
    "myGreater5 = [x for x in myNumber if x > 5]\n",
    "print(myGreater5)"
   ]
  },
  {
   "cell_type": "markdown",
   "metadata": {},
   "source": [
    "#### 14. Hãy tạo danh sách mySquare là các số bình phương của các giá trị được lấy từ myNumber"
   ]
  },
  {
   "cell_type": "code",
   "execution_count": 2,
   "metadata": {},
   "outputs": [
    {
     "name": "stdout",
     "output_type": "stream",
     "text": [
      "[0, 1, 4, 9, 16, 25, 36, 49, 64, 81, 100]\n"
     ]
    }
   ],
   "source": [
    "myNumber = [0,1,2,3,4,5,6,7,8,9,10]\n",
    "mySquare = [x*x for x in myNumber]\n",
    "print(mySquare)"
   ]
  },
  {
   "cell_type": "markdown",
   "metadata": {},
   "source": [
    "#### 15. Hãy tạo danh sách myEven là các số chẵn trong myNumber"
   ]
  },
  {
   "cell_type": "code",
   "execution_count": 3,
   "metadata": {},
   "outputs": [
    {
     "name": "stdout",
     "output_type": "stream",
     "text": [
      "[0, 2, 4, 6, 8, 10]\n"
     ]
    }
   ],
   "source": [
    "myNumber = [0,1,2,3,4,5,6,7,8,9,10]\n",
    "myEven = [x for x in myNumber if x % 2 == 0]\n",
    "print(myEven)"
   ]
  },
  {
   "cell_type": "markdown",
   "metadata": {},
   "source": [
    "#### 16. Hãy tạo danh sách myEvenSquare là các bình phương các số chẵn trong myNumber"
   ]
  },
  {
   "cell_type": "code",
   "execution_count": 6,
   "metadata": {},
   "outputs": [
    {
     "name": "stdout",
     "output_type": "stream",
     "text": [
      "[0, 4, 16, 36, 64, 100]\n"
     ]
    }
   ],
   "source": [
    "myNumber = [0,1,2,3,4,5,6,7,8,9,10]\n",
    "myEven = [x for x in myNumber if x % 2 == 0]\n",
    "myEvenSquare = [y*y for y in myEven]\n",
    "print(myEvenSquare)"
   ]
  },
  {
   "cell_type": "markdown",
   "metadata": {},
   "source": [
    "#### 17a. Hãy định nghĩa hàm tính lập phương của một số"
   ]
  },
  {
   "cell_type": "code",
   "execution_count": 1,
   "metadata": {},
   "outputs": [
    {
     "name": "stdout",
     "output_type": "stream",
     "text": [
      "1000\n"
     ]
    }
   ],
   "source": [
    "ketqua = lambda x: x**3\n",
    "print(ketqua(10))"
   ]
  },
  {
   "cell_type": "markdown",
   "metadata": {},
   "source": [
    "#### 17b. Hãy lấy ra danh sách các số là số chẵn"
   ]
  },
  {
   "cell_type": "code",
   "execution_count": 1,
   "metadata": {},
   "outputs": [
    {
     "name": "stdout",
     "output_type": "stream",
     "text": [
      "[0, 2, 4, 6, 8, 10]\n"
     ]
    }
   ],
   "source": [
    "myNumber = [0,1,2,3,4,5,6,7,8,9,10]\n",
    "myEven = list(filter(lambda x: (x % 2 == 0), myNumber))\n",
    "print(myEven)"
   ]
  },
  {
   "cell_type": "markdown",
   "metadata": {},
   "source": [
    "#### 18a. Hãy lấy ra danh sách myChanChuc các số là số chẵn và chia hết cho 5"
   ]
  },
  {
   "cell_type": "code",
   "execution_count": 2,
   "metadata": {},
   "outputs": [
    {
     "name": "stdout",
     "output_type": "stream",
     "text": [
      "[0, 10]\n"
     ]
    }
   ],
   "source": [
    "myNumber = [0,1,2,3,4,5,6,7,8,9,10]\n",
    "myChanChuc = list(filter(lambda x: (x % 2 == 0 and x % 5 == 0), myNumber))\n",
    "print(myChanChuc)"
   ]
  },
  {
   "cell_type": "markdown",
   "metadata": {},
   "source": [
    "#### 18b. Tạo ra danh sách myLapPhuong lập phương các số trong myNumber"
   ]
  },
  {
   "cell_type": "code",
   "execution_count": 3,
   "metadata": {},
   "outputs": [
    {
     "name": "stdout",
     "output_type": "stream",
     "text": [
      "[0, 1, 8, 27, 64, 125, 216, 343, 512, 729, 1000]\n"
     ]
    }
   ],
   "source": [
    "myNumber = [0,1,2,3,4,5,6,7,8,9,10]\n",
    "myLapPhuong = list(map(lambda x: x**3, myNumber))\n",
    "print(myLapPhuong)"
   ]
  },
  {
   "cell_type": "markdown",
   "metadata": {},
   "source": [
    "#### 19. Cho 1 danh sách bao gồm các chuỗi chứa các chữ số."
   ]
  },
  {
   "cell_type": "code",
   "execution_count": 6,
   "metadata": {},
   "outputs": [
    {
     "name": "stdout",
     "output_type": "stream",
     "text": [
      "['1', '3', '5', '9', '27', '123']\n",
      "['1', '123', '27', '3', '5', '9']\n"
     ]
    }
   ],
   "source": [
    "# Cho 1 danh sách bao gồm các chuỗi chứa các chữ số.\n",
    "# Ví dụ: A = [‘3’, ‘27’,’5’,’123’,’9’,’1’]. Viết hàm sắp xếp chuỗi tăng dần theo hai kiểu (string compare hoặc integer compare)\n",
    "\n",
    "# Ví dụ:\n",
    "## string compare ( so sánh theo thứ tự từ điển)\n",
    "## Danh sách A sau khi được sắp xếp [‘1’, ‘123’,’27’,’3’,’5’,’9’]\n",
    "## integer compare (so sánh theo số nguyên)\n",
    "## Danh sách A sau khi được sắp xếp [‘1’, ‘3’,’5’,’9’,’27’,’123’]\n",
    "\n",
    "# Gợi ý dùng sorted() và key function\n",
    "\n",
    "A = ['3', '27', '5', '123', '9', '1']\n",
    "print(sorted(A, key=int))\n",
    "print(sorted(A, key=str))\n"
   ]
  },
  {
   "cell_type": "markdown",
   "metadata": {},
   "source": [
    "#### 20. Viết chương trình in list sau khi đã xóa số tại vị trí thứ 1, thứ 2, thứ 3, thứ 6 trong [12,24,35,70,88,120,155]."
   ]
  },
  {
   "cell_type": "code",
   "execution_count": 7,
   "metadata": {},
   "outputs": [
    {
     "name": "stdout",
     "output_type": "stream",
     "text": [
      "[70, 88, 155]\n"
     ]
    }
   ],
   "source": [
    "# Viết chương trình in list sau khi đã xóa số tại vị trí thứ 1, thứ 2, thứ 3, thứ 6 trong [12,24,35,70,88,120,155].\n",
    "# Dùng list comprehension và enumerate()\n",
    "\n",
    "list = [12,24,35,70,88,120,155]\n",
    "list = [x for (i,x) in enumerate(list) if i not in (0,1,2,5)]\n",
    "print(list)\n"
   ]
  },
  {
   "cell_type": "markdown",
   "metadata": {},
   "source": [
    "#### 21. Xóa các phần tử trùng nhau trong list."
   ]
  },
  {
   "cell_type": "code",
   "execution_count": 8,
   "metadata": {},
   "outputs": [
    {
     "name": "stdout",
     "output_type": "stream",
     "text": [
      "[1, 2, 3, 5, 6, 7, 8]\n"
     ]
    }
   ],
   "source": [
    "# Xóa các phần tử trùng nhau trong list\n",
    "# Yêu cầu không dùng hàm của kiểu dữ liệu dictionary và set\n",
    "# Ví dụ:\n",
    "## Input A = [1, 2, 3, 1, 2, 5, 6, 7, 8]\n",
    "## Output B = [1, 2, 3, 5, 6, 7, 8]\n",
    "\n",
    "A = [1, 2, 3, 1, 2, 5, 6, 7, 8]\n",
    "B = []\n",
    "for i in A:\n",
    "    if i not in B:\n",
    "        B.append(i)\n",
    "print(B)\n"
   ]
  },
  {
   "cell_type": "markdown",
   "metadata": {},
   "source": [
    "#### 22. Đếm số lần xuất hiện của các phần tử trong list."
   ]
  },
  {
   "cell_type": "code",
   "execution_count": 9,
   "metadata": {},
   "outputs": [
    {
     "name": "stdout",
     "output_type": "stream",
     "text": [
      "1 : 4\n",
      "2 : 4\n",
      "3 : 2\n",
      "4 : 1\n",
      "5 : 2\n"
     ]
    }
   ],
   "source": [
    "# Đếm số lần xuất hiện của các phần tử trong list.\n",
    "# Yêu cầu không dùng hàm của kiểu dữ liệu dictionary và module collections\n",
    "# Ví dụ:\n",
    "## Input A = [1,1,1,1,2,2,2,2,3,3,4,5,5]\n",
    "## Output: 1: 4, 2: 4, 3:2, 4:1, 5:2\n",
    "\n",
    "A = [1,1,1,1,2,2,2,2,3,3,4,5,5]\n",
    "B = []\n",
    "for i in A:\n",
    "    if i not in B:\n",
    "        B.append(i)\n",
    "for i in B:\n",
    "    print(i, \":\", A.count(i))\n",
    "    "
   ]
  }
 ],
 "metadata": {
  "kernelspec": {
   "display_name": "venvcls",
   "language": "python",
   "name": "python3"
  },
  "language_info": {
   "codemirror_mode": {
    "name": "ipython",
    "version": 3
   },
   "file_extension": ".py",
   "mimetype": "text/x-python",
   "name": "python",
   "nbconvert_exporter": "python",
   "pygments_lexer": "ipython3",
   "version": "3.11.5"
  },
  "orig_nbformat": 4
 },
 "nbformat": 4,
 "nbformat_minor": 2
}
