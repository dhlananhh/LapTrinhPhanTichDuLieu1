{
  "cells": [
    {
      "cell_type": "markdown",
      "id": "c11e7372",
      "metadata": {
        "id": "c11e7372"
      },
      "source": [
        "# EDA (Exploratory Data Analysis)\n",
        "Thực hành trên bộ dữ liệu về xe hơi"
      ]
    },
    {
      "cell_type": "code",
      "execution_count": null,
      "id": "5dfceac3",
      "metadata": {
        "id": "5dfceac3"
      },
      "outputs": [],
      "source": [
        "import pandas as pd\n",
        "import numpy as np\n",
        "import seaborn as sns                       #visualization\n",
        "import matplotlib.pyplot as plt             #visualization"
      ]
    },
    {
      "cell_type": "markdown",
      "id": "2cf168ca",
      "metadata": {
        "id": "2cf168ca"
      },
      "source": [
        "## 1. Hiểu tổng quan về bộ dữ liệu"
      ]
    },
    {
      "cell_type": "markdown",
      "id": "4e3c5ee4",
      "metadata": {
        "id": "4e3c5ee4"
      },
      "source": [
        "### 1.1. Đọc dữ liệu từ file csv và hiển thị 5 dòng dữ liệu đầu tiên."
      ]
    },
    {
      "cell_type": "code",
      "execution_count": null,
      "id": "56444947",
      "metadata": {
        "id": "56444947"
      },
      "outputs": [],
      "source": [
        "pd.read_csv()\n",
        "pd.head()"
      ]
    },
    {
      "cell_type": "markdown",
      "id": "2ca4a34f",
      "metadata": {
        "id": "2ca4a34f"
      },
      "source": [
        "### 1.2. Hiển thị 5 dòng dữ liệu cuối cùng"
      ]
    },
    {
      "cell_type": "code",
      "execution_count": null,
      "id": "f5749169",
      "metadata": {
        "id": "f5749169"
      },
      "outputs": [],
      "source": [
        "pd.tail()"
      ]
    },
    {
      "cell_type": "markdown",
      "id": "f9b4305c",
      "metadata": {
        "id": "f9b4305c"
      },
      "source": [
        "### 1.3. Hiển thị kiểu dữ liệu của từng cột"
      ]
    },
    {
      "cell_type": "code",
      "execution_count": null,
      "id": "328c7086",
      "metadata": {
        "id": "328c7086"
      },
      "outputs": [],
      "source": [
        "df.dtypes"
      ]
    },
    {
      "cell_type": "markdown",
      "id": "bc613b57",
      "metadata": {
        "id": "bc613b57"
      },
      "source": [
        "## 2. Tiền xử lý dữ liệu"
      ]
    },
    {
      "cell_type": "markdown",
      "id": "3f5fc1ab",
      "metadata": {
        "id": "3f5fc1ab"
      },
      "source": [
        "### 2.1. Xóa đi các cột không quan tâm\n",
        "Hãy xóa các cột: 'Engine Fuel Type', 'Market Category', 'Vehicle Style', 'Popularity', 'Number of Doors', 'Vehicle Size'\n",
        "Sau đó, hiển thị lại 5 dòng dữ liệu đầu tiên"
      ]
    },
    {
      "cell_type": "code",
      "execution_count": null,
      "id": "62b03b5f",
      "metadata": {
        "id": "62b03b5f"
      },
      "outputs": [],
      "source": [
        "df.drop()"
      ]
    },
    {
      "cell_type": "code",
      "execution_count": null,
      "id": "bbdbee6a",
      "metadata": {
        "id": "bbdbee6a"
      },
      "outputs": [],
      "source": []
    },
    {
      "cell_type": "markdown",
      "id": "d862ce1f",
      "metadata": {
        "id": "d862ce1f"
      },
      "source": [
        "### 2.2. Đổi tên các cột để ngắn gọn hơn\n",
        "\n",
        "Đổi tên các cột như sau:\n",
        "\n",
        "\"Engine HP\": \"HP\",\n",
        "\n",
        "\"Engine Cylinders\": \"Cylinders\",\n",
        "\n",
        "\"Transmission Type\": \"Transmission\",\n",
        "\n",
        "\"Driven_Wheels\": \"Drive Mode\",\n",
        "\n",
        "\"highway MPG\": \"MPG-H\",\n",
        "\n",
        "\"city mpg\": \"MPG-C\",\n",
        "\n",
        "\"MSRP\": \"Price\"\n",
        "\n",
        "Sau đó, hiển thị lại 5 dòng dữ liệu đầu tiên"
      ]
    },
    {
      "cell_type": "code",
      "execution_count": null,
      "id": "50bdc55c",
      "metadata": {
        "id": "50bdc55c"
      },
      "outputs": [],
      "source": [
        "df = df.rename()"
      ]
    },
    {
      "cell_type": "code",
      "execution_count": null,
      "id": "aa23f878",
      "metadata": {
        "id": "aa23f878"
      },
      "outputs": [],
      "source": []
    },
    {
      "cell_type": "markdown",
      "id": "0b4a1ff5",
      "metadata": {
        "id": "0b4a1ff5"
      },
      "source": [
        "### 2.3. Xử lý dữ liệu trùng lặp"
      ]
    },
    {
      "cell_type": "markdown",
      "id": "a0e54661",
      "metadata": {
        "id": "a0e54661"
      },
      "source": [
        "#### Hiển thị số dòng và số cột của bảng dữ liệu"
      ]
    },
    {
      "cell_type": "code",
      "execution_count": null,
      "id": "4a8c1395",
      "metadata": {
        "id": "4a8c1395"
      },
      "outputs": [],
      "source": [
        "df.shape"
      ]
    },
    {
      "cell_type": "markdown",
      "id": "f7b6a9df",
      "metadata": {
        "id": "f7b6a9df"
      },
      "source": [
        "#### Hiển thị các dòng dữ liệu bị trùng"
      ]
    },
    {
      "cell_type": "code",
      "execution_count": null,
      "id": "1af6c3f2",
      "metadata": {
        "id": "1af6c3f2"
      },
      "outputs": [],
      "source": [
        "df.duplicated()"
      ]
    },
    {
      "cell_type": "markdown",
      "id": "38995eb9",
      "metadata": {
        "id": "38995eb9"
      },
      "source": [
        "#### Hiển thị số lượng giá trị phân biệt (khác nhau đôi một) của từng cột dữ liệu"
      ]
    },
    {
      "cell_type": "code",
      "execution_count": null,
      "id": "81a71af4",
      "metadata": {
        "id": "81a71af4"
      },
      "outputs": [],
      "source": [
        "df.count()"
      ]
    },
    {
      "cell_type": "markdown",
      "id": "f4b7b2b5",
      "metadata": {
        "id": "f4b7b2b5"
      },
      "source": [
        "#### Xóa đi những dữ liệu bị trùng lặp"
      ]
    },
    {
      "cell_type": "code",
      "execution_count": null,
      "id": "d94ffae1",
      "metadata": {
        "id": "d94ffae1"
      },
      "outputs": [],
      "source": [
        "df.drop_duplicates()"
      ]
    },
    {
      "cell_type": "markdown",
      "id": "7ca7b571",
      "metadata": {
        "id": "7ca7b571"
      },
      "source": [
        "#### Hiển thị lại số lượng giá trị phân biệt (khác nhau đôi một) của từng cột dữ liệu"
      ]
    },
    {
      "cell_type": "code",
      "execution_count": null,
      "id": "57ed14ac",
      "metadata": {
        "id": "57ed14ac"
      },
      "outputs": [],
      "source": []
    },
    {
      "cell_type": "markdown",
      "id": "5d98bc89",
      "metadata": {
        "id": "5d98bc89"
      },
      "source": [
        "### 2.4. Xử lý dữ liệu rỗng"
      ]
    },
    {
      "cell_type": "markdown",
      "id": "6eec6e8a",
      "metadata": {
        "id": "6eec6e8a"
      },
      "source": [
        "#### Hiển thị số lượng giá trị rỗng của từng cột dữ liệu"
      ]
    },
    {
      "cell_type": "code",
      "execution_count": null,
      "id": "7f0bf9f0",
      "metadata": {
        "id": "7f0bf9f0"
      },
      "outputs": [],
      "source": [
        "df.isnull()"
      ]
    },
    {
      "cell_type": "markdown",
      "id": "d6a03baf",
      "metadata": {
        "id": "d6a03baf"
      },
      "source": [
        "#### Xóa đi các giá trị rỗng, sau đó hiển thị lại số lượng giá trị phân biệt của từng cột."
      ]
    },
    {
      "cell_type": "code",
      "execution_count": null,
      "id": "effee9c5",
      "metadata": {
        "id": "effee9c5"
      },
      "outputs": [],
      "source": [
        "df.dropna()"
      ]
    },
    {
      "cell_type": "markdown",
      "id": "387d0625",
      "metadata": {
        "id": "387d0625"
      },
      "source": [
        "#### Hiển thị lại số lượng giá trị rỗng của từng cột dữ liệu"
      ]
    },
    {
      "cell_type": "code",
      "execution_count": null,
      "id": "f0dd7d59",
      "metadata": {
        "id": "f0dd7d59"
      },
      "outputs": [],
      "source": []
    },
    {
      "cell_type": "markdown",
      "id": "c6bc02d0",
      "metadata": {
        "id": "c6bc02d0"
      },
      "source": [
        "### 2.5. Xử lý outlier"
      ]
    },
    {
      "cell_type": "markdown",
      "id": "57bc8fad",
      "metadata": {
        "id": "57bc8fad"
      },
      "source": [
        "#### Vẽ boxplot cho cột Price"
      ]
    },
    {
      "cell_type": "code",
      "execution_count": null,
      "id": "a1aeb98e",
      "metadata": {
        "id": "a1aeb98e"
      },
      "outputs": [],
      "source": []
    },
    {
      "cell_type": "markdown",
      "id": "c9ca47fb",
      "metadata": {
        "id": "c9ca47fb"
      },
      "source": [
        "#### Vẽ boxplot cho cột HP"
      ]
    },
    {
      "cell_type": "code",
      "execution_count": null,
      "id": "6daef509",
      "metadata": {
        "id": "6daef509"
      },
      "outputs": [],
      "source": []
    },
    {
      "cell_type": "markdown",
      "id": "b9ee0fbd",
      "metadata": {
        "id": "b9ee0fbd"
      },
      "source": [
        "####  Vẽ boxplot cho cột Cylinders"
      ]
    },
    {
      "cell_type": "code",
      "execution_count": null,
      "id": "6cbc1242",
      "metadata": {
        "id": "6cbc1242"
      },
      "outputs": [],
      "source": []
    },
    {
      "cell_type": "markdown",
      "id": "77adad38",
      "metadata": {
        "id": "77adad38"
      },
      "source": [
        "#### Tìm độ trải giữa (IQR) của từng cột dữ liệu"
      ]
    },
    {
      "cell_type": "code",
      "execution_count": null,
      "id": "031b89d0",
      "metadata": {
        "id": "031b89d0"
      },
      "outputs": [],
      "source": []
    },
    {
      "cell_type": "markdown",
      "id": "b68d2a47",
      "metadata": {
        "id": "b68d2a47"
      },
      "source": [
        "#### Loại bỏ đi outlier"
      ]
    },
    {
      "cell_type": "code",
      "execution_count": null,
      "id": "1ca73140",
      "metadata": {
        "id": "1ca73140"
      },
      "outputs": [],
      "source": []
    },
    {
      "cell_type": "markdown",
      "id": "e2a03b9e",
      "metadata": {
        "id": "e2a03b9e"
      },
      "source": [
        "## 3. Trực quan hóa dữ liệu"
      ]
    },
    {
      "cell_type": "markdown",
      "id": "c7636e8d",
      "metadata": {
        "id": "c7636e8d"
      },
      "source": [
        "### 3.1. Vẽ histogram cho cột Make"
      ]
    },
    {
      "cell_type": "code",
      "execution_count": null,
      "id": "40f78a75",
      "metadata": {
        "id": "40f78a75"
      },
      "outputs": [],
      "source": []
    },
    {
      "cell_type": "markdown",
      "id": "dd2daa3b",
      "metadata": {
        "id": "dd2daa3b"
      },
      "source": [
        "### 3.2. Vẽ biểu đồ nhiệt"
      ]
    },
    {
      "cell_type": "code",
      "execution_count": null,
      "id": "9de69140",
      "metadata": {
        "id": "9de69140"
      },
      "outputs": [],
      "source": []
    },
    {
      "cell_type": "markdown",
      "id": "be0d4b85",
      "metadata": {
        "id": "be0d4b85"
      },
      "source": [
        "### 3.3. Vẽ biểu đồ scatter cho Price và HP"
      ]
    },
    {
      "cell_type": "code",
      "execution_count": null,
      "id": "224fd5e9",
      "metadata": {
        "id": "224fd5e9"
      },
      "outputs": [],
      "source": []
    }
  ],
  "metadata": {
    "kernelspec": {
      "display_name": "Python 3 (ipykernel)",
      "language": "python",
      "name": "python3"
    },
    "language_info": {
      "codemirror_mode": {
        "name": "ipython",
        "version": 3
      },
      "file_extension": ".py",
      "mimetype": "text/x-python",
      "name": "python",
      "nbconvert_exporter": "python",
      "pygments_lexer": "ipython3",
      "version": "3.9.13"
    },
    "colab": {
      "provenance": []
    }
  },
  "nbformat": 4,
  "nbformat_minor": 5
}